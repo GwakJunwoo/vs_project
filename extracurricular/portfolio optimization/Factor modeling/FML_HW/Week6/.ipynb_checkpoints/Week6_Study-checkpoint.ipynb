{
 "cells": [
  {
   "cell_type": "code",
   "execution_count": null,
   "metadata": {},
   "outputs": [],
   "source": [
    "import os, sys\n",
    "\n",
    "def checkPath(path):\n",
    "    for i in range(5):\n",
    "        position = os.getcwd()\n",
    "        v = position.split('\\\\')\n",
    "        if v[-1]==path:\n",
    "            break\n",
    "        else:\n",
    "            os.chdir('../')\n",
    "    print(os.getcwd())\n",
    "    \n",
    "if __name__=='__main__':\n",
    "    checkPath('FBA Quant')"
   ]
  },
  {
   "cell_type": "code",
   "execution_count": null,
   "metadata": {},
   "outputs": [],
   "source": [
    "from zipline.zipline.assets._assets import Equity  # Required for USEquityPricing\n",
    "from zipline.zipline.pipeline.data import USEquityPricing\n",
    "from zipline.zipline.pipeline.classifiers import Classifier\n",
    "from zipline.zipline.pipeline.engine import SimplePipelineEngine\n",
    "from zipline.zipline.pipeline.loaders import USEquityPricingLoader\n",
    "from zipline.zipline.utils.numpy_utils import int64_dtype"
   ]
  },
  {
   "cell_type": "code",
   "execution_count": null,
   "metadata": {},
   "outputs": [],
   "source": []
  }
 ],
 "metadata": {
  "kernelspec": {
   "display_name": "Python 3",
   "language": "python",
   "name": "python3"
  },
  "language_info": {
   "codemirror_mode": {
    "name": "ipython",
    "version": 3
   },
   "file_extension": ".py",
   "mimetype": "text/x-python",
   "name": "python",
   "nbconvert_exporter": "python",
   "pygments_lexer": "ipython3",
   "version": "3.7.11"
  }
 },
 "nbformat": 4,
 "nbformat_minor": 4
}
