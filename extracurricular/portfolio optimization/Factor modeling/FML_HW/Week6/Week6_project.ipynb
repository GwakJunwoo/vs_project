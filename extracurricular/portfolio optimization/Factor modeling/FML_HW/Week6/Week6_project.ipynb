{
 "cells": [
  {
   "cell_type": "code",
   "execution_count": null,
   "metadata": {},
   "outputs": [],
   "source": [
    "import pandas as pd\n",
    "import numpy as np\n",
    "import datetime\n",
    "from calendar import monthrange\n",
    "\n",
    "!pip install dateutil\n",
    "from dateutil.relativedelta import relativedelta\n",
    "\n",
    "import matplotlib.pyplot as plt\n",
    "\n",
    "!pip install seaborn\n",
    "import seaborn as sns\n",
    "plt.style.use('seaborn')\n",
    "plt.rcParams['patch.facecolor'] = 'white'\n",
    "plt.rcParams['figure.figsize'] = 15, 7\n",
    "import graphviz\n",
    "\n",
    "!pip install pyreadr\n",
    "import pyreadr\n",
    "\n",
    "# Regression type stuff\n",
    "from statsmodels.formula.api import ols\n",
    "from statsmodels.graphics.tsaplots import plot_pacf\n",
    "from statsmodels.distributions.empirical_distribution import ECDF\n",
    "from sklearn.linear_model import Lasso, Ridge, ElasticNet\n",
    "\n",
    "# Trees\n",
    "from sklearn import tree\n",
    "from sklearn.ensemble import RandomForestRegressor, RandomForestClassifier, AdaBoostClassifier\n",
    "from xgboost import XGBClassifier\n",
    "\n",
    "# Deep learning stuff\n",
    "import tensorflow as tf\n",
    "from tensorflow import keras"
   ]
  },
  {
   "cell_type": "code",
   "execution_count": null,
   "metadata": {},
   "outputs": [],
   "source": []
  }
 ],
 "metadata": {
  "kernelspec": {
   "display_name": "Python 3",
   "language": "python",
   "name": "python3"
  },
  "language_info": {
   "codemirror_mode": {
    "name": "ipython",
    "version": 3
   },
   "file_extension": ".py",
   "mimetype": "text/x-python",
   "name": "python",
   "nbconvert_exporter": "python",
   "pygments_lexer": "ipython3",
   "version": "3.7.11"
  }
 },
 "nbformat": 4,
 "nbformat_minor": 4
}
