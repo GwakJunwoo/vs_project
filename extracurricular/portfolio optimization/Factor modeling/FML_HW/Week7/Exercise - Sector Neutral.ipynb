{
 "cells": [
  {
   "cell_type": "markdown",
   "metadata": {},
   "source": [
    "# <span style='color:red'> Alpha Factor </span>"
   ]
  },
  {
   "cell_type": "markdown",
   "metadata": {},
   "source": [
    "## Install packages"
   ]
  },
  {
   "cell_type": "code",
   "execution_count": 1,
   "metadata": {
    "scrolled": true
   },
   "outputs": [],
   "source": [
    "import cvxpy as cvx\n",
    "import numpy as np\n",
    "import pandas as pd\n",
    "import time\n",
    "import os\n",
    "import quiz_helper\n",
    "import matplotlib.pyplot as plt"
   ]
  },
  {
   "cell_type": "code",
   "execution_count": 2,
   "metadata": {},
   "outputs": [],
   "source": [
    "%matplotlib inline\n",
    "plt.style.use('ggplot')\n",
    "plt.rcParams['figure.figsize'] = (14, 8)"
   ]
  },
  {
   "cell_type": "markdown",
   "metadata": {},
   "source": [
    "## following zipline bundle documentation\n",
    "\n",
    "http://www.zipline.io/bundles.html#ingesting-data-from-csv-files"
   ]
  },
  {
   "cell_type": "markdown",
   "metadata": {},
   "source": [
    "### data bundle"
   ]
  },
  {
   "cell_type": "code",
   "execution_count": 3,
   "metadata": {},
   "outputs": [],
   "source": [
    "import os\n",
    "import quiz_helper\n",
    "from zipline.data import bundles"
   ]
  },
  {
   "cell_type": "code",
   "execution_count": 4,
   "metadata": {},
   "outputs": [
    {
     "name": "stdout",
     "output_type": "stream",
     "text": [
      "Data Registered\n"
     ]
    }
   ],
   "source": [
    "os.environ['ZIPLINE_ROOT'] = os.path.join(os.getcwd(),'data','module_4_quizzes_eod')\n",
    "ingest_func = bundles.csvdir.csvdir_equities(['daily'], quiz_helper.EOD_BUNDLE_NAME)\n",
    "bundles.register(quiz_helper.EOD_BUNDLE_NAME, ingest_func)\n",
    "print('Data Registered')"
   ]
  },
  {
   "cell_type": "markdown",
   "metadata": {},
   "source": [
    "### Build pipeline engine"
   ]
  },
  {
   "cell_type": "code",
   "execution_count": 5,
   "metadata": {},
   "outputs": [],
   "source": [
    "from zipline.pipeline import Pipeline\n",
    "from zipline.pipeline.factors import AverageDollarVolume\n",
    "from zipline.utils.calendars import get_calendar\n",
    "\n",
    "universe = AverageDollarVolume(window_length=120).top(500) \n",
    "trading_calendar = get_calendar('NYSE') \n",
    "bundle_data = bundles.load('USA_bundle')\n",
    "engine = quiz_helper.build_pipeline_engine(bundle_data, trading_calendar)"
   ]
  },
  {
   "cell_type": "markdown",
   "metadata": {},
   "source": [
    "### View Data¶\n",
    "With the pipeline engine built, let's get the stocks at the end of the period in the universe we're using. We'll use these tickers to generate the returns data for the our risk model."
   ]
  },
  {
   "cell_type": "code",
   "execution_count": 6,
   "metadata": {},
   "outputs": [
    {
     "data": {
      "text/plain": "[Equity(0 [A]),\n Equity(1 [AA]),\n Equity(9 [AAL]),\n Equity(15 [AAPL]),\n Equity(23 [ABBV]),\n Equity(35 [ABNB]),\n Equity(41 [ABT]),\n Equity(81 [ACN]),\n Equity(104 [ACWI]),\n Equity(110 [ADBE]),\n Equity(121 [ADM]),\n Equity(130 [ADP]),\n Equity(134 [ADSK]),\n Equity(163 [AEP]),\n Equity(190 [AFL]),\n Equity(192 [AFRM]),\n Equity(210 [AGG]),\n Equity(255 [AIG]),\n Equity(298 [AL]),\n Equity(303 [ALB]),\n Equity(316 [ALGN]),\n Equity(326 [ALL]),\n Equity(364 [AMAT]),\n Equity(369 [AMC]),\n Equity(374 [AMD]),\n Equity(379 [AMGN]),\n Equity(413 [AMT]),\n Equity(422 [AMZN]),\n Equity(432 [ANET]),\n Equity(447 [ANTM]),\n Equity(465 [APA]),\n Equity(467 [APD]),\n Equity(473 [APH]),\n Equity(480 [APO]),\n Equity(488 [APPS]),\n Equity(498 [APTV]),\n Equity(546 [ARKK]),\n Equity(577 [ASAN]),\n Equity(597 [ASML]),\n Equity(627 [ATER]),\n Equity(662 [ATVI]),\n Equity(705 [AVGO]),\n Equity(751 [AXP]),\n Equity(770 [AZN]),\n Equity(771 [AZO]),\n Equity(782 [BABA]),\n Equity(783 [BAC]),\n Equity(805 [BAX]),\n Equity(819 [BBIG]),\n Equity(823 [BBL]),\n Equity(838 [BBWI]),\n Equity(886 [BDX]),\n Equity(888 [BE]),\n Equity(893 [BEKE]),\n Equity(948 [BHP]),\n Equity(956 [BIDU]),\n Equity(958 [BIG]),\n Equity(960 [BIIB]),\n Equity(962 [BILI]),\n Equity(963 [BILL]),\n Equity(977 [BITO]),\n Equity(1003 [BKKT]),\n Equity(1005 [BKLN]),\n Equity(1008 [BKNG]),\n Equity(1033 [BLK]),\n Equity(1035 [BLL]),\n Equity(1068 [BMY]),\n Equity(1086 [BNTX]),\n Equity(1146 [BRK-A]),\n Equity(1147 [BRK-B]),\n Equity(1192 [BSML]),\n Equity(1200 [BSV]),\n Equity(1203 [BSX]),\n Equity(1235 [BURL]),\n Equity(1239 [BV]),\n Equity(1258 [BX]),\n Equity(1271 [BYND]),\n Equity(1316 [CAR]),\n Equity(1320 [CARR]),\n Equity(1329 [CAT]),\n Equity(1368 [CCI]),\n Equity(1372 [CCL]),\n Equity(1404 [CDNS]),\n Equity(1440 [CERN]),\n Equity(1457 [CFG]),\n Equity(1529 [CHPT]),\n Equity(1540 [CHTR]),\n Equity(1544 [CHWY]),\n Equity(1594 [CLF]),\n Equity(1640 [CMCSA]),\n Equity(1644 [CME]),\n Equity(1646 [CMG]),\n Equity(1647 [CMI]),\n Equity(1672 [CN]),\n Equity(1687 [CNI]),\n Equity(1721 [COF]),\n Equity(1729 [COIN]),\n Equity(1743 [CONE]),\n Equity(1750 [COP]),\n Equity(1758 [COST]),\n Equity(1760 [COUP]),\n Equity(1784 [CPNG]),\n Equity(1825 [CRM]),\n Equity(1833 [CROX]),\n Equity(1848 [CRWD]),\n Equity(1856 [CSCO]),\n Equity(1883 [CSX]),\n Equity(1888 [CTAS]),\n Equity(1906 [CTRA]),\n Equity(1910 [CTSH]),\n Equity(1917 [CTXS]),\n Equity(1949 [CVNA]),\n Equity(1952 [CVS]),\n Equity(1956 [CVX]),\n Equity(1967 [CWI]),\n Equity(2002 [CZR]),\n Equity(2008 [DAL]),\n Equity(2016 [DASH]),\n Equity(2032 [DBE]),\n Equity(2084 [DDOG]),\n Equity(2096 [DELL]),\n Equity(2127 [DFS]),\n Equity(2146 [DGX]),\n Equity(2154 [DHI]),\n Equity(2156 [DHR]),\n Equity(2161 [DIA]),\n Equity(2174 [DIS]),\n Equity(2176 [DISCA]),\n Equity(2194 [DKNG]),\n Equity(2195 [DKS]),\n Equity(2205 [DLR]),\n Equity(2209 [DLTR]),\n Equity(2212 [DM]),\n Equity(2240 [DOCN]),\n Equity(2241 [DOCS]),\n Equity(2242 [DOCU]),\n Equity(2243 [DOG]),\n Equity(2254 [DOW]),\n Equity(2261 [DPZ]),\n Equity(2268 [DRI]),\n Equity(2327 [DUK]),\n Equity(2345 [DVN]),\n Equity(2350 [DWAC]),\n Equity(2367 [DXCM]),\n Equity(2401 [EBAY]),\n Equity(2421 [ECL]),\n Equity(2460 [EEM]),\n Equity(2482 [EFX]),\n Equity(2536 [EMB]),\n Equity(2555 [EMR]),\n Equity(2561 [ENB]),\n Equity(2580 [ENPH]),\n Equity(2603 [EOG]),\n Equity(2610 [EPAM]),\n Equity(2636 [EQIX]),\n Equity(2644 [EQT]),\n Equity(2712 [ETN]),\n Equity(2718 [ETSY]),\n Equity(2771 [EWC]),\n Equity(2779 [EWJ]),\n Equity(2793 [EWT]),\n Equity(2799 [EWY]),\n Equity(2800 [EWZ]),\n Equity(2804 [EXC]),\n Equity(2816 [EXPE]),\n Equity(2846 [FANG]),\n Equity(2851 [FAST]),\n Equity(2880 [FCEL]),\n Equity(2899 [FCX]),\n Equity(2924 [FDX]),\n Equity(2997 [FIS]),\n Equity(2999 [FISV]),\n Equity(3000 [FITB]),\n Equity(3008 [FIVN]),\n Equity(3019 [FL]),\n Equity(3172 [FRC]),\n Equity(3238 [FTCH]),\n Equity(3256 [FTNT]),\n Equity(3285 [FUTU]),\n Equity(3313 [FXI]),\n Equity(3392 [GDX]),\n Equity(3394 [GDXJ]),\n Equity(3475 [GILD]),\n Equity(3481 [GIS]),\n Equity(3492 [GLD]),\n Equity(3531 [GLW]),\n Equity(3540 [GME]),\n Equity(3568 [GNRC]),\n Equity(3589 [GOLD]),\n Equity(3593 [GOOG]),\n Equity(3594 [GOOGL]),\n Equity(3612 [GPN]),\n Equity(3618 [GPS]),\n Equity(3671 [GSK]),\n Equity(3708 [GUSH]),\n Equity(3744 [HAL]),\n Equity(3757 [HBAN]),\n Equity(3767 [HCA]),\n Equity(3819 [HES]),\n Equity(3885 [HLT]),\n Equity(3916 [HON]),\n Equity(3918 [HOOD]),\n Equity(3925 [HP]),\n Equity(3930 [HPQ]),\n Equity(3986 [HUBS]),\n Equity(3989 [HUM]),\n Equity(4018 [HYG]),\n Equity(4050 [IAU]),\n Equity(4069 [IBM]),\n Equity(4119 [IDU]),\n Equity(4122 [IDXX]),\n Equity(4128 [IEF]),\n Equity(4134 [IEMG]),\n Equity(4144 [IFF]),\n Equity(4171 [IGSB]),\n Equity(4202 [IJH]),\n Equity(4205 [IJR]),\n Equity(4216 [ILMN]),\n Equity(4276 [INFO]),\n Equity(4278 [INFY]),\n Equity(4305 [INTC]),\n Equity(4309 [INTU]),\n Equity(4358 [IQV]),\n Equity(4396 [ISRG]),\n Equity(4416 [ITOT]),\n Equity(4425 [ITUB]),\n Equity(4426 [ITW]),\n Equity(4448 [IVV]),\n Equity(4451 [IWB]),\n Equity(4453 [IWD]),\n Equity(4455 [IWF]),\n Equity(4459 [IWM]),\n Equity(4460 [IWN]),\n Equity(4461 [IWO]),\n Equity(4476 [IXUS]),\n Equity(4484 [IYR]),\n Equity(4508 [JCI]),\n Equity(4525 [JETS]),\n Equity(4584 [JNJ]),\n Equity(4605 [JPM]),\n Equity(4643 [K]),\n Equity(4679 [KDP]),\n Equity(4680 [KE]),\n Equity(4689 [KEY]),\n Equity(4690 [KEYS]),\n Equity(4700 [KHC]),\n Equity(4716 [KKR]),\n Equity(4718 [KLAC]),\n Equity(4728 [KMB]),\n Equity(4732 [KMI]),\n Equity(4765 [KRE]),\n Equity(4786 [KSS]),\n Equity(4788 [KSU]),\n Equity(4812 [KWEB]),\n Equity(4820 [L]),\n Equity(4824 [LABU]),\n Equity(4845 [LB]),\n Equity(4865 [LCID]),\n Equity(4898 [LEN]),\n Equity(4937 [LHX]),\n Equity(4971 [LL]),\n Equity(5037 [LRCX]),\n Equity(5072 [LULU]),\n Equity(5077 [LUV]),\n Equity(5096 [LYB]),\n Equity(5098 [LYFT]),\n Equity(5104 [LYV]),\n Equity(5130 [MARA]),\n Equity(5136 [MAT]),\n Equity(5145 [MBB]),\n Equity(5168 [MCD]),\n Equity(5173 [MCHI]),\n Equity(5174 [MCHP]),\n Equity(5177 [MCK]),\n Equity(5191 [MDB]),\n Equity(5202 [MDLZ]),\n Equity(5225 [MELI]),\n Equity(5231 [MET]),\n Equity(5263 [MGM]),\n Equity(5324 [ML]),\n Equity(5344 [MMC]),\n Equity(5349 [MMM]),\n Equity(5372 [MNST]),\n Equity(5413 [MPC]),\n Equity(5419 [MPWR]),\n Equity(5437 [MRNA]),\n Equity(5439 [MRO]),\n Equity(5446 [MRVL]),\n Equity(5453 [MSCI]),\n Equity(5458 [MSFT]),\n Equity(5469 [MSTR]),\n Equity(5471 [MT]),\n Equity(5474 [MTB]),\n Equity(5478 [MTCH]),\n Equity(5600 [NCLH]),\n Equity(5621 [NEE]),\n Equity(5622 [NEM]),\n Equity(5634 [NET]),\n Equity(5652 [NFLX]),\n Equity(5693 [NIO]),\n Equity(5700 [NKE]),\n Equity(5744 [NOC]),\n Equity(5767 [NRC]),\n Equity(5806 [NTES]),\n Equity(5825 [NUAN]),\n Equity(5826 [NUE]),\n Equity(5840 [NVAX]),\n Equity(5844 [NVDA]),\n Equity(5885 [NXPI]),\n Equity(5930 [OCGN]),\n Equity(5931 [OCN]),\n Equity(5937 [ODFL]),\n Equity(5965 [OIH]),\n Equity(5972 [OKTA]),\n Equity(6022 [OPEN]),\n Equity(6045 [ORCL]),\n Equity(6052 [ORLY]),\n Equity(6075 [OTIS]),\n Equity(6106 [OXY]),\n Equity(6138 [PANW]),\n Equity(6144 [PATH]),\n Equity(6154 [PAYC]),\n Equity(6157 [PAYX]),\n Equity(6177 [PBR]),\n Equity(6185 [PCAR]),\n Equity(6189 [PCG]),\n Equity(6211 [PD]),\n Equity(6216 [PDD]),\n Equity(6241 [PENN]),\n Equity(6243 [PEP]),\n Equity(6258 [PFE]),\n Equity(6260 [PFF]),\n Equity(6298 [PGR]),\n Equity(6340 [PINS]),\n Equity(6357 [PKI]),\n Equity(6362 [PL]),\n Equity(6370 [PLD]),\n Equity(6383 [PLTR]),\n Equity(6384 [PLUG]),\n Equity(6410 [PNC]),\n Equity(6443 [PPG]),\n Equity(6511 [PRU]),\n Equity(6514 [PSA]),\n Equity(6556 [PSX]),\n Equity(6575 [PTON]),\n Equity(6608 [PXD]),\n Equity(6621 [PYPL]),\n Equity(6638 [QCOM]),\n Equity(6654 [QID]),\n Equity(6660 [QLD]),\n Equity(6690 [QRVO]),\n Equity(6747 [RBLX]),\n Equity(6795 [REGN]),\n Equity(6884 [RIOT]),\n Equity(6888 [RIVN]),\n Equity(6898 [RL]),\n Equity(6906 [RLY]),\n Equity(6908 [RM]),\n Equity(6931 [RNG]),\n Equity(6963 [ROK]),\n Equity(6965 [ROKU]),\n Equity(6974 [ROP]),\n Equity(6977 [ROST]),\n Equity(7019 [RUN]),\n Equity(7096 [SAN]),\n Equity(7107 [SAVA]),\n Equity(7110 [SBAC]),\n Equity(7126 [SBNY]),\n Equity(7136 [SBUX]),\n Equity(7147 [SCHD]),\n Equity(7159 [SCHP]),\n Equity(7162 [SCHW]),\n Equity(7167 [SCI]),\n Equity(7210 [SDOW]),\n Equity(7213 [SDS]),\n Equity(7223 [SEDG]),\n Equity(7304 [SHOP]),\n Equity(7308 [SHV]),\n Equity(7309 [SHW]),\n Equity(7348 [SIVB]),\n Equity(7382 [SLB]),\n Equity(7424 [SMH]),\n Equity(7444 [SNAP]),\n Equity(7462 [SNOW]),\n Equity(7467 [SNPS]),\n Equity(7484 [SOFI]),\n Equity(7512 [SOXL]),\n Equity(7515 [SOXX]),\n Equity(7524 [SPCE]),\n Equity(7537 [SPGI]),\n Equity(7553 [SPLG]),\n Equity(7554 [SPLK]),\n Equity(7557 [SPLV]),\n Equity(7568 [SPOT]),\n Equity(7575 [SPRT]),\n Equity(7594 [SPXL]),\n Equity(7596 [SPXS]),\n Equity(7598 [SPXU]),\n Equity(7605 [SPYG]),\n Equity(7615 [SQQQ]),\n Equity(7629 [SRE]),\n Equity(7632 [SRG]),\n Equity(7662 [SSO]),\n Equity(7724 [STT]),\n Equity(7752 [SV]),\n Equity(7766 [SVXY]),\n Equity(7777 [SWK]),\n Equity(7779 [SWKS]),\n Equity(7795 [SYF]),\n Equity(7798 [SYK]),\n Equity(7810 [SYY]),\n Equity(7889 [TDG]),\n Equity(7892 [TDOC]),\n Equity(7907 [TEAM]),\n Equity(7917 [TEL]),\n Equity(7925 [TER]),\n Equity(7953 [TGT]),\n Equity(8000 [TJX]),\n Equity(8015 [TLRY]),\n Equity(8039 [TMUS]),\n Equity(8085 [TQQQ]),\n Equity(8113 [TROW]),\n Equity(8127 [TRV]),\n Equity(8138 [TSCO]),\n Equity(8144 [TSLA]),\n Equity(8156 [TTD]),\n Equity(8168 [TTWO]),\n Equity(8193 [TWLO]),\n Equity(8206 [TWTR]),\n Equity(8221 [TZA]),\n Equity(8228 [UAL]),\n Equity(8230 [UAN]),\n Equity(8236 [UBER]),\n Equity(8245 [UBS]),\n Equity(8260 [UDOW]),\n Equity(8298 [ULTA]),\n Equity(8313 [UNH]),\n Equity(8319 [UNP]),\n Equity(8329 [UPRO]),\n Equity(8330 [UPS]),\n Equity(8331 [UPST]),\n Equity(8374 [USO]),\n Equity(8407 [UVXY]),\n Equity(8417 [V]),\n Equity(8423 [VALE]),\n Equity(8445 [VCIT]),\n Equity(8452 [VCSH]),\n Equity(8462 [VEA]),\n Equity(8467 [VEEV]),\n Equity(8490 [VEU]),\n Equity(8501 [VGK]),\n Equity(8502 [VGLT]),\n Equity(8506 [VGT]),\n Equity(8512 [VIAC]),\n Equity(8518 [VICI]),\n Equity(8525 [VIH]),\n Equity(8577 [VMW]),\n Equity(8587 [VNQ]),\n Equity(8639 [VRSK]),\n Equity(8643 [VRTX]),\n Equity(8662 [VTI]),\n Equity(8676 [VTWO]),\n Equity(8679 [VUG]),\n Equity(8691 [VWO]),\n Equity(8696 [VXUS]),\n Equity(8700 [VYM]),\n Equity(8723 [WBA]),\n Equity(8740 [WDAY]),\n Equity(8741 [WDC]),\n Equity(8755 [WELL]),\n Equity(8763 [WFC]),\n Equity(8805 [WLTW]),\n Equity(8807 [WMB]),\n Equity(8812 [WMT]),\n Equity(8817 [WOLF]),\n Equity(8822 [WORK]),\n Equity(8880 [WY]),\n Equity(8881 [WYNN]),\n Equity(8886 [XBI]),\n Equity(8902 [XHB]),\n Equity(8910 [XLB]),\n Equity(8912 [XLE]),\n Equity(8913 [XLF]),\n Equity(8915 [XLI]),\n Equity(8916 [XLK]),\n Equity(8917 [XLNX]),\n Equity(8919 [XLP]),\n Equity(8920 [XLRE]),\n Equity(8923 [XLU]),\n Equity(8925 [XLY]),\n Equity(8927 [XME]),\n Equity(8938 [XOM]),\n Equity(8943 [XOP]),\n Equity(8950 [XPEV]),\n Equity(9013 [YUM]),\n Equity(9020 [ZBH]),\n Equity(9029 [ZEN]),\n Equity(9048 [ZIM]),\n Equity(9061 [ZNGA]),\n Equity(9072 [ZTS])]"
     },
     "execution_count": 6,
     "metadata": {},
     "output_type": "execute_result"
    }
   ],
   "source": [
    "universe_end_date = pd.Timestamp('2022-02-08', tz='UTC')\n",
    "\n",
    "universe_tickers = engine\\\n",
    "    .run_pipeline(\n",
    "        Pipeline(screen=universe),\n",
    "        universe_end_date,\n",
    "        universe_end_date)\\\n",
    "    .index.get_level_values(1)\\\n",
    "    .values.tolist()\n",
    "    \n",
    "universe_tickers"
   ]
  },
  {
   "cell_type": "code",
   "execution_count": 26,
   "outputs": [
    {
     "name": "stdout",
     "output_type": "stream",
     "text": [
      "['A', 'AA', 'AAL', 'AAPL', 'ABBV', 'ABNB', 'ABT', 'ACN', 'ACWI', 'ADBE', 'ADM', 'ADP', 'ADSK', 'AEP', 'AFL', 'AFRM', 'AGG', 'AIG', 'AL', 'ALB', 'ALGN', 'ALL', 'AMAT', 'AMC', 'AMD', 'AMGN', 'AMT', 'AMZN', 'ANET', 'ANTM', 'APA', 'APD', 'APH', 'APO', 'APPS', 'APTV', 'ARKK', 'ASAN', 'ASML', 'ATER', 'ATVI', 'AVGO', 'AXP', 'AZN', 'AZO', 'BABA', 'BAC', 'BAX', 'BBIG', 'BBL', 'BBWI', 'BDX', 'BE', 'BEKE', 'BHP', 'BIDU', 'BIG', 'BIIB', 'BILI', 'BILL', 'BITO', 'BKKT', 'BKLN', 'BKNG', 'BLK', 'BLL', 'BMY', 'BNTX', 'BRK-A', 'BRK-B', 'BSML', 'BSV', 'BSX', 'BURL', 'BV', 'BX', 'BYND', 'CAR', 'CARR', 'CAT', 'CCI', 'CCL', 'CDNS', 'CERN', 'CFG', 'CHPT', 'CHTR', 'CHWY', 'CLF', 'CMCSA', 'CME', 'CMG', 'CMI', 'CN', 'CNI', 'COF', 'COIN', 'CONE', 'COP', 'COST', 'COUP', 'CPNG', 'CRM', 'CROX', 'CRWD', 'CSCO', 'CSX', 'CTAS', 'CTRA', 'CTSH', 'CTXS', 'CVNA', 'CVS', 'CVX', 'CWI', 'CZR', 'DAL', 'DASH', 'DBE', 'DDOG', 'DELL', 'DFS', 'DGX', 'DHI', 'DHR', 'DIA', 'DIS', 'DISCA', 'DKNG', 'DKS', 'DLR', 'DLTR', 'DM', 'DOCN', 'DOCS', 'DOCU', 'DOG', 'DOW', 'DPZ', 'DRI', 'DUK', 'DVN', 'DWAC', 'DXCM', 'EBAY', 'ECL', 'EEM', 'EFX', 'EMB', 'EMR', 'ENB', 'ENPH', 'EOG', 'EPAM', 'EQIX', 'EQT', 'ETN', 'ETSY', 'EWC', 'EWJ', 'EWT', 'EWY', 'EWZ', 'EXC', 'EXPE', 'FANG', 'FAST', 'FCEL', 'FCX', 'FDX', 'FIS', 'FISV', 'FITB', 'FIVN', 'FL', 'FRC', 'FTCH', 'FTNT', 'FUTU', 'FXI', 'GDX', 'GDXJ', 'GILD', 'GIS', 'GLD', 'GLW', 'GME', 'GNRC', 'GOLD', 'GOOG', 'GOOGL', 'GPN', 'GPS', 'GSK', 'GUSH', 'HAL', 'HBAN', 'HCA', 'HES', 'HLT', 'HON', 'HOOD', 'HP', 'HPQ', 'HUBS', 'HUM', 'HYG', 'IAU', 'IBM', 'IDU', 'IDXX', 'IEF', 'IEMG', 'IFF', 'IGSB', 'IJH', 'IJR', 'ILMN', 'INFO', 'INFY', 'INTC', 'INTU', 'IQV', 'ISRG', 'ITOT', 'ITUB', 'ITW', 'IVV', 'IWB', 'IWD', 'IWF', 'IWM', 'IWN', 'IWO', 'IXUS', 'IYR', 'JCI', 'JETS', 'JNJ', 'JPM', 'K', 'KDP', 'KE', 'KEY', 'KEYS', 'KHC', 'KKR', 'KLAC', 'KMB', 'KMI', 'KRE', 'KSS', 'KSU', 'KWEB', 'L', 'LABU', 'LB', 'LCID', 'LEN', 'LHX', 'LL', 'LRCX', 'LULU', 'LUV', 'LYB', 'LYFT', 'LYV', 'MARA', 'MAT', 'MBB', 'MCD', 'MCHI', 'MCHP', 'MCK', 'MDB', 'MDLZ', 'MELI', 'MET', 'MGM', 'ML', 'MMC', 'MMM', 'MNST', 'MPC', 'MPWR', 'MRNA', 'MRO', 'MRVL', 'MSCI', 'MSFT', 'MSTR', 'MT', 'MTB', 'MTCH', 'NCLH', 'NEE', 'NEM', 'NET', 'NFLX', 'NIO', 'NKE', 'NOC', 'NRC', 'NTES', 'NUAN', 'NUE', 'NVAX', 'NVDA', 'NXPI', 'OCGN', 'OCN', 'ODFL', 'OIH', 'OKTA', 'OPEN', 'ORCL', 'ORLY', 'OTIS', 'OXY', 'PANW', 'PATH', 'PAYC', 'PAYX', 'PBR', 'PCAR', 'PCG', 'PD', 'PDD', 'PENN', 'PEP', 'PFE', 'PFF', 'PGR', 'PINS', 'PKI', 'PL', 'PLD', 'PLTR', 'PLUG', 'PNC', 'PPG', 'PRU', 'PSA', 'PSX', 'PTON', 'PXD', 'PYPL', 'QCOM', 'QID', 'QLD', 'QRVO', 'RBLX', 'REGN', 'RIOT', 'RIVN', 'RL', 'RLY', 'RM', 'RNG', 'ROK', 'ROKU', 'ROP', 'ROST', 'RUN', 'SAN', 'SAVA', 'SBAC', 'SBNY', 'SBUX', 'SCHD', 'SCHP', 'SCHW', 'SCI', 'SDOW', 'SDS', 'SEDG', 'SHOP', 'SHV', 'SHW', 'SIVB', 'SLB', 'SMH', 'SNAP', 'SNOW', 'SNPS', 'SOFI', 'SOXL', 'SOXX', 'SPCE', 'SPGI', 'SPLG', 'SPLK', 'SPLV', 'SPOT', 'SPRT', 'SPXL', 'SPXS', 'SPXU', 'SPYG', 'SQQQ', 'SRE', 'SRG', 'SSO', 'STT', 'SV', 'SVXY', 'SWK', 'SWKS', 'SYF', 'SYK', 'SYY', 'TDG', 'TDOC', 'TEAM', 'TEL', 'TER', 'TGT', 'TJX', 'TLRY', 'TMUS', 'TQQQ', 'TROW', 'TRV', 'TSCO', 'TSLA', 'TTD', 'TTWO', 'TWLO', 'TWTR', 'TZA', 'UAL', 'UAN', 'UBER', 'UBS', 'UDOW', 'ULTA', 'UNH', 'UNP', 'UPRO', 'UPS', 'UPST', 'USO', 'UVXY', 'V', 'VALE', 'VCIT', 'VCSH', 'VEA', 'VEEV', 'VEU', 'VGK', 'VGLT', 'VGT', 'VIAC', 'VICI', 'VIH', 'VMW', 'VNQ', 'VRSK', 'VRTX', 'VTI', 'VTWO', 'VUG', 'VWO', 'VXUS', 'VYM', 'WBA', 'WDAY', 'WDC', 'WELL', 'WFC', 'WLTW', 'WMB', 'WMT', 'WOLF', 'WORK', 'WY', 'WYNN', 'XBI', 'XHB', 'XLB', 'XLE', 'XLF', 'XLI', 'XLK', 'XLNX', 'XLP', 'XLRE', 'XLU', 'XLY', 'XME', 'XOM', 'XOP', 'XPEV', 'YUM', 'ZBH', 'ZEN', 'ZIM', 'ZNGA', 'ZTS']\n"
     ]
    }
   ],
   "source": [
    "cnt = 0\n",
    "sl = list()\n",
    "for i in universe_tickers:\n",
    "    sl.append(i.symbol)\n",
    "print(sl)"
   ],
   "metadata": {
    "collapsed": false,
    "pycharm": {
     "name": "#%%\n"
    }
   }
  },
  {
   "cell_type": "markdown",
   "metadata": {},
   "source": [
    "# Get Returns data"
   ]
  },
  {
   "cell_type": "code",
   "execution_count": 7,
   "metadata": {},
   "outputs": [],
   "source": [
    "from zipline.data.data_portal import DataPortal\n",
    "\n",
    "data_portal = DataPortal(\n",
    "    bundle_data.asset_finder,\n",
    "    trading_calendar=trading_calendar,\n",
    "    first_trading_day=bundle_data.equity_daily_bar_reader.first_trading_day,\n",
    "    equity_minute_reader=None,\n",
    "    equity_daily_reader=bundle_data.equity_daily_bar_reader,\n",
    "    adjustment_reader=bundle_data.adjustment_reader)"
   ]
  },
  {
   "cell_type": "markdown",
   "metadata": {},
   "source": [
    "## Get pricing data helper function"
   ]
  },
  {
   "cell_type": "code",
   "execution_count": 8,
   "metadata": {},
   "outputs": [],
   "source": [
    "def get_pricing(data_portal, trading_calendar, assets, start_date, end_date, field='close'):\n",
    "    end_dt = pd.Timestamp(end_date.strftime('%Y-%m-%d'), tz='UTC', offset='C')\n",
    "    start_dt = pd.Timestamp(start_date.strftime('%Y-%m-%d'), tz='UTC', offset='C')\n",
    "\n",
    "    end_loc = trading_calendar.closes.index.get_loc(end_dt)\n",
    "    start_loc = trading_calendar.closes.index.get_loc(start_dt)\n",
    "\n",
    "    return data_portal.get_history_window(\n",
    "        assets=assets,\n",
    "        end_dt=end_dt,\n",
    "        bar_count=end_loc - start_loc,\n",
    "        frequency='1d',\n",
    "        field=field,\n",
    "        data_frequency='daily')"
   ]
  },
  {
   "cell_type": "markdown",
   "metadata": {},
   "source": [
    "## get pricing data into a dataframe"
   ]
  },
  {
   "cell_type": "code",
   "execution_count": 9,
   "metadata": {},
   "outputs": [
    {
     "name": "stderr",
     "output_type": "stream",
     "text": [
      "C:\\Users\\lunar\\anaconda3\\envs\\p36env\\lib\\site-packages\\ipykernel_launcher.py:2: FutureWarning: offset is deprecated. Use freq instead\n",
      "  \n",
      "C:\\Users\\lunar\\anaconda3\\envs\\p36env\\lib\\site-packages\\ipykernel_launcher.py:3: FutureWarning: offset is deprecated. Use freq instead\n",
      "  This is separate from the ipykernel package so we can avoid doing imports until\n"
     ]
    },
    {
     "data": {
      "text/plain": "                           Equity(0 [A])  Equity(1 [AA])  Equity(9 [AAL])  \\\n2017-02-10 00:00:00+00:00      -0.002186        0.023542         0.003234   \n2017-02-13 00:00:00+00:00       0.003183        0.004684         0.020673   \n2017-02-14 00:00:00+00:00      -0.002576        0.002084        -0.017728   \n2017-02-15 00:00:00+00:00       0.024398       -0.017907         0.020842   \n2017-02-16 00:00:00+00:00      -0.015105       -0.037209        -0.011989   \n2017-02-17 00:00:00+00:00       0.015541       -0.006872        -0.001275   \n2017-02-21 00:00:00+00:00      -0.005424        0.013811        -0.002135   \n2017-02-22 00:00:00+00:00      -0.000203       -0.003003        -0.010478   \n2017-02-23 00:00:00+00:00       0.002535       -0.062295        -0.004748   \n2017-02-24 00:00:00+00:00       0.005259        0.004672         0.003897   \n2017-02-27 00:00:00+00:00      -0.001549        0.008691         0.000870   \n2017-02-28 00:00:00+00:00      -0.006972       -0.005446         0.000869   \n2017-03-01 00:00:00+00:00       0.014428        0.098276         0.015746   \n2017-03-02 00:00:00+00:00      -0.012682       -0.056322        -0.029097   \n2017-03-03 00:00:00+00:00       0.011670        0.014788         0.024052   \n2017-03-06 00:00:00+00:00      -0.014039        0.015124        -0.032242   \n2017-03-07 00:00:00+00:00      -0.000792       -0.030611        -0.010369   \n2017-03-08 00:00:00+00:00       0.003923        0.005319         0.001105   \n2017-03-09 00:00:00+00:00       0.000385       -0.017515        -0.034756   \n2017-03-10 00:00:00+00:00       0.013986       -0.023467         0.013154   \n2017-03-13 00:00:00+00:00       0.005769        0.004905        -0.034834   \n2017-03-14 00:00:00+00:00      -0.004585       -0.014701        -0.027391   \n2017-03-15 00:00:00+00:00       0.036208        0.027788         0.021347   \n2017-03-16 00:00:00+00:00      -0.019415        0.006845         0.000957   \n2017-03-17 00:00:00+00:00       0.004906       -0.011585        -0.009730   \n2017-03-20 00:00:00+00:00      -0.003007       -0.002006        -0.000470   \n2017-03-21 00:00:00+00:00      -0.009225       -0.048128        -0.030704   \n2017-03-22 00:00:00+00:00       0.008935        0.014149        -0.001737   \n2017-03-23 00:00:00+00:00       0.000940       -0.011304         0.026281   \n2017-03-24 00:00:00+00:00      -0.001879       -0.022505         0.007730   \n...                                  ...             ...              ...   \n2021-12-28 00:00:00+00:00       0.002775       -0.010697         0.020363   \n2021-12-29 00:00:00+00:00       0.009234        0.007434        -0.026429   \n2021-12-30 00:00:00+00:00       0.001427       -0.007043         0.001108   \n2021-12-31 00:00:00+00:00      -0.007643        0.006249        -0.006087   \n2022-01-03 00:00:00+00:00      -0.018565        0.013092         0.043987   \n2022-01-04 00:00:00+00:00      -0.033806       -0.046885         0.014400   \n2022-01-05 00:00:00+00:00      -0.017131        0.017730        -0.017876   \n2022-01-06 00:00:00+00:00       0.003499       -0.001708        -0.005889   \n2022-01-07 00:00:00+00:00      -0.026623        0.067066         0.038234   \n2022-01-10 00:00:00+00:00       0.000069       -0.013308        -0.025415   \n2022-01-11 00:00:00+00:00       0.010196        0.010725         0.012241   \n2022-01-12 00:00:00+00:00       0.019572       -0.005145        -0.027340   \n2022-01-13 00:00:00+00:00      -0.029028       -0.022140         0.045405   \n2022-01-14 00:00:00+00:00      -0.003375        0.014543        -0.043950   \n2022-01-18 00:00:00+00:00      -0.029099       -0.021828        -0.031909   \n2022-01-19 00:00:00+00:00      -0.000285       -0.006994        -0.032961   \n2022-01-20 00:00:00+00:00      -0.006765        0.027168        -0.031774   \n2022-01-21 00:00:00+00:00      -0.014124       -0.082286        -0.027446   \n2022-01-24 00:00:00+00:00       0.004436        0.032201         0.006748   \n2022-01-25 00:00:00+00:00      -0.025702        0.054981         0.003047   \n2022-01-26 00:00:00+00:00      -0.007877       -0.007515        -0.013366   \n2022-01-27 00:00:00+00:00      -0.010636       -0.044774        -0.028325   \n2022-01-28 00:00:00+00:00       0.037626       -0.010856        -0.008872   \n2022-01-31 00:00:00+00:00       0.016489       -0.012021         0.053069   \n2022-02-01 00:00:00+00:00       0.012274        0.025745         0.021858   \n2022-02-02 00:00:00+00:00       0.022761        0.017879         0.007724   \n2022-02-03 00:00:00+00:00      -0.016986        0.059618        -0.022995   \n2022-02-04 00:00:00+00:00      -0.004725        0.023589        -0.007242   \n2022-02-07 00:00:00+00:00      -0.005315       -0.007319         0.050456   \n2022-02-08 00:00:00+00:00       0.003135        0.097569         0.056713   \n\n                           Equity(15 [AAPL])  Equity(23 [ABBV])  \\\n2017-02-10 00:00:00+00:00          -0.002240          -0.006898   \n2017-02-13 00:00:00+00:00           0.008850           0.001486   \n2017-02-14 00:00:00+00:00           0.012968           0.005139   \n2017-02-15 00:00:00+00:00           0.003640           0.013635   \n2017-02-16 00:00:00+00:00          -0.001188          -0.002748   \n2017-02-17 00:00:00+00:00           0.002723           0.004709   \n2017-02-21 00:00:00+00:00           0.007242           0.000962   \n2017-02-22 00:00:00+00:00           0.002975          -0.007585   \n2017-02-23 00:00:00+00:00          -0.004202           0.009436   \n2017-02-24 00:00:00+00:00           0.000931           0.002429   \n2017-02-27 00:00:00+00:00           0.001984           0.002097   \n2017-02-28 00:00:00+00:00           0.000433          -0.006116   \n2017-03-01 00:00:00+00:00           0.020442           0.016027   \n2017-03-02 00:00:00+00:00          -0.005940           0.006680   \n2017-03-03 00:00:00+00:00           0.005915           0.001419   \n2017-03-06 00:00:00+00:00          -0.003152           0.003313   \n2017-03-07 00:00:00+00:00           0.001277           0.002208   \n2017-03-08 00:00:00+00:00          -0.003705           0.007066   \n2017-03-09 00:00:00+00:00          -0.002316           0.005617   \n2017-03-10 00:00:00+00:00           0.003330           0.021383   \n2017-03-13 00:00:00+00:00           0.000426          -0.000461   \n2017-03-14 00:00:00+00:00          -0.001522          -0.002726   \n2017-03-15 00:00:00+00:00           0.010577           0.013398   \n2017-03-16 00:00:00+00:00           0.001629          -0.009764   \n2017-03-17 00:00:00+00:00          -0.004969          -0.003184   \n2017-03-20 00:00:00+00:00           0.010501           0.001674   \n2017-03-21 00:00:00+00:00          -0.011441          -0.006839   \n2017-03-22 00:00:00+00:00           0.011300           0.002592   \n2017-03-23 00:00:00+00:00          -0.003535           0.001987   \n2017-03-24 00:00:00+00:00          -0.001984          -0.000443   \n...                                      ...                ...   \n2021-12-28 00:00:00+00:00          -0.005769          -0.000149   \n2021-12-29 00:00:00+00:00           0.000503           0.007218   \n2021-12-30 00:00:00+00:00          -0.006581           0.004211   \n2021-12-31 00:00:00+00:00          -0.003534          -0.003899   \n2022-01-03 00:00:00+00:00           0.025002           0.000148   \n2022-01-04 00:00:00+00:00          -0.012691          -0.001920   \n2022-01-05 00:00:00+00:00          -0.026600           0.005253   \n2022-01-06 00:00:00+00:00          -0.016692          -0.004710   \n2022-01-07 00:00:00+00:00           0.000990          -0.002588   \n2022-01-10 00:00:00+00:00           0.000116           0.011195   \n2022-01-11 00:00:00+00:00           0.016782           0.004253   \n2022-01-12 00:00:00+00:00           0.002574           0.002336   \n2022-01-13 00:00:00+00:00          -0.019029          -0.027460   \n2022-01-14 00:00:00+00:00           0.005111           0.017600   \n2022-01-18 00:00:00+00:00          -0.018895           0.006698   \n2022-01-19 00:00:00+00:00          -0.021028          -0.011478   \n2022-01-20 00:00:00+00:00          -0.010342          -0.016123   \n2022-01-21 00:00:00+00:00          -0.012769          -0.007893   \n2022-01-24 00:00:00+00:00          -0.004864           0.001364   \n2022-01-25 00:00:00+00:00          -0.011381           0.007037   \n2022-01-26 00:00:00+00:00          -0.000564           0.008566   \n2022-01-27 00:00:00+00:00          -0.002947           0.012963   \n2022-01-28 00:00:00+00:00           0.069779           0.014341   \n2022-01-31 00:00:00+00:00           0.026130          -0.007468   \n2022-02-01 00:00:00+00:00          -0.000974           0.000804   \n2022-02-02 00:00:00+00:00           0.007042           0.011825   \n2022-02-03 00:00:00+00:00          -0.016718           0.015221   \n2022-02-04 00:00:00+00:00          -0.001679          -0.000568   \n2022-02-07 00:00:00+00:00          -0.004235           0.013367   \n2022-02-08 00:00:00+00:00           0.018467           0.006876   \n\n                           Equity(35 [ABNB])  Equity(41 [ABT])  \\\n2017-02-10 00:00:00+00:00           0.000000          0.004721   \n2017-02-13 00:00:00+00:00           0.000000          0.011226   \n2017-02-14 00:00:00+00:00           0.000000          0.009946   \n2017-02-15 00:00:00+00:00           0.000000          0.008008   \n2017-02-16 00:00:00+00:00           0.000000          0.004564   \n2017-02-17 00:00:00+00:00           0.000000          0.011076   \n2017-02-21 00:00:00+00:00           0.000000          0.007166   \n2017-02-22 00:00:00+00:00           0.000000          0.000000   \n2017-02-23 00:00:00+00:00           0.000000          0.008658   \n2017-02-24 00:00:00+00:00           0.000000          0.006169   \n2017-02-27 00:00:00+00:00           0.000000         -0.004824   \n2017-02-28 00:00:00+00:00           0.000000         -0.008358   \n2017-03-01 00:00:00+00:00           0.000000          0.011318   \n2017-03-02 00:00:00+00:00           0.000000          0.002191   \n2017-03-03 00:00:00+00:00           0.000000         -0.009622   \n2017-03-06 00:00:00+00:00           0.000000         -0.002663   \n2017-03-07 00:00:00+00:00           0.000000         -0.002862   \n2017-03-08 00:00:00+00:00           0.000000          0.007985   \n2017-03-09 00:00:00+00:00           0.000000          0.005959   \n2017-03-10 00:00:00+00:00           0.000000          0.001975   \n2017-03-13 00:00:00+00:00           0.000000         -0.004155   \n2017-03-14 00:00:00+00:00           0.000000         -0.016046   \n2017-03-15 00:00:00+00:00           0.000000          0.011607   \n2017-03-16 00:00:00+00:00           0.000000         -0.007497   \n2017-03-17 00:00:00+00:00           0.000000          0.004682   \n2017-03-20 00:00:00+00:00           0.000000         -0.004660   \n2017-03-21 00:00:00+00:00           0.000000         -0.004006   \n2017-03-22 00:00:00+00:00           0.000000          0.000242   \n2017-03-23 00:00:00+00:00           0.000000         -0.000896   \n2017-03-24 00:00:00+00:00           0.000000         -0.000897   \n...                                      ...               ...   \n2021-12-28 00:00:00+00:00          -0.011475         -0.006998   \n2021-12-29 00:00:00+00:00          -0.013376          0.005126   \n2021-12-30 00:00:00+00:00           0.008003         -0.001346   \n2021-12-31 00:00:00+00:00          -0.013568         -0.001844   \n2022-01-03 00:00:00+00:00           0.037179         -0.012079   \n2022-01-04 00:00:00+00:00          -0.010887         -0.023518   \n2022-01-05 00:00:00+00:00          -0.050059         -0.004493   \n2022-01-06 00:00:00+00:00          -0.015408         -0.000148   \n2022-01-07 00:00:00+00:00           0.039437          0.003108   \n2022-01-10 00:00:00+00:00          -0.032159         -0.002213   \n2022-01-11 00:00:00+00:00           0.049157          0.003253   \n2022-01-12 00:00:00+00:00           0.005516         -0.014591   \n2022-01-13 00:00:00+00:00          -0.020880         -0.030437   \n2022-01-14 00:00:00+00:00          -0.012108         -0.011492   \n2022-01-18 00:00:00+00:00          -0.056711         -0.012406   \n2022-01-19 00:00:00+00:00          -0.000711         -0.004108   \n2022-01-20 00:00:00+00:00           0.022124         -0.010631   \n2022-01-21 00:00:00+00:00          -0.008038          0.008981   \n2022-01-24 00:00:00+00:00          -0.056339         -0.015974   \n2022-01-25 00:00:00+00:00          -0.022583         -0.004442   \n2022-01-26 00:00:00+00:00          -0.016740         -0.025959   \n2022-01-27 00:00:00+00:00          -0.026242          0.003082   \n2022-01-28 00:00:00+00:00           0.031501          0.040767   \n2022-01-31 00:00:00+00:00           0.078448          0.016833   \n2022-02-01 00:00:00+00:00           0.019289         -0.002040   \n2022-02-02 00:00:00+00:00          -0.033006          0.022327   \n2022-02-03 00:00:00+00:00          -0.014431          0.000538   \n2022-02-04 00:00:00+00:00           0.040048         -0.003074   \n2022-02-07 00:00:00+00:00           0.015107         -0.012798   \n2022-02-08 00:00:00+00:00           0.027547          0.004686   \n\n                           Equity(81 [ACN])  Equity(104 [ACWI])  \\\n2017-02-10 00:00:00+00:00          0.005292            0.004072   \n2017-02-13 00:00:00+00:00          0.008419            0.004693   \n2017-02-14 00:00:00+00:00          0.011896            0.002097   \n2017-02-15 00:00:00+00:00         -0.000584            0.004837   \n2017-02-16 00:00:00+00:00          0.006583            0.000158   \n2017-02-17 00:00:00+00:00          0.004226           -0.000648   \n2017-02-21 00:00:00+00:00          0.007180            0.004326   \n2017-02-22 00:00:00+00:00          0.000901            0.000314   \n2017-02-23 00:00:00+00:00          0.002206            0.000488   \n2017-02-24 00:00:00+00:00          0.007758           -0.002561   \n2017-02-27 00:00:00+00:00         -0.005190            0.000804   \n2017-02-28 00:00:00+00:00         -0.002363           -0.003351   \n2017-03-01 00:00:00+00:00          0.012819            0.012329   \n2017-03-02 00:00:00+00:00          0.002260           -0.006314   \n2017-03-03 00:00:00+00:00         -0.005716            0.002385   \n2017-03-06 00:00:00+00:00         -0.003228           -0.002866   \n2017-03-07 00:00:00+00:00          0.007299           -0.002386   \n2017-03-08 00:00:00+00:00          0.002580           -0.003352   \n2017-03-09 00:00:00+00:00         -0.010286            0.000631   \n2017-03-10 00:00:00+00:00          0.006085            0.005445   \n2017-03-13 00:00:00+00:00          0.000888            0.003831   \n2017-03-14 00:00:00+00:00         -0.001043           -0.005707   \n2017-03-15 00:00:00+00:00          0.007181            0.011967   \n2017-03-16 00:00:00+00:00         -0.005609            0.002051   \n2017-03-17 00:00:00+00:00          0.009021           -0.000482   \n2017-03-20 00:00:00+00:00         -0.006624            0.000155   \n2017-03-21 00:00:00+00:00          0.002012           -0.009603   \n2017-03-22 00:00:00+00:00          0.014763            0.001911   \n2017-03-23 00:00:00+00:00         -0.045230            0.000486   \n2017-03-24 00:00:00+00:00         -0.014737            0.000312   \n...                                     ...                 ...   \n2021-12-28 00:00:00+00:00         -0.000144           -0.001035   \n2021-12-29 00:00:00+00:00          0.000361            0.000094   \n2021-12-30 00:00:00+00:00         -0.003827           -0.001884   \n2021-12-31 00:00:00+00:00          0.001740           -0.001605   \n2022-01-03 00:00:00+00:00         -0.017706            0.005294   \n2022-01-04 00:00:00+00:00         -0.007146           -0.000846   \n2022-01-05 00:00:00+00:00         -0.017611           -0.016282   \n2022-01-06 00:00:00+00:00         -0.048290           -0.002105   \n2022-01-07 00:00:00+00:00         -0.019180           -0.000192   \n2022-01-10 00:00:00+00:00          0.006069           -0.002877   \n2022-01-11 00:00:00+00:00          0.005657            0.011925   \n2022-01-12 00:00:00+00:00          0.005545            0.006082   \n2022-01-13 00:00:00+00:00         -0.041942           -0.013414   \n2022-01-14 00:00:00+00:00         -0.022166            0.000287   \n2022-01-18 00:00:00+00:00         -0.014376           -0.017326   \n2022-01-19 00:00:00+00:00         -0.013035           -0.006039   \n2022-01-20 00:00:00+00:00         -0.003055           -0.007840   \n2022-01-21 00:00:00+00:00         -0.020602           -0.016989   \n2022-01-24 00:00:00+00:00          0.010041           -0.001608   \n2022-01-25 00:00:00+00:00         -0.011947           -0.010064   \n2022-01-26 00:00:00+00:00         -0.015107           -0.004982   \n2022-01-27 00:00:00+00:00          0.010519           -0.005109   \n2022-01-28 00:00:00+00:00          0.028468            0.016021   \n2022-01-31 00:00:00+00:00          0.031296            0.020621   \n2022-02-01 00:00:00+00:00         -0.000453            0.007725   \n2022-02-02 00:00:00+00:00          0.017118            0.006388   \n2022-02-03 00:00:00+00:00         -0.038724           -0.019141   \n2022-02-04 00:00:00+00:00          0.005643            0.004480   \n2022-02-07 00:00:00+00:00         -0.010187           -0.001982   \n2022-02-08 00:00:00+00:00          0.003227            0.007747   \n\n                           Equity(110 [ADBE])         ...          \\\n2017-02-10 00:00:00+00:00            0.003521         ...           \n2017-02-13 00:00:00+00:00            0.006846         ...           \n2017-02-14 00:00:00+00:00           -0.000595         ...           \n2017-02-15 00:00:00+00:00            0.009781         ...           \n2017-02-16 00:00:00+00:00            0.001684         ...           \n2017-02-17 00:00:00+00:00            0.006222         ...           \n2017-02-21 00:00:00+00:00           -0.000334         ...           \n2017-02-22 00:00:00+00:00           -0.001337         ...           \n2017-02-23 00:00:00+00:00           -0.005357         ...           \n2017-02-24 00:00:00+00:00            0.004039         ...           \n2017-02-27 00:00:00+00:00           -0.004442         ...           \n2017-02-28 00:00:00+00:00           -0.003704         ...           \n2017-03-01 00:00:00+00:00            0.016985         ...           \n2017-03-02 00:00:00+00:00           -0.003739         ...           \n2017-03-03 00:00:00+00:00            0.001168         ...           \n2017-03-06 00:00:00+00:00            0.000916         ...           \n2017-03-07 00:00:00+00:00           -0.001415         ...           \n2017-03-08 00:00:00+00:00           -0.003167         ...           \n2017-03-09 00:00:00+00:00            0.002592         ...           \n2017-03-10 00:00:00+00:00            0.009841         ...           \n2017-03-13 00:00:00+00:00            0.005863         ...           \n2017-03-14 00:00:00+00:00           -0.002956         ...           \n2017-03-15 00:00:00+00:00            0.005517         ...           \n2017-03-16 00:00:00+00:00            0.001965         ...           \n2017-03-17 00:00:00+00:00            0.038087         ...           \n2017-03-20 00:00:00+00:00           -0.005511         ...           \n2017-03-21 00:00:00+00:00           -0.009817         ...           \n2017-03-22 00:00:00+00:00            0.009115         ...           \n2017-03-23 00:00:00+00:00            0.005229         ...           \n2017-03-24 00:00:00+00:00            0.006542         ...           \n...                                       ...         ...           \n2021-12-28 00:00:00+00:00           -0.014402         ...           \n2021-12-29 00:00:00+00:00           -0.000123         ...           \n2021-12-30 00:00:00+00:00            0.002178         ...           \n2021-12-31 00:00:00+00:00           -0.006082         ...           \n2022-01-03 00:00:00+00:00           -0.004744         ...           \n2022-01-04 00:00:00+00:00           -0.018374         ...           \n2022-01-05 00:00:00+00:00           -0.071426         ...           \n2022-01-06 00:00:00+00:00           -0.000603         ...           \n2022-01-07 00:00:00+00:00           -0.006652         ...           \n2022-01-10 00:00:00+00:00            0.029626         ...           \n2022-01-11 00:00:00+00:00            0.007721         ...           \n2022-01-12 00:00:00+00:00            0.004680         ...           \n2022-01-13 00:00:00+00:00           -0.029059         ...           \n2022-01-14 00:00:00+00:00            0.007158         ...           \n2022-01-18 00:00:00+00:00           -0.013945         ...           \n2022-01-19 00:00:00+00:00            0.006312         ...           \n2022-01-20 00:00:00+00:00           -0.011092         ...           \n2022-01-21 00:00:00+00:00           -0.021415         ...           \n2022-01-24 00:00:00+00:00            0.039507         ...           \n2022-01-25 00:00:00+00:00           -0.032598         ...           \n2022-01-26 00:00:00+00:00           -0.003799         ...           \n2022-01-27 00:00:00+00:00           -0.015495         ...           \n2022-01-28 00:00:00+00:00            0.050928         ...           \n2022-01-31 00:00:00+00:00            0.031149         ...           \n2022-02-01 00:00:00+00:00            0.003144         ...           \n2022-02-02 00:00:00+00:00           -0.005392         ...           \n2022-02-03 00:00:00+00:00           -0.041757         ...           \n2022-02-04 00:00:00+00:00            0.005305         ...           \n2022-02-07 00:00:00+00:00           -0.012540         ...           \n2022-02-08 00:00:00+00:00            0.008302         ...           \n\n                           Equity(8927 [XME])  Equity(8938 [XOM])  \\\n2017-02-10 00:00:00+00:00            0.005551            0.008300   \n2017-02-13 00:00:00+00:00            0.014553            0.005816   \n2017-02-14 00:00:00+00:00           -0.002009           -0.002172   \n2017-02-15 00:00:00+00:00           -0.005173            0.004109   \n2017-02-16 00:00:00+00:00           -0.001152           -0.010337   \n2017-02-17 00:00:00+00:00           -0.009539           -0.006557   \n2017-02-21 00:00:00+00:00            0.007868            0.001584   \n2017-02-22 00:00:00+00:00           -0.017081           -0.011722   \n2017-02-23 00:00:00+00:00           -0.039522            0.010496   \n2017-02-24 00:00:00+00:00           -0.007376           -0.008555   \n2017-02-27 00:00:00+00:00            0.001866            0.005669   \n2017-02-28 00:00:00+00:00           -0.000931           -0.002694   \n2017-03-01 00:00:00+00:00            0.030296            0.020907   \n2017-03-02 00:00:00+00:00           -0.048308            0.003365   \n2017-03-03 00:00:00+00:00            0.006315           -0.010076   \n2017-03-06 00:00:00+00:00           -0.018490            0.004481   \n2017-03-07 00:00:00+00:00           -0.025851           -0.003740   \n2017-03-08 00:00:00+00:00           -0.008504           -0.018049   \n2017-03-09 00:00:00+00:00           -0.015518            0.007898   \n2017-03-10 00:00:00+00:00            0.004013           -0.000746   \n2017-03-13 00:00:00+00:00            0.012387           -0.002318   \n2017-03-14 00:00:00+00:00           -0.013231           -0.005287   \n2017-03-15 00:00:00+00:00            0.049200            0.012479   \n2017-03-16 00:00:00+00:00           -0.007352            0.000852   \n2017-03-17 00:00:00+00:00           -0.007372           -0.000851   \n2017-03-20 00:00:00+00:00            0.003870            0.000000   \n2017-03-21 00:00:00+00:00           -0.035495           -0.002075   \n2017-03-22 00:00:00+00:00            0.010046           -0.000853   \n2017-03-23 00:00:00+00:00           -0.004670            0.001211   \n2017-03-24 00:00:00+00:00           -0.013647           -0.007694   \n...                                       ...                 ...   \n2021-12-28 00:00:00+00:00           -0.007497           -0.003232   \n2021-12-29 00:00:00+00:00           -0.005999           -0.008753   \n2021-12-30 00:00:00+00:00           -0.005811           -0.005887   \n2021-12-31 00:00:00+00:00            0.006745            0.006580   \n2022-01-03 00:00:00+00:00            0.016972            0.038405   \n2022-01-04 00:00:00+00:00            0.014273            0.037614   \n2022-01-05 00:00:00+00:00            0.001299            0.012437   \n2022-01-06 00:00:00+00:00           -0.014703            0.023521   \n2022-01-07 00:00:00+00:00            0.010972            0.008197   \n2022-01-10 00:00:00+00:00           -0.008248           -0.005952   \n2022-01-11 00:00:00+00:00            0.017509            0.042062   \n2022-01-12 00:00:00+00:00            0.022586           -0.002943   \n2022-01-13 00:00:00+00:00           -0.016197           -0.007169   \n2022-01-14 00:00:00+00:00            0.004490            0.017556   \n2022-01-18 00:00:00+00:00           -0.016390            0.016836   \n2022-01-19 00:00:00+00:00           -0.000649            0.000411   \n2022-01-20 00:00:00+00:00           -0.036379            0.002188   \n2022-01-21 00:00:00+00:00           -0.050112           -0.015013   \n2022-01-24 00:00:00+00:00            0.009226            0.008591   \n2022-01-25 00:00:00+00:00            0.003282            0.029400   \n2022-01-26 00:00:00+00:00           -0.026402           -0.010143   \n2022-01-27 00:00:00+00:00           -0.015599            0.012808   \n2022-01-28 00:00:00+00:00            0.008532            0.002130   \n2022-01-31 00:00:00+00:00            0.008460            0.009033   \n2022-02-01 00:00:00+00:00            0.045781            0.064113   \n2022-02-02 00:00:00+00:00            0.012835           -0.002598   \n2022-02-03 00:00:00+00:00           -0.008373           -0.011660   \n2022-02-04 00:00:00+00:00            0.010041            0.021712   \n2022-02-07 00:00:00+00:00            0.007004            0.012038   \n2022-02-08 00:00:00+00:00            0.039040           -0.025853   \n\n                           Equity(8943 [XOP])  Equity(8950 [XPEV])  \\\n2017-02-10 00:00:00+00:00            0.011275             0.000000   \n2017-02-13 00:00:00+00:00           -0.007926             0.000000   \n2017-02-14 00:00:00+00:00            0.007989             0.000000   \n2017-02-15 00:00:00+00:00           -0.003960             0.000000   \n2017-02-16 00:00:00+00:00           -0.016674             0.000000   \n2017-02-17 00:00:00+00:00           -0.005059             0.000000   \n2017-02-21 00:00:00+00:00            0.012462             0.000000   \n2017-02-22 00:00:00+00:00           -0.028886             0.000000   \n2017-02-23 00:00:00+00:00           -0.000782             0.000000   \n2017-02-24 00:00:00+00:00           -0.019668             0.000000   \n2017-02-27 00:00:00+00:00            0.007922             0.000000   \n2017-02-28 00:00:00+00:00           -0.008126             0.000000   \n2017-03-01 00:00:00+00:00            0.027208             0.000000   \n2017-03-02 00:00:00+00:00           -0.024168             0.000000   \n2017-03-03 00:00:00+00:00           -0.002377             0.000000   \n2017-03-06 00:00:00+00:00            0.006341             0.000000   \n2017-03-07 00:00:00+00:00           -0.014175             0.000000   \n2017-03-08 00:00:00+00:00           -0.042865             0.000000   \n2017-03-09 00:00:00+00:00            0.006953             0.000000   \n2017-03-10 00:00:00+00:00           -0.002484             0.000000   \n2017-03-13 00:00:00+00:00            0.006922             0.000000   \n2017-03-14 00:00:00+00:00           -0.013197             0.000000   \n2017-03-15 00:00:00+00:00            0.030380             0.000000   \n2017-03-16 00:00:00+00:00           -0.010822             0.000000   \n2017-03-17 00:00:00+00:00           -0.001537             0.000000   \n2017-03-20 00:00:00+00:00            0.000000             0.000000   \n2017-03-21 00:00:00+00:00           -0.020581             0.000000   \n2017-03-22 00:00:00+00:00           -0.010649             0.000000   \n2017-03-23 00:00:00+00:00           -0.003963             0.000000   \n2017-03-24 00:00:00+00:00            0.001139             0.000000   \n...                                       ...                  ...   \n2021-12-28 00:00:00+00:00           -0.008661            -0.014760   \n2021-12-29 00:00:00+00:00           -0.004064            -0.020269   \n2021-12-30 00:00:00+00:00           -0.018770             0.099618   \n2021-12-31 00:00:00+00:00           -0.003327             0.029243   \n2022-01-03 00:00:00+00:00            0.047460            -0.001192   \n2022-01-04 00:00:00+00:00            0.042920            -0.053113   \n2022-01-05 00:00:00+00:00           -0.030555            -0.031303   \n2022-01-06 00:00:00+00:00            0.030434             0.011928   \n2022-01-07 00:00:00+00:00            0.000765            -0.034505   \n2022-01-10 00:00:00+00:00           -0.006208            -0.053718   \n2022-01-11 00:00:00+00:00            0.044210             0.073422   \n2022-01-12 00:00:00+00:00            0.010492             0.057255   \n2022-01-13 00:00:00+00:00           -0.019492            -0.017776   \n2022-01-14 00:00:00+00:00            0.031026             0.045665   \n2022-01-18 00:00:00+00:00           -0.016848            -0.047696   \n2022-01-19 00:00:00+00:00           -0.010997            -0.074387   \n2022-01-20 00:00:00+00:00           -0.033543             0.018493   \n2022-01-21 00:00:00+00:00           -0.035954            -0.062766   \n2022-01-24 00:00:00+00:00            0.018001            -0.043530   \n2022-01-25 00:00:00+00:00            0.038003            -0.049512   \n2022-01-26 00:00:00+00:00           -0.012988            -0.018679   \n2022-01-27 00:00:00+00:00            0.000477            -0.125737   \n2022-01-28 00:00:00+00:00            0.010484            -0.014106   \n2022-01-31 00:00:00+00:00            0.005471             0.091446   \n2022-02-01 00:00:00+00:00            0.042214             0.037333   \n2022-02-02 00:00:00+00:00            0.006661            -0.016484   \n2022-02-03 00:00:00+00:00           -0.014574            -0.035754   \n2022-02-04 00:00:00+00:00            0.015516             0.079085   \n2022-02-07 00:00:00+00:00           -0.006254            -0.010470   \n2022-02-08 00:00:00+00:00           -0.031289             0.008410   \n\n                           Equity(9013 [YUM])  Equity(9020 [ZBH])  \\\n2017-02-10 00:00:00+00:00            0.009050           -0.002297   \n2017-02-13 00:00:00+00:00            0.001622            0.003587   \n2017-02-14 00:00:00+00:00            0.006906           -0.004844   \n2017-02-15 00:00:00+00:00            0.001025            0.001108   \n2017-02-16 00:00:00+00:00           -0.003071           -0.008441   \n2017-02-17 00:00:00+00:00           -0.000585            0.004734   \n2017-02-21 00:00:00+00:00           -0.010671            0.002560   \n2017-02-22 00:00:00+00:00           -0.023202           -0.002306   \n2017-02-23 00:00:00+00:00           -0.005284           -0.004444   \n2017-02-24 00:00:00+00:00            0.003042            0.004642   \n2017-02-27 00:00:00+00:00           -0.006526            0.000338   \n2017-02-28 00:00:00+00:00           -0.003053            0.001030   \n2017-03-01 00:00:00+00:00            0.003824            0.015459   \n2017-03-02 00:00:00+00:00           -0.005492           -0.007324   \n2017-03-03 00:00:00+00:00           -0.002753            0.002210   \n2017-03-06 00:00:00+00:00           -0.008148           -0.008969   \n2017-03-07 00:00:00+00:00           -0.007443           -0.001276   \n2017-03-08 00:00:00+00:00            0.000929            0.004526   \n2017-03-09 00:00:00+00:00           -0.004202            0.013438   \n2017-03-10 00:00:00+00:00            0.007829            0.007550   \n2017-03-13 00:00:00+00:00            0.001093           -0.002414   \n2017-03-14 00:00:00+00:00           -0.006685           -0.009264   \n2017-03-15 00:00:00+00:00           -0.000626            0.008168   \n2017-03-16 00:00:00+00:00           -0.001404           -0.002006   \n2017-03-17 00:00:00+00:00            0.000779            0.018925   \n2017-03-20 00:00:00+00:00            0.003132           -0.000162   \n2017-03-21 00:00:00+00:00           -0.005299           -0.005509   \n2017-03-22 00:00:00+00:00           -0.006447            0.003307   \n2017-03-23 00:00:00+00:00           -0.002203           -0.008072   \n2017-03-24 00:00:00+00:00            0.006332            0.002157   \n...                                       ...                 ...   \n2021-12-28 00:00:00+00:00           -0.000217            0.003130   \n2021-12-29 00:00:00+00:00            0.004928            0.000156   \n2021-12-30 00:00:00+00:00           -0.001947            0.000312   \n2021-12-31 00:00:00+00:00            0.003396           -0.009589   \n2022-01-03 00:00:00+00:00           -0.016779            0.016452   \n2022-01-04 00:00:00+00:00            0.005347            0.010145   \n2022-01-05 00:00:00+00:00           -0.012677           -0.003297   \n2022-01-06 00:00:00+00:00            0.010331           -0.008307   \n2022-01-07 00:00:00+00:00           -0.011467           -0.006050   \n2022-01-10 00:00:00+00:00           -0.013964           -0.009754   \n2022-01-11 00:00:00+00:00           -0.020980            0.011663   \n2022-01-12 00:00:00+00:00           -0.011557           -0.021810   \n2022-01-13 00:00:00+00:00           -0.002633            0.019828   \n2022-01-14 00:00:00+00:00           -0.013586           -0.005388   \n2022-01-18 00:00:00+00:00           -0.005352           -0.008086   \n2022-01-19 00:00:00+00:00           -0.014876           -0.024377   \n2022-01-20 00:00:00+00:00           -0.007068           -0.001866   \n2022-01-21 00:00:00+00:00            0.005015           -0.004064   \n2022-01-24 00:00:00+00:00            0.016903            0.009058   \n2022-01-25 00:00:00+00:00           -0.033956           -0.021836   \n2022-01-26 00:00:00+00:00           -0.015649           -0.003803   \n2022-01-27 00:00:00+00:00           -0.002664            0.006225   \n2022-01-28 00:00:00+00:00            0.020197           -0.002887   \n2022-01-31 00:00:00+00:00            0.023969            0.017619   \n2022-02-01 00:00:00+00:00           -0.012703            0.007885   \n2022-02-02 00:00:00+00:00            0.013028           -0.018389   \n2022-02-03 00:00:00+00:00            0.001278           -0.003615   \n2022-02-04 00:00:00+00:00           -0.000638            0.012864   \n2022-02-07 00:00:00+00:00           -0.001517           -0.090857   \n2022-02-08 00:00:00+00:00           -0.000879            0.073520   \n\n                           Equity(9029 [ZEN])  Equity(9048 [ZIM])  \\\n2017-02-10 00:00:00+00:00           -0.023305            0.000000   \n2017-02-13 00:00:00+00:00           -0.008315            0.000000   \n2017-02-14 00:00:00+00:00           -0.016405            0.000000   \n2017-02-15 00:00:00+00:00            0.020385            0.000000   \n2017-02-16 00:00:00+00:00           -0.009081            0.000000   \n2017-02-17 00:00:00+00:00            0.022361            0.000000   \n2017-02-21 00:00:00+00:00            0.003944            0.000000   \n2017-02-22 00:00:00+00:00            0.002857            0.000000   \n2017-02-23 00:00:00+00:00           -0.012464            0.000000   \n2017-02-24 00:00:00+00:00            0.006852            0.000000   \n2017-02-27 00:00:00+00:00           -0.002149            0.000000   \n2017-02-28 00:00:00+00:00           -0.022613            0.000000   \n2017-03-01 00:00:00+00:00            0.035990            0.000000   \n2017-03-02 00:00:00+00:00           -0.028359            0.000000   \n2017-03-03 00:00:00+00:00           -0.010580            0.000000   \n2017-03-06 00:00:00+00:00            0.002950            0.000000   \n2017-03-07 00:00:00+00:00           -0.019118            0.000000   \n2017-03-08 00:00:00+00:00            0.008621            0.000000   \n2017-03-09 00:00:00+00:00           -0.000372            0.000000   \n2017-03-10 00:00:00+00:00            0.015985            0.000000   \n2017-03-13 00:00:00+00:00            0.015368            0.000000   \n2017-03-14 00:00:00+00:00           -0.006486            0.000000   \n2017-03-15 00:00:00+00:00            0.003627            0.000000   \n2017-03-16 00:00:00+00:00            0.005060            0.000000   \n2017-03-17 00:00:00+00:00           -0.006832            0.000000   \n2017-03-20 00:00:00+00:00            0.004707            0.000000   \n2017-03-21 00:00:00+00:00           -0.035676            0.000000   \n2017-03-22 00:00:00+00:00           -0.002616            0.000000   \n2017-03-23 00:00:00+00:00           -0.010116            0.000000   \n2017-03-24 00:00:00+00:00            0.016654            0.000000   \n...                                       ...                 ...   \n2021-12-28 00:00:00+00:00            0.003659           -0.000546   \n2021-12-29 00:00:00+00:00           -0.017174            0.038777   \n2021-12-30 00:00:00+00:00            0.036509            0.016649   \n2021-12-31 00:00:00+00:00           -0.017800            0.014653   \n2022-01-03 00:00:00+00:00           -0.007287           -0.035678   \n2022-01-04 00:00:00+00:00           -0.012364           -0.005285   \n2022-01-05 00:00:00+00:00           -0.052616           -0.032589   \n2022-01-06 00:00:00+00:00            0.015381            0.020322   \n2022-01-07 00:00:00+00:00           -0.004473            0.015252   \n2022-01-10 00:00:00+00:00            0.021140            0.036762   \n2022-01-11 00:00:00+00:00            0.004600            0.047392   \n2022-01-12 00:00:00+00:00            0.014933            0.028646   \n2022-01-13 00:00:00+00:00           -0.027464            0.006804   \n2022-01-14 00:00:00+00:00            0.012708            0.001100   \n2022-01-18 00:00:00+00:00           -0.035156           -0.005651   \n2022-01-19 00:00:00+00:00            0.007122           -0.028576   \n2022-01-20 00:00:00+00:00            0.001230           -0.003088   \n2022-01-21 00:00:00+00:00           -0.030198           -0.052494   \n2022-01-24 00:00:00+00:00            0.010872           -0.011012   \n2022-01-25 00:00:00+00:00           -0.021405           -0.004523   \n2022-01-26 00:00:00+00:00           -0.018032            0.038448   \n2022-01-27 00:00:00+00:00           -0.016408            0.036183   \n2022-01-28 00:00:00+00:00            0.044079            0.062368   \n2022-01-31 00:00:00+00:00            0.042324            0.020028   \n2022-02-01 00:00:00+00:00            0.017460            0.027728   \n2022-02-02 00:00:00+00:00           -0.008081           -0.005688   \n2022-02-03 00:00:00+00:00           -0.048783            0.007627   \n2022-02-04 00:00:00+00:00            0.032886            0.003057   \n2022-02-07 00:00:00+00:00            0.007678            0.029459   \n2022-02-08 00:00:00+00:00            0.007721            0.004934   \n\n                           Equity(9061 [ZNGA])  Equity(9072 [ZTS])  \n2017-02-10 00:00:00+00:00             0.023810           -0.004101  \n2017-02-13 00:00:00+00:00             0.019380           -0.010600  \n2017-02-14 00:00:00+00:00             0.026616           -0.002165  \n2017-02-15 00:00:00+00:00            -0.011111            0.002357  \n2017-02-16 00:00:00+00:00            -0.014981           -0.042975  \n2017-02-17 00:00:00+00:00             0.019011           -0.005109  \n2017-02-21 00:00:00+00:00             0.011194            0.018266  \n2017-02-22 00:00:00+00:00             0.044280           -0.001674  \n2017-02-23 00:00:00+00:00            -0.042403            0.003740  \n2017-02-24 00:00:00+00:00            -0.003690            0.005609  \n2017-02-27 00:00:00+00:00            -0.003704           -0.000936  \n2017-02-28 00:00:00+00:00            -0.014870           -0.009655  \n2017-03-01 00:00:00+00:00             0.022642            0.010888  \n2017-03-02 00:00:00+00:00             0.011070           -0.009663  \n2017-03-03 00:00:00+00:00             0.014599            0.000945  \n2017-03-06 00:00:00+00:00            -0.010791           -0.006357  \n2017-03-07 00:00:00+00:00            -0.003636           -0.000194  \n2017-03-08 00:00:00+00:00             0.000000           -0.001319  \n2017-03-09 00:00:00+00:00             0.003650            0.013010  \n2017-03-10 00:00:00+00:00             0.025455           -0.006517  \n2017-03-13 00:00:00+00:00            -0.003546            0.004129  \n2017-03-14 00:00:00+00:00            -0.010676           -0.002613  \n2017-03-15 00:00:00+00:00             0.021583            0.016105  \n2017-03-16 00:00:00+00:00             0.000000            0.002749  \n2017-03-17 00:00:00+00:00            -0.014085           -0.007903  \n2017-03-20 00:00:00+00:00             0.000000            0.005203  \n2017-03-21 00:00:00+00:00            -0.014286           -0.016400  \n2017-03-22 00:00:00+00:00             0.000000            0.008982  \n2017-03-23 00:00:00+00:00             0.018116           -0.001299  \n2017-03-24 00:00:00+00:00            -0.003559            0.000937  \n...                                        ...                 ...  \n2021-12-28 00:00:00+00:00            -0.003115           -0.009168  \n2021-12-29 00:00:00+00:00            -0.017188            0.011382  \n2021-12-30 00:00:00+00:00             0.042925           -0.007570  \n2021-12-31 00:00:00+00:00            -0.024390           -0.004609  \n2022-01-03 00:00:00+00:00             0.021875           -0.040979  \n2022-01-04 00:00:00+00:00            -0.033639           -0.038072  \n2022-01-05 00:00:00+00:00            -0.031646           -0.038024  \n2022-01-06 00:00:00+00:00            -0.004902            0.003971  \n2022-01-07 00:00:00+00:00            -0.014778           -0.029114  \n2022-01-10 00:00:00+00:00             0.406667            0.007153  \n2022-01-11 00:00:00+00:00             0.048578            0.000941  \n2022-01-12 00:00:00+00:00             0.033898            0.000047  \n2022-01-13 00:00:00+00:00            -0.009836           -0.027301  \n2022-01-14 00:00:00+00:00            -0.011038           -0.003961  \n2022-01-18 00:00:00+00:00             0.003348           -0.016878  \n2022-01-19 00:00:00+00:00             0.003337           -0.010459  \n2022-01-20 00:00:00+00:00             0.001109            0.006880  \n2022-01-21 00:00:00+00:00            -0.004430           -0.008071  \n2022-01-24 00:00:00+00:00            -0.006674           -0.001298  \n2022-01-25 00:00:00+00:00            -0.017917           -0.024092  \n2022-01-26 00:00:00+00:00            -0.012543           -0.027708  \n2022-01-27 00:00:00+00:00            -0.003464           -0.011483  \n2022-01-28 00:00:00+00:00             0.004635            0.040712  \n2022-01-31 00:00:00+00:00             0.046136            0.022990  \n2022-02-01 00:00:00+00:00             0.000000           -0.004605  \n2022-02-02 00:00:00+00:00             0.002205            0.016594  \n2022-02-03 00:00:00+00:00            -0.003300           -0.006183  \n2022-02-04 00:00:00+00:00             0.005519           -0.006868  \n2022-02-07 00:00:00+00:00            -0.006586            0.003909  \n2022-02-08 00:00:00+00:00             0.009945            0.004892  \n\n[1258 rows x 500 columns]",
      "text/html": "<div>\n<style scoped>\n    .dataframe tbody tr th:only-of-type {\n        vertical-align: middle;\n    }\n\n    .dataframe tbody tr th {\n        vertical-align: top;\n    }\n\n    .dataframe thead th {\n        text-align: right;\n    }\n</style>\n<table border=\"1\" class=\"dataframe\">\n  <thead>\n    <tr style=\"text-align: right;\">\n      <th></th>\n      <th>Equity(0 [A])</th>\n      <th>Equity(1 [AA])</th>\n      <th>Equity(9 [AAL])</th>\n      <th>Equity(15 [AAPL])</th>\n      <th>Equity(23 [ABBV])</th>\n      <th>Equity(35 [ABNB])</th>\n      <th>Equity(41 [ABT])</th>\n      <th>Equity(81 [ACN])</th>\n      <th>Equity(104 [ACWI])</th>\n      <th>Equity(110 [ADBE])</th>\n      <th>...</th>\n      <th>Equity(8927 [XME])</th>\n      <th>Equity(8938 [XOM])</th>\n      <th>Equity(8943 [XOP])</th>\n      <th>Equity(8950 [XPEV])</th>\n      <th>Equity(9013 [YUM])</th>\n      <th>Equity(9020 [ZBH])</th>\n      <th>Equity(9029 [ZEN])</th>\n      <th>Equity(9048 [ZIM])</th>\n      <th>Equity(9061 [ZNGA])</th>\n      <th>Equity(9072 [ZTS])</th>\n    </tr>\n  </thead>\n  <tbody>\n    <tr>\n      <th>2017-02-10 00:00:00+00:00</th>\n      <td>-0.002186</td>\n      <td>0.023542</td>\n      <td>0.003234</td>\n      <td>-0.002240</td>\n      <td>-0.006898</td>\n      <td>0.000000</td>\n      <td>0.004721</td>\n      <td>0.005292</td>\n      <td>0.004072</td>\n      <td>0.003521</td>\n      <td>...</td>\n      <td>0.005551</td>\n      <td>0.008300</td>\n      <td>0.011275</td>\n      <td>0.000000</td>\n      <td>0.009050</td>\n      <td>-0.002297</td>\n      <td>-0.023305</td>\n      <td>0.000000</td>\n      <td>0.023810</td>\n      <td>-0.004101</td>\n    </tr>\n    <tr>\n      <th>2017-02-13 00:00:00+00:00</th>\n      <td>0.003183</td>\n      <td>0.004684</td>\n      <td>0.020673</td>\n      <td>0.008850</td>\n      <td>0.001486</td>\n      <td>0.000000</td>\n      <td>0.011226</td>\n      <td>0.008419</td>\n      <td>0.004693</td>\n      <td>0.006846</td>\n      <td>...</td>\n      <td>0.014553</td>\n      <td>0.005816</td>\n      <td>-0.007926</td>\n      <td>0.000000</td>\n      <td>0.001622</td>\n      <td>0.003587</td>\n      <td>-0.008315</td>\n      <td>0.000000</td>\n      <td>0.019380</td>\n      <td>-0.010600</td>\n    </tr>\n    <tr>\n      <th>2017-02-14 00:00:00+00:00</th>\n      <td>-0.002576</td>\n      <td>0.002084</td>\n      <td>-0.017728</td>\n      <td>0.012968</td>\n      <td>0.005139</td>\n      <td>0.000000</td>\n      <td>0.009946</td>\n      <td>0.011896</td>\n      <td>0.002097</td>\n      <td>-0.000595</td>\n      <td>...</td>\n      <td>-0.002009</td>\n      <td>-0.002172</td>\n      <td>0.007989</td>\n      <td>0.000000</td>\n      <td>0.006906</td>\n      <td>-0.004844</td>\n      <td>-0.016405</td>\n      <td>0.000000</td>\n      <td>0.026616</td>\n      <td>-0.002165</td>\n    </tr>\n    <tr>\n      <th>2017-02-15 00:00:00+00:00</th>\n      <td>0.024398</td>\n      <td>-0.017907</td>\n      <td>0.020842</td>\n      <td>0.003640</td>\n      <td>0.013635</td>\n      <td>0.000000</td>\n      <td>0.008008</td>\n      <td>-0.000584</td>\n      <td>0.004837</td>\n      <td>0.009781</td>\n      <td>...</td>\n      <td>-0.005173</td>\n      <td>0.004109</td>\n      <td>-0.003960</td>\n      <td>0.000000</td>\n      <td>0.001025</td>\n      <td>0.001108</td>\n      <td>0.020385</td>\n      <td>0.000000</td>\n      <td>-0.011111</td>\n      <td>0.002357</td>\n    </tr>\n    <tr>\n      <th>2017-02-16 00:00:00+00:00</th>\n      <td>-0.015105</td>\n      <td>-0.037209</td>\n      <td>-0.011989</td>\n      <td>-0.001188</td>\n      <td>-0.002748</td>\n      <td>0.000000</td>\n      <td>0.004564</td>\n      <td>0.006583</td>\n      <td>0.000158</td>\n      <td>0.001684</td>\n      <td>...</td>\n      <td>-0.001152</td>\n      <td>-0.010337</td>\n      <td>-0.016674</td>\n      <td>0.000000</td>\n      <td>-0.003071</td>\n      <td>-0.008441</td>\n      <td>-0.009081</td>\n      <td>0.000000</td>\n      <td>-0.014981</td>\n      <td>-0.042975</td>\n    </tr>\n    <tr>\n      <th>2017-02-17 00:00:00+00:00</th>\n      <td>0.015541</td>\n      <td>-0.006872</td>\n      <td>-0.001275</td>\n      <td>0.002723</td>\n      <td>0.004709</td>\n      <td>0.000000</td>\n      <td>0.011076</td>\n      <td>0.004226</td>\n      <td>-0.000648</td>\n      <td>0.006222</td>\n      <td>...</td>\n      <td>-0.009539</td>\n      <td>-0.006557</td>\n      <td>-0.005059</td>\n      <td>0.000000</td>\n      <td>-0.000585</td>\n      <td>0.004734</td>\n      <td>0.022361</td>\n      <td>0.000000</td>\n      <td>0.019011</td>\n      <td>-0.005109</td>\n    </tr>\n    <tr>\n      <th>2017-02-21 00:00:00+00:00</th>\n      <td>-0.005424</td>\n      <td>0.013811</td>\n      <td>-0.002135</td>\n      <td>0.007242</td>\n      <td>0.000962</td>\n      <td>0.000000</td>\n      <td>0.007166</td>\n      <td>0.007180</td>\n      <td>0.004326</td>\n      <td>-0.000334</td>\n      <td>...</td>\n      <td>0.007868</td>\n      <td>0.001584</td>\n      <td>0.012462</td>\n      <td>0.000000</td>\n      <td>-0.010671</td>\n      <td>0.002560</td>\n      <td>0.003944</td>\n      <td>0.000000</td>\n      <td>0.011194</td>\n      <td>0.018266</td>\n    </tr>\n    <tr>\n      <th>2017-02-22 00:00:00+00:00</th>\n      <td>-0.000203</td>\n      <td>-0.003003</td>\n      <td>-0.010478</td>\n      <td>0.002975</td>\n      <td>-0.007585</td>\n      <td>0.000000</td>\n      <td>0.000000</td>\n      <td>0.000901</td>\n      <td>0.000314</td>\n      <td>-0.001337</td>\n      <td>...</td>\n      <td>-0.017081</td>\n      <td>-0.011722</td>\n      <td>-0.028886</td>\n      <td>0.000000</td>\n      <td>-0.023202</td>\n      <td>-0.002306</td>\n      <td>0.002857</td>\n      <td>0.000000</td>\n      <td>0.044280</td>\n      <td>-0.001674</td>\n    </tr>\n    <tr>\n      <th>2017-02-23 00:00:00+00:00</th>\n      <td>0.002535</td>\n      <td>-0.062295</td>\n      <td>-0.004748</td>\n      <td>-0.004202</td>\n      <td>0.009436</td>\n      <td>0.000000</td>\n      <td>0.008658</td>\n      <td>0.002206</td>\n      <td>0.000488</td>\n      <td>-0.005357</td>\n      <td>...</td>\n      <td>-0.039522</td>\n      <td>0.010496</td>\n      <td>-0.000782</td>\n      <td>0.000000</td>\n      <td>-0.005284</td>\n      <td>-0.004444</td>\n      <td>-0.012464</td>\n      <td>0.000000</td>\n      <td>-0.042403</td>\n      <td>0.003740</td>\n    </tr>\n    <tr>\n      <th>2017-02-24 00:00:00+00:00</th>\n      <td>0.005259</td>\n      <td>0.004672</td>\n      <td>0.003897</td>\n      <td>0.000931</td>\n      <td>0.002429</td>\n      <td>0.000000</td>\n      <td>0.006169</td>\n      <td>0.007758</td>\n      <td>-0.002561</td>\n      <td>0.004039</td>\n      <td>...</td>\n      <td>-0.007376</td>\n      <td>-0.008555</td>\n      <td>-0.019668</td>\n      <td>0.000000</td>\n      <td>0.003042</td>\n      <td>0.004642</td>\n      <td>0.006852</td>\n      <td>0.000000</td>\n      <td>-0.003690</td>\n      <td>0.005609</td>\n    </tr>\n    <tr>\n      <th>2017-02-27 00:00:00+00:00</th>\n      <td>-0.001549</td>\n      <td>0.008691</td>\n      <td>0.000870</td>\n      <td>0.001984</td>\n      <td>0.002097</td>\n      <td>0.000000</td>\n      <td>-0.004824</td>\n      <td>-0.005190</td>\n      <td>0.000804</td>\n      <td>-0.004442</td>\n      <td>...</td>\n      <td>0.001866</td>\n      <td>0.005669</td>\n      <td>0.007922</td>\n      <td>0.000000</td>\n      <td>-0.006526</td>\n      <td>0.000338</td>\n      <td>-0.002149</td>\n      <td>0.000000</td>\n      <td>-0.003704</td>\n      <td>-0.000936</td>\n    </tr>\n    <tr>\n      <th>2017-02-28 00:00:00+00:00</th>\n      <td>-0.006972</td>\n      <td>-0.005446</td>\n      <td>0.000869</td>\n      <td>0.000433</td>\n      <td>-0.006116</td>\n      <td>0.000000</td>\n      <td>-0.008358</td>\n      <td>-0.002363</td>\n      <td>-0.003351</td>\n      <td>-0.003704</td>\n      <td>...</td>\n      <td>-0.000931</td>\n      <td>-0.002694</td>\n      <td>-0.008126</td>\n      <td>0.000000</td>\n      <td>-0.003053</td>\n      <td>0.001030</td>\n      <td>-0.022613</td>\n      <td>0.000000</td>\n      <td>-0.014870</td>\n      <td>-0.009655</td>\n    </tr>\n    <tr>\n      <th>2017-03-01 00:00:00+00:00</th>\n      <td>0.014428</td>\n      <td>0.098276</td>\n      <td>0.015746</td>\n      <td>0.020442</td>\n      <td>0.016027</td>\n      <td>0.000000</td>\n      <td>0.011318</td>\n      <td>0.012819</td>\n      <td>0.012329</td>\n      <td>0.016985</td>\n      <td>...</td>\n      <td>0.030296</td>\n      <td>0.020907</td>\n      <td>0.027208</td>\n      <td>0.000000</td>\n      <td>0.003824</td>\n      <td>0.015459</td>\n      <td>0.035990</td>\n      <td>0.000000</td>\n      <td>0.022642</td>\n      <td>0.010888</td>\n    </tr>\n    <tr>\n      <th>2017-03-02 00:00:00+00:00</th>\n      <td>-0.012682</td>\n      <td>-0.056322</td>\n      <td>-0.029097</td>\n      <td>-0.005940</td>\n      <td>0.006680</td>\n      <td>0.000000</td>\n      <td>0.002191</td>\n      <td>0.002260</td>\n      <td>-0.006314</td>\n      <td>-0.003739</td>\n      <td>...</td>\n      <td>-0.048308</td>\n      <td>0.003365</td>\n      <td>-0.024168</td>\n      <td>0.000000</td>\n      <td>-0.005492</td>\n      <td>-0.007324</td>\n      <td>-0.028359</td>\n      <td>0.000000</td>\n      <td>0.011070</td>\n      <td>-0.009663</td>\n    </tr>\n    <tr>\n      <th>2017-03-03 00:00:00+00:00</th>\n      <td>0.011670</td>\n      <td>0.014788</td>\n      <td>0.024052</td>\n      <td>0.005915</td>\n      <td>0.001419</td>\n      <td>0.000000</td>\n      <td>-0.009622</td>\n      <td>-0.005716</td>\n      <td>0.002385</td>\n      <td>0.001168</td>\n      <td>...</td>\n      <td>0.006315</td>\n      <td>-0.010076</td>\n      <td>-0.002377</td>\n      <td>0.000000</td>\n      <td>-0.002753</td>\n      <td>0.002210</td>\n      <td>-0.010580</td>\n      <td>0.000000</td>\n      <td>0.014599</td>\n      <td>0.000945</td>\n    </tr>\n    <tr>\n      <th>2017-03-06 00:00:00+00:00</th>\n      <td>-0.014039</td>\n      <td>0.015124</td>\n      <td>-0.032242</td>\n      <td>-0.003152</td>\n      <td>0.003313</td>\n      <td>0.000000</td>\n      <td>-0.002663</td>\n      <td>-0.003228</td>\n      <td>-0.002866</td>\n      <td>0.000916</td>\n      <td>...</td>\n      <td>-0.018490</td>\n      <td>0.004481</td>\n      <td>0.006341</td>\n      <td>0.000000</td>\n      <td>-0.008148</td>\n      <td>-0.008969</td>\n      <td>0.002950</td>\n      <td>0.000000</td>\n      <td>-0.010791</td>\n      <td>-0.006357</td>\n    </tr>\n    <tr>\n      <th>2017-03-07 00:00:00+00:00</th>\n      <td>-0.000792</td>\n      <td>-0.030611</td>\n      <td>-0.010369</td>\n      <td>0.001277</td>\n      <td>0.002208</td>\n      <td>0.000000</td>\n      <td>-0.002862</td>\n      <td>0.007299</td>\n      <td>-0.002386</td>\n      <td>-0.001415</td>\n      <td>...</td>\n      <td>-0.025851</td>\n      <td>-0.003740</td>\n      <td>-0.014175</td>\n      <td>0.000000</td>\n      <td>-0.007443</td>\n      <td>-0.001276</td>\n      <td>-0.019118</td>\n      <td>0.000000</td>\n      <td>-0.003636</td>\n      <td>-0.000194</td>\n    </tr>\n    <tr>\n      <th>2017-03-08 00:00:00+00:00</th>\n      <td>0.003923</td>\n      <td>0.005319</td>\n      <td>0.001105</td>\n      <td>-0.003705</td>\n      <td>0.007066</td>\n      <td>0.000000</td>\n      <td>0.007985</td>\n      <td>0.002580</td>\n      <td>-0.003352</td>\n      <td>-0.003167</td>\n      <td>...</td>\n      <td>-0.008504</td>\n      <td>-0.018049</td>\n      <td>-0.042865</td>\n      <td>0.000000</td>\n      <td>0.000929</td>\n      <td>0.004526</td>\n      <td>0.008621</td>\n      <td>0.000000</td>\n      <td>0.000000</td>\n      <td>-0.001319</td>\n    </tr>\n    <tr>\n      <th>2017-03-09 00:00:00+00:00</th>\n      <td>0.000385</td>\n      <td>-0.017515</td>\n      <td>-0.034756</td>\n      <td>-0.002316</td>\n      <td>0.005617</td>\n      <td>0.000000</td>\n      <td>0.005959</td>\n      <td>-0.010286</td>\n      <td>0.000631</td>\n      <td>0.002592</td>\n      <td>...</td>\n      <td>-0.015518</td>\n      <td>0.007898</td>\n      <td>0.006953</td>\n      <td>0.000000</td>\n      <td>-0.004202</td>\n      <td>0.013438</td>\n      <td>-0.000372</td>\n      <td>0.000000</td>\n      <td>0.003650</td>\n      <td>0.013010</td>\n    </tr>\n    <tr>\n      <th>2017-03-10 00:00:00+00:00</th>\n      <td>0.013986</td>\n      <td>-0.023467</td>\n      <td>0.013154</td>\n      <td>0.003330</td>\n      <td>0.021383</td>\n      <td>0.000000</td>\n      <td>0.001975</td>\n      <td>0.006085</td>\n      <td>0.005445</td>\n      <td>0.009841</td>\n      <td>...</td>\n      <td>0.004013</td>\n      <td>-0.000746</td>\n      <td>-0.002484</td>\n      <td>0.000000</td>\n      <td>0.007829</td>\n      <td>0.007550</td>\n      <td>0.015985</td>\n      <td>0.000000</td>\n      <td>0.025455</td>\n      <td>-0.006517</td>\n    </tr>\n    <tr>\n      <th>2017-03-13 00:00:00+00:00</th>\n      <td>0.005769</td>\n      <td>0.004905</td>\n      <td>-0.034834</td>\n      <td>0.000426</td>\n      <td>-0.000461</td>\n      <td>0.000000</td>\n      <td>-0.004155</td>\n      <td>0.000888</td>\n      <td>0.003831</td>\n      <td>0.005863</td>\n      <td>...</td>\n      <td>0.012387</td>\n      <td>-0.002318</td>\n      <td>0.006922</td>\n      <td>0.000000</td>\n      <td>0.001093</td>\n      <td>-0.002414</td>\n      <td>0.015368</td>\n      <td>0.000000</td>\n      <td>-0.003546</td>\n      <td>0.004129</td>\n    </tr>\n    <tr>\n      <th>2017-03-14 00:00:00+00:00</th>\n      <td>-0.004585</td>\n      <td>-0.014701</td>\n      <td>-0.027391</td>\n      <td>-0.001522</td>\n      <td>-0.002726</td>\n      <td>0.000000</td>\n      <td>-0.016046</td>\n      <td>-0.001043</td>\n      <td>-0.005707</td>\n      <td>-0.002956</td>\n      <td>...</td>\n      <td>-0.013231</td>\n      <td>-0.005287</td>\n      <td>-0.013197</td>\n      <td>0.000000</td>\n      <td>-0.006685</td>\n      <td>-0.009264</td>\n      <td>-0.006486</td>\n      <td>0.000000</td>\n      <td>-0.010676</td>\n      <td>-0.002613</td>\n    </tr>\n    <tr>\n      <th>2017-03-15 00:00:00+00:00</th>\n      <td>0.036208</td>\n      <td>0.027788</td>\n      <td>0.021347</td>\n      <td>0.010577</td>\n      <td>0.013398</td>\n      <td>0.000000</td>\n      <td>0.011607</td>\n      <td>0.007181</td>\n      <td>0.011967</td>\n      <td>0.005517</td>\n      <td>...</td>\n      <td>0.049200</td>\n      <td>0.012479</td>\n      <td>0.030380</td>\n      <td>0.000000</td>\n      <td>-0.000626</td>\n      <td>0.008168</td>\n      <td>0.003627</td>\n      <td>0.000000</td>\n      <td>0.021583</td>\n      <td>0.016105</td>\n    </tr>\n    <tr>\n      <th>2017-03-16 00:00:00+00:00</th>\n      <td>-0.019415</td>\n      <td>0.006845</td>\n      <td>0.000957</td>\n      <td>0.001629</td>\n      <td>-0.009764</td>\n      <td>0.000000</td>\n      <td>-0.007497</td>\n      <td>-0.005609</td>\n      <td>0.002051</td>\n      <td>0.001965</td>\n      <td>...</td>\n      <td>-0.007352</td>\n      <td>0.000852</td>\n      <td>-0.010822</td>\n      <td>0.000000</td>\n      <td>-0.001404</td>\n      <td>-0.002006</td>\n      <td>0.005060</td>\n      <td>0.000000</td>\n      <td>0.000000</td>\n      <td>0.002749</td>\n    </tr>\n    <tr>\n      <th>2017-03-17 00:00:00+00:00</th>\n      <td>0.004906</td>\n      <td>-0.011585</td>\n      <td>-0.009730</td>\n      <td>-0.004969</td>\n      <td>-0.003184</td>\n      <td>0.000000</td>\n      <td>0.004682</td>\n      <td>0.009021</td>\n      <td>-0.000482</td>\n      <td>0.038087</td>\n      <td>...</td>\n      <td>-0.007372</td>\n      <td>-0.000851</td>\n      <td>-0.001537</td>\n      <td>0.000000</td>\n      <td>0.000779</td>\n      <td>0.018925</td>\n      <td>-0.006832</td>\n      <td>0.000000</td>\n      <td>-0.014085</td>\n      <td>-0.007903</td>\n    </tr>\n    <tr>\n      <th>2017-03-20 00:00:00+00:00</th>\n      <td>-0.003007</td>\n      <td>-0.002006</td>\n      <td>-0.000470</td>\n      <td>0.010501</td>\n      <td>0.001674</td>\n      <td>0.000000</td>\n      <td>-0.004660</td>\n      <td>-0.006624</td>\n      <td>0.000155</td>\n      <td>-0.005511</td>\n      <td>...</td>\n      <td>0.003870</td>\n      <td>0.000000</td>\n      <td>0.000000</td>\n      <td>0.000000</td>\n      <td>0.003132</td>\n      <td>-0.000162</td>\n      <td>0.004707</td>\n      <td>0.000000</td>\n      <td>0.000000</td>\n      <td>0.005203</td>\n    </tr>\n    <tr>\n      <th>2017-03-21 00:00:00+00:00</th>\n      <td>-0.009225</td>\n      <td>-0.048128</td>\n      <td>-0.030704</td>\n      <td>-0.011441</td>\n      <td>-0.006839</td>\n      <td>0.000000</td>\n      <td>-0.004006</td>\n      <td>0.002012</td>\n      <td>-0.009603</td>\n      <td>-0.009817</td>\n      <td>...</td>\n      <td>-0.035495</td>\n      <td>-0.002075</td>\n      <td>-0.020581</td>\n      <td>0.000000</td>\n      <td>-0.005299</td>\n      <td>-0.005509</td>\n      <td>-0.035676</td>\n      <td>0.000000</td>\n      <td>-0.014286</td>\n      <td>-0.016400</td>\n    </tr>\n    <tr>\n      <th>2017-03-22 00:00:00+00:00</th>\n      <td>0.008935</td>\n      <td>0.014149</td>\n      <td>-0.001737</td>\n      <td>0.011300</td>\n      <td>0.002592</td>\n      <td>0.000000</td>\n      <td>0.000242</td>\n      <td>0.014763</td>\n      <td>0.001911</td>\n      <td>0.009115</td>\n      <td>...</td>\n      <td>0.010046</td>\n      <td>-0.000853</td>\n      <td>-0.010649</td>\n      <td>0.000000</td>\n      <td>-0.006447</td>\n      <td>0.003307</td>\n      <td>-0.002616</td>\n      <td>0.000000</td>\n      <td>0.000000</td>\n      <td>0.008982</td>\n    </tr>\n    <tr>\n      <th>2017-03-23 00:00:00+00:00</th>\n      <td>0.000940</td>\n      <td>-0.011304</td>\n      <td>0.026281</td>\n      <td>-0.003535</td>\n      <td>0.001987</td>\n      <td>0.000000</td>\n      <td>-0.000896</td>\n      <td>-0.045230</td>\n      <td>0.000486</td>\n      <td>0.005229</td>\n      <td>...</td>\n      <td>-0.004670</td>\n      <td>0.001211</td>\n      <td>-0.003963</td>\n      <td>0.000000</td>\n      <td>-0.002203</td>\n      <td>-0.008072</td>\n      <td>-0.010116</td>\n      <td>0.000000</td>\n      <td>0.018116</td>\n      <td>-0.001299</td>\n    </tr>\n    <tr>\n      <th>2017-03-24 00:00:00+00:00</th>\n      <td>-0.001879</td>\n      <td>-0.022505</td>\n      <td>0.007730</td>\n      <td>-0.001984</td>\n      <td>-0.000443</td>\n      <td>0.000000</td>\n      <td>-0.000897</td>\n      <td>-0.014737</td>\n      <td>0.000312</td>\n      <td>0.006542</td>\n      <td>...</td>\n      <td>-0.013647</td>\n      <td>-0.007694</td>\n      <td>0.001139</td>\n      <td>0.000000</td>\n      <td>0.006332</td>\n      <td>0.002157</td>\n      <td>0.016654</td>\n      <td>0.000000</td>\n      <td>-0.003559</td>\n      <td>0.000937</td>\n    </tr>\n    <tr>\n      <th>...</th>\n      <td>...</td>\n      <td>...</td>\n      <td>...</td>\n      <td>...</td>\n      <td>...</td>\n      <td>...</td>\n      <td>...</td>\n      <td>...</td>\n      <td>...</td>\n      <td>...</td>\n      <td>...</td>\n      <td>...</td>\n      <td>...</td>\n      <td>...</td>\n      <td>...</td>\n      <td>...</td>\n      <td>...</td>\n      <td>...</td>\n      <td>...</td>\n      <td>...</td>\n      <td>...</td>\n    </tr>\n    <tr>\n      <th>2021-12-28 00:00:00+00:00</th>\n      <td>0.002775</td>\n      <td>-0.010697</td>\n      <td>0.020363</td>\n      <td>-0.005769</td>\n      <td>-0.000149</td>\n      <td>-0.011475</td>\n      <td>-0.006998</td>\n      <td>-0.000144</td>\n      <td>-0.001035</td>\n      <td>-0.014402</td>\n      <td>...</td>\n      <td>-0.007497</td>\n      <td>-0.003232</td>\n      <td>-0.008661</td>\n      <td>-0.014760</td>\n      <td>-0.000217</td>\n      <td>0.003130</td>\n      <td>0.003659</td>\n      <td>-0.000546</td>\n      <td>-0.003115</td>\n      <td>-0.009168</td>\n    </tr>\n    <tr>\n      <th>2021-12-29 00:00:00+00:00</th>\n      <td>0.009234</td>\n      <td>0.007434</td>\n      <td>-0.026429</td>\n      <td>0.000503</td>\n      <td>0.007218</td>\n      <td>-0.013376</td>\n      <td>0.005126</td>\n      <td>0.000361</td>\n      <td>0.000094</td>\n      <td>-0.000123</td>\n      <td>...</td>\n      <td>-0.005999</td>\n      <td>-0.008753</td>\n      <td>-0.004064</td>\n      <td>-0.020269</td>\n      <td>0.004928</td>\n      <td>0.000156</td>\n      <td>-0.017174</td>\n      <td>0.038777</td>\n      <td>-0.017188</td>\n      <td>0.011382</td>\n    </tr>\n    <tr>\n      <th>2021-12-30 00:00:00+00:00</th>\n      <td>0.001427</td>\n      <td>-0.007043</td>\n      <td>0.001108</td>\n      <td>-0.006581</td>\n      <td>0.004211</td>\n      <td>0.008003</td>\n      <td>-0.001346</td>\n      <td>-0.003827</td>\n      <td>-0.001884</td>\n      <td>0.002178</td>\n      <td>...</td>\n      <td>-0.005811</td>\n      <td>-0.005887</td>\n      <td>-0.018770</td>\n      <td>0.099618</td>\n      <td>-0.001947</td>\n      <td>0.000312</td>\n      <td>0.036509</td>\n      <td>0.016649</td>\n      <td>0.042925</td>\n      <td>-0.007570</td>\n    </tr>\n    <tr>\n      <th>2021-12-31 00:00:00+00:00</th>\n      <td>-0.007643</td>\n      <td>0.006249</td>\n      <td>-0.006087</td>\n      <td>-0.003534</td>\n      <td>-0.003899</td>\n      <td>-0.013568</td>\n      <td>-0.001844</td>\n      <td>0.001740</td>\n      <td>-0.001605</td>\n      <td>-0.006082</td>\n      <td>...</td>\n      <td>0.006745</td>\n      <td>0.006580</td>\n      <td>-0.003327</td>\n      <td>0.029243</td>\n      <td>0.003396</td>\n      <td>-0.009589</td>\n      <td>-0.017800</td>\n      <td>0.014653</td>\n      <td>-0.024390</td>\n      <td>-0.004609</td>\n    </tr>\n    <tr>\n      <th>2022-01-03 00:00:00+00:00</th>\n      <td>-0.018565</td>\n      <td>0.013092</td>\n      <td>0.043987</td>\n      <td>0.025002</td>\n      <td>0.000148</td>\n      <td>0.037179</td>\n      <td>-0.012079</td>\n      <td>-0.017706</td>\n      <td>0.005294</td>\n      <td>-0.004744</td>\n      <td>...</td>\n      <td>0.016972</td>\n      <td>0.038405</td>\n      <td>0.047460</td>\n      <td>-0.001192</td>\n      <td>-0.016779</td>\n      <td>0.016452</td>\n      <td>-0.007287</td>\n      <td>-0.035678</td>\n      <td>0.021875</td>\n      <td>-0.040979</td>\n    </tr>\n    <tr>\n      <th>2022-01-04 00:00:00+00:00</th>\n      <td>-0.033806</td>\n      <td>-0.046885</td>\n      <td>0.014400</td>\n      <td>-0.012691</td>\n      <td>-0.001920</td>\n      <td>-0.010887</td>\n      <td>-0.023518</td>\n      <td>-0.007146</td>\n      <td>-0.000846</td>\n      <td>-0.018374</td>\n      <td>...</td>\n      <td>0.014273</td>\n      <td>0.037614</td>\n      <td>0.042920</td>\n      <td>-0.053113</td>\n      <td>0.005347</td>\n      <td>0.010145</td>\n      <td>-0.012364</td>\n      <td>-0.005285</td>\n      <td>-0.033639</td>\n      <td>-0.038072</td>\n    </tr>\n    <tr>\n      <th>2022-01-05 00:00:00+00:00</th>\n      <td>-0.017131</td>\n      <td>0.017730</td>\n      <td>-0.017876</td>\n      <td>-0.026600</td>\n      <td>0.005253</td>\n      <td>-0.050059</td>\n      <td>-0.004493</td>\n      <td>-0.017611</td>\n      <td>-0.016282</td>\n      <td>-0.071426</td>\n      <td>...</td>\n      <td>0.001299</td>\n      <td>0.012437</td>\n      <td>-0.030555</td>\n      <td>-0.031303</td>\n      <td>-0.012677</td>\n      <td>-0.003297</td>\n      <td>-0.052616</td>\n      <td>-0.032589</td>\n      <td>-0.031646</td>\n      <td>-0.038024</td>\n    </tr>\n    <tr>\n      <th>2022-01-06 00:00:00+00:00</th>\n      <td>0.003499</td>\n      <td>-0.001708</td>\n      <td>-0.005889</td>\n      <td>-0.016692</td>\n      <td>-0.004710</td>\n      <td>-0.015408</td>\n      <td>-0.000148</td>\n      <td>-0.048290</td>\n      <td>-0.002105</td>\n      <td>-0.000603</td>\n      <td>...</td>\n      <td>-0.014703</td>\n      <td>0.023521</td>\n      <td>0.030434</td>\n      <td>0.011928</td>\n      <td>0.010331</td>\n      <td>-0.008307</td>\n      <td>0.015381</td>\n      <td>0.020322</td>\n      <td>-0.004902</td>\n      <td>0.003971</td>\n    </tr>\n    <tr>\n      <th>2022-01-07 00:00:00+00:00</th>\n      <td>-0.026623</td>\n      <td>0.067066</td>\n      <td>0.038234</td>\n      <td>0.000990</td>\n      <td>-0.002588</td>\n      <td>0.039437</td>\n      <td>0.003108</td>\n      <td>-0.019180</td>\n      <td>-0.000192</td>\n      <td>-0.006652</td>\n      <td>...</td>\n      <td>0.010972</td>\n      <td>0.008197</td>\n      <td>0.000765</td>\n      <td>-0.034505</td>\n      <td>-0.011467</td>\n      <td>-0.006050</td>\n      <td>-0.004473</td>\n      <td>0.015252</td>\n      <td>-0.014778</td>\n      <td>-0.029114</td>\n    </tr>\n    <tr>\n      <th>2022-01-10 00:00:00+00:00</th>\n      <td>0.000069</td>\n      <td>-0.013308</td>\n      <td>-0.025415</td>\n      <td>0.000116</td>\n      <td>0.011195</td>\n      <td>-0.032159</td>\n      <td>-0.002213</td>\n      <td>0.006069</td>\n      <td>-0.002877</td>\n      <td>0.029626</td>\n      <td>...</td>\n      <td>-0.008248</td>\n      <td>-0.005952</td>\n      <td>-0.006208</td>\n      <td>-0.053718</td>\n      <td>-0.013964</td>\n      <td>-0.009754</td>\n      <td>0.021140</td>\n      <td>0.036762</td>\n      <td>0.406667</td>\n      <td>0.007153</td>\n    </tr>\n    <tr>\n      <th>2022-01-11 00:00:00+00:00</th>\n      <td>0.010196</td>\n      <td>0.010725</td>\n      <td>0.012241</td>\n      <td>0.016782</td>\n      <td>0.004253</td>\n      <td>0.049157</td>\n      <td>0.003253</td>\n      <td>0.005657</td>\n      <td>0.011925</td>\n      <td>0.007721</td>\n      <td>...</td>\n      <td>0.017509</td>\n      <td>0.042062</td>\n      <td>0.044210</td>\n      <td>0.073422</td>\n      <td>-0.020980</td>\n      <td>0.011663</td>\n      <td>0.004600</td>\n      <td>0.047392</td>\n      <td>0.048578</td>\n      <td>0.000941</td>\n    </tr>\n    <tr>\n      <th>2022-01-12 00:00:00+00:00</th>\n      <td>0.019572</td>\n      <td>-0.005145</td>\n      <td>-0.027340</td>\n      <td>0.002574</td>\n      <td>0.002336</td>\n      <td>0.005516</td>\n      <td>-0.014591</td>\n      <td>0.005545</td>\n      <td>0.006082</td>\n      <td>0.004680</td>\n      <td>...</td>\n      <td>0.022586</td>\n      <td>-0.002943</td>\n      <td>0.010492</td>\n      <td>0.057255</td>\n      <td>-0.011557</td>\n      <td>-0.021810</td>\n      <td>0.014933</td>\n      <td>0.028646</td>\n      <td>0.033898</td>\n      <td>0.000047</td>\n    </tr>\n    <tr>\n      <th>2022-01-13 00:00:00+00:00</th>\n      <td>-0.029028</td>\n      <td>-0.022140</td>\n      <td>0.045405</td>\n      <td>-0.019029</td>\n      <td>-0.027460</td>\n      <td>-0.020880</td>\n      <td>-0.030437</td>\n      <td>-0.041942</td>\n      <td>-0.013414</td>\n      <td>-0.029059</td>\n      <td>...</td>\n      <td>-0.016197</td>\n      <td>-0.007169</td>\n      <td>-0.019492</td>\n      <td>-0.017776</td>\n      <td>-0.002633</td>\n      <td>0.019828</td>\n      <td>-0.027464</td>\n      <td>0.006804</td>\n      <td>-0.009836</td>\n      <td>-0.027301</td>\n    </tr>\n    <tr>\n      <th>2022-01-14 00:00:00+00:00</th>\n      <td>-0.003375</td>\n      <td>0.014543</td>\n      <td>-0.043950</td>\n      <td>0.005111</td>\n      <td>0.017600</td>\n      <td>-0.012108</td>\n      <td>-0.011492</td>\n      <td>-0.022166</td>\n      <td>0.000287</td>\n      <td>0.007158</td>\n      <td>...</td>\n      <td>0.004490</td>\n      <td>0.017556</td>\n      <td>0.031026</td>\n      <td>0.045665</td>\n      <td>-0.013586</td>\n      <td>-0.005388</td>\n      <td>0.012708</td>\n      <td>0.001100</td>\n      <td>-0.011038</td>\n      <td>-0.003961</td>\n    </tr>\n    <tr>\n      <th>2022-01-18 00:00:00+00:00</th>\n      <td>-0.029099</td>\n      <td>-0.021828</td>\n      <td>-0.031909</td>\n      <td>-0.018895</td>\n      <td>0.006698</td>\n      <td>-0.056711</td>\n      <td>-0.012406</td>\n      <td>-0.014376</td>\n      <td>-0.017326</td>\n      <td>-0.013945</td>\n      <td>...</td>\n      <td>-0.016390</td>\n      <td>0.016836</td>\n      <td>-0.016848</td>\n      <td>-0.047696</td>\n      <td>-0.005352</td>\n      <td>-0.008086</td>\n      <td>-0.035156</td>\n      <td>-0.005651</td>\n      <td>0.003348</td>\n      <td>-0.016878</td>\n    </tr>\n    <tr>\n      <th>2022-01-19 00:00:00+00:00</th>\n      <td>-0.000285</td>\n      <td>-0.006994</td>\n      <td>-0.032961</td>\n      <td>-0.021028</td>\n      <td>-0.011478</td>\n      <td>-0.000711</td>\n      <td>-0.004108</td>\n      <td>-0.013035</td>\n      <td>-0.006039</td>\n      <td>0.006312</td>\n      <td>...</td>\n      <td>-0.000649</td>\n      <td>0.000411</td>\n      <td>-0.010997</td>\n      <td>-0.074387</td>\n      <td>-0.014876</td>\n      <td>-0.024377</td>\n      <td>0.007122</td>\n      <td>-0.028576</td>\n      <td>0.003337</td>\n      <td>-0.010459</td>\n    </tr>\n    <tr>\n      <th>2022-01-20 00:00:00+00:00</th>\n      <td>-0.006765</td>\n      <td>0.027168</td>\n      <td>-0.031774</td>\n      <td>-0.010342</td>\n      <td>-0.016123</td>\n      <td>0.022124</td>\n      <td>-0.010631</td>\n      <td>-0.003055</td>\n      <td>-0.007840</td>\n      <td>-0.011092</td>\n      <td>...</td>\n      <td>-0.036379</td>\n      <td>0.002188</td>\n      <td>-0.033543</td>\n      <td>0.018493</td>\n      <td>-0.007068</td>\n      <td>-0.001866</td>\n      <td>0.001230</td>\n      <td>-0.003088</td>\n      <td>0.001109</td>\n      <td>0.006880</td>\n    </tr>\n    <tr>\n      <th>2022-01-21 00:00:00+00:00</th>\n      <td>-0.014124</td>\n      <td>-0.082286</td>\n      <td>-0.027446</td>\n      <td>-0.012769</td>\n      <td>-0.007893</td>\n      <td>-0.008038</td>\n      <td>0.008981</td>\n      <td>-0.020602</td>\n      <td>-0.016989</td>\n      <td>-0.021415</td>\n      <td>...</td>\n      <td>-0.050112</td>\n      <td>-0.015013</td>\n      <td>-0.035954</td>\n      <td>-0.062766</td>\n      <td>0.005015</td>\n      <td>-0.004064</td>\n      <td>-0.030198</td>\n      <td>-0.052494</td>\n      <td>-0.004430</td>\n      <td>-0.008071</td>\n    </tr>\n    <tr>\n      <th>2022-01-24 00:00:00+00:00</th>\n      <td>0.004436</td>\n      <td>0.032201</td>\n      <td>0.006748</td>\n      <td>-0.004864</td>\n      <td>0.001364</td>\n      <td>-0.056339</td>\n      <td>-0.015974</td>\n      <td>0.010041</td>\n      <td>-0.001608</td>\n      <td>0.039507</td>\n      <td>...</td>\n      <td>0.009226</td>\n      <td>0.008591</td>\n      <td>0.018001</td>\n      <td>-0.043530</td>\n      <td>0.016903</td>\n      <td>0.009058</td>\n      <td>0.010872</td>\n      <td>-0.011012</td>\n      <td>-0.006674</td>\n      <td>-0.001298</td>\n    </tr>\n    <tr>\n      <th>2022-01-25 00:00:00+00:00</th>\n      <td>-0.025702</td>\n      <td>0.054981</td>\n      <td>0.003047</td>\n      <td>-0.011381</td>\n      <td>0.007037</td>\n      <td>-0.022583</td>\n      <td>-0.004442</td>\n      <td>-0.011947</td>\n      <td>-0.010064</td>\n      <td>-0.032598</td>\n      <td>...</td>\n      <td>0.003282</td>\n      <td>0.029400</td>\n      <td>0.038003</td>\n      <td>-0.049512</td>\n      <td>-0.033956</td>\n      <td>-0.021836</td>\n      <td>-0.021405</td>\n      <td>-0.004523</td>\n      <td>-0.017917</td>\n      <td>-0.024092</td>\n    </tr>\n    <tr>\n      <th>2022-01-26 00:00:00+00:00</th>\n      <td>-0.007877</td>\n      <td>-0.007515</td>\n      <td>-0.013366</td>\n      <td>-0.000564</td>\n      <td>0.008566</td>\n      <td>-0.016740</td>\n      <td>-0.025959</td>\n      <td>-0.015107</td>\n      <td>-0.004982</td>\n      <td>-0.003799</td>\n      <td>...</td>\n      <td>-0.026402</td>\n      <td>-0.010143</td>\n      <td>-0.012988</td>\n      <td>-0.018679</td>\n      <td>-0.015649</td>\n      <td>-0.003803</td>\n      <td>-0.018032</td>\n      <td>0.038448</td>\n      <td>-0.012543</td>\n      <td>-0.027708</td>\n    </tr>\n    <tr>\n      <th>2022-01-27 00:00:00+00:00</th>\n      <td>-0.010636</td>\n      <td>-0.044774</td>\n      <td>-0.028325</td>\n      <td>-0.002947</td>\n      <td>0.012963</td>\n      <td>-0.026242</td>\n      <td>0.003082</td>\n      <td>0.010519</td>\n      <td>-0.005109</td>\n      <td>-0.015495</td>\n      <td>...</td>\n      <td>-0.015599</td>\n      <td>0.012808</td>\n      <td>0.000477</td>\n      <td>-0.125737</td>\n      <td>-0.002664</td>\n      <td>0.006225</td>\n      <td>-0.016408</td>\n      <td>0.036183</td>\n      <td>-0.003464</td>\n      <td>-0.011483</td>\n    </tr>\n    <tr>\n      <th>2022-01-28 00:00:00+00:00</th>\n      <td>0.037626</td>\n      <td>-0.010856</td>\n      <td>-0.008872</td>\n      <td>0.069779</td>\n      <td>0.014341</td>\n      <td>0.031501</td>\n      <td>0.040767</td>\n      <td>0.028468</td>\n      <td>0.016021</td>\n      <td>0.050928</td>\n      <td>...</td>\n      <td>0.008532</td>\n      <td>0.002130</td>\n      <td>0.010484</td>\n      <td>-0.014106</td>\n      <td>0.020197</td>\n      <td>-0.002887</td>\n      <td>0.044079</td>\n      <td>0.062368</td>\n      <td>0.004635</td>\n      <td>0.040712</td>\n    </tr>\n    <tr>\n      <th>2022-01-31 00:00:00+00:00</th>\n      <td>0.016489</td>\n      <td>-0.012021</td>\n      <td>0.053069</td>\n      <td>0.026130</td>\n      <td>-0.007468</td>\n      <td>0.078448</td>\n      <td>0.016833</td>\n      <td>0.031296</td>\n      <td>0.020621</td>\n      <td>0.031149</td>\n      <td>...</td>\n      <td>0.008460</td>\n      <td>0.009033</td>\n      <td>0.005471</td>\n      <td>0.091446</td>\n      <td>0.023969</td>\n      <td>0.017619</td>\n      <td>0.042324</td>\n      <td>0.020028</td>\n      <td>0.046136</td>\n      <td>0.022990</td>\n    </tr>\n    <tr>\n      <th>2022-02-01 00:00:00+00:00</th>\n      <td>0.012274</td>\n      <td>0.025745</td>\n      <td>0.021858</td>\n      <td>-0.000974</td>\n      <td>0.000804</td>\n      <td>0.019289</td>\n      <td>-0.002040</td>\n      <td>-0.000453</td>\n      <td>0.007725</td>\n      <td>0.003144</td>\n      <td>...</td>\n      <td>0.045781</td>\n      <td>0.064113</td>\n      <td>0.042214</td>\n      <td>0.037333</td>\n      <td>-0.012703</td>\n      <td>0.007885</td>\n      <td>0.017460</td>\n      <td>0.027728</td>\n      <td>0.000000</td>\n      <td>-0.004605</td>\n    </tr>\n    <tr>\n      <th>2022-02-02 00:00:00+00:00</th>\n      <td>0.022761</td>\n      <td>0.017879</td>\n      <td>0.007724</td>\n      <td>0.007042</td>\n      <td>0.011825</td>\n      <td>-0.033006</td>\n      <td>0.022327</td>\n      <td>0.017118</td>\n      <td>0.006388</td>\n      <td>-0.005392</td>\n      <td>...</td>\n      <td>0.012835</td>\n      <td>-0.002598</td>\n      <td>0.006661</td>\n      <td>-0.016484</td>\n      <td>0.013028</td>\n      <td>-0.018389</td>\n      <td>-0.008081</td>\n      <td>-0.005688</td>\n      <td>0.002205</td>\n      <td>0.016594</td>\n    </tr>\n    <tr>\n      <th>2022-02-03 00:00:00+00:00</th>\n      <td>-0.016986</td>\n      <td>0.059618</td>\n      <td>-0.022995</td>\n      <td>-0.016718</td>\n      <td>0.015221</td>\n      <td>-0.014431</td>\n      <td>0.000538</td>\n      <td>-0.038724</td>\n      <td>-0.019141</td>\n      <td>-0.041757</td>\n      <td>...</td>\n      <td>-0.008373</td>\n      <td>-0.011660</td>\n      <td>-0.014574</td>\n      <td>-0.035754</td>\n      <td>0.001278</td>\n      <td>-0.003615</td>\n      <td>-0.048783</td>\n      <td>0.007627</td>\n      <td>-0.003300</td>\n      <td>-0.006183</td>\n    </tr>\n    <tr>\n      <th>2022-02-04 00:00:00+00:00</th>\n      <td>-0.004725</td>\n      <td>0.023589</td>\n      <td>-0.007242</td>\n      <td>-0.001679</td>\n      <td>-0.000568</td>\n      <td>0.040048</td>\n      <td>-0.003074</td>\n      <td>0.005643</td>\n      <td>0.004480</td>\n      <td>0.005305</td>\n      <td>...</td>\n      <td>0.010041</td>\n      <td>0.021712</td>\n      <td>0.015516</td>\n      <td>0.079085</td>\n      <td>-0.000638</td>\n      <td>0.012864</td>\n      <td>0.032886</td>\n      <td>0.003057</td>\n      <td>0.005519</td>\n      <td>-0.006868</td>\n    </tr>\n    <tr>\n      <th>2022-02-07 00:00:00+00:00</th>\n      <td>-0.005315</td>\n      <td>-0.007319</td>\n      <td>0.050456</td>\n      <td>-0.004235</td>\n      <td>0.013367</td>\n      <td>0.015107</td>\n      <td>-0.012798</td>\n      <td>-0.010187</td>\n      <td>-0.001982</td>\n      <td>-0.012540</td>\n      <td>...</td>\n      <td>0.007004</td>\n      <td>0.012038</td>\n      <td>-0.006254</td>\n      <td>-0.010470</td>\n      <td>-0.001517</td>\n      <td>-0.090857</td>\n      <td>0.007678</td>\n      <td>0.029459</td>\n      <td>-0.006586</td>\n      <td>0.003909</td>\n    </tr>\n    <tr>\n      <th>2022-02-08 00:00:00+00:00</th>\n      <td>0.003135</td>\n      <td>0.097569</td>\n      <td>0.056713</td>\n      <td>0.018467</td>\n      <td>0.006876</td>\n      <td>0.027547</td>\n      <td>0.004686</td>\n      <td>0.003227</td>\n      <td>0.007747</td>\n      <td>0.008302</td>\n      <td>...</td>\n      <td>0.039040</td>\n      <td>-0.025853</td>\n      <td>-0.031289</td>\n      <td>0.008410</td>\n      <td>-0.000879</td>\n      <td>0.073520</td>\n      <td>0.007721</td>\n      <td>0.004934</td>\n      <td>0.009945</td>\n      <td>0.004892</td>\n    </tr>\n  </tbody>\n</table>\n<p>1258 rows × 500 columns</p>\n</div>"
     },
     "execution_count": 9,
     "metadata": {},
     "output_type": "execute_result"
    }
   ],
   "source": [
    "returns_df = \\\n",
    "    get_pricing(\n",
    "        data_portal,\n",
    "        trading_calendar,\n",
    "        universe_tickers,\n",
    "        universe_end_date - pd.DateOffset(years=5),\n",
    "        universe_end_date)\\\n",
    "    .pct_change()[1:].fillna(0) #convert prices into returns\n",
    "\n",
    "returns_df"
   ]
  },
  {
   "cell_type": "markdown",
   "metadata": {},
   "source": [
    "## Sector data helper function\n",
    "We'll create an object for you, which defines a sector for each stock.  The sectors are represented by integers.  We inherit from the Classifier class.  [Documentation for Classifier](https://www.quantopian.com/posts/pipeline-classifiers-are-here), and the [source code for Classifier](https://github.com/quantopian/zipline/blob/master/zipline/pipeline/classifiers/classifier.py)"
   ]
  },
  {
   "cell_type": "code",
   "execution_count": 10,
   "outputs": [],
   "source": [
    "t = np.load('data/project_4_sector/sector.npy')[:,1]\n",
    "sector_list = ['Basic Materials', 'Communication Services', 'Consumer Cyclical',\n",
    "       'Consumer Defensive', 'Energy', 'Financial Services', 'Healthcare',\n",
    "       'Industrials', 'Real Estate', 'Technology', 'Utilities', 'None']\n",
    "sector_dict = {}\n",
    "\n",
    "cnt = 0\n",
    "for i in sector_list:\n",
    "    sector_dict[i] = cnt\n",
    "    cnt += 1\n",
    "\n",
    "sector_matrix = list()\n",
    "for i in range(len(t)):\n",
    "    sector_matrix.append(sector_dict[t[i]])\n"
   ],
   "metadata": {
    "collapsed": false,
    "pycharm": {
     "name": "#%%\n"
    }
   }
  },
  {
   "cell_type": "code",
   "execution_count": 11,
   "metadata": {},
   "outputs": [],
   "source": [
    "from zipline.pipeline.classifiers import Classifier\n",
    "from zipline.utils.numpy_utils import int64_dtype\n",
    "class Sector(Classifier):\n",
    "    dtype = int64_dtype\n",
    "    window_length = 0\n",
    "    inputs = ()\n",
    "    missing_value = -1\n",
    "\n",
    "    def __init__(self):\n",
    "        self.data = np.array(sector_matrix)\n",
    "\n",
    "    def _compute(self, arrays, dates, assets, mask):\n",
    "        return np.where(\n",
    "            mask,\n",
    "            self.data[assets],\n",
    "            self.missing_value,\n",
    "        )"
   ]
  },
  {
   "cell_type": "code",
   "execution_count": 12,
   "outputs": [
    {
     "data": {
      "text/plain": "Index(['Basic Materials', 'Communication Services', 'Consumer Cyclical',\n       'Consumer Defensive', 'Energy', 'Financial Services', 'Healthcare',\n       'Industrials', 'None', 'Real Estate', 'Technology', 'Utilities'],\n      dtype='object')"
     },
     "execution_count": 12,
     "metadata": {},
     "output_type": "execute_result"
    }
   ],
   "source": [
    "import numpy as np\n",
    "import pandas as pd\n",
    "tmp = pd.DataFrame(np.load('data/project_4_sector/sector.npy'))\n",
    "tmp.columns = ['symbol', 'sector']\n",
    "dummies = pd.get_dummies(tmp['sector'])\n",
    "dummies.columns"
   ],
   "metadata": {
    "collapsed": false,
    "pycharm": {
     "name": "#%%\n"
    }
   }
  },
  {
   "cell_type": "code",
   "execution_count": 13,
   "outputs": [
    {
     "data": {
      "text/plain": "array([ 6,  0,  7,  9,  6,  2,  6,  9, 11,  9,  7,  9, 10,  5,  9, 11,  5,\n        7,  0,  6,  5,  5,  9,  1,  9,  6,  8,  2,  9,  6,  4,  0,  9,  5,\n        9,  2, 11,  9,  9,  2,  1,  9,  5,  6,  2,  2,  5,  6,  2,  2,  6,\n        7,  8,  0,  1,  3,  6,  1,  9,  9, 11,  2,  5,  2,  6,  6,  5,  5,\n       11, 11,  6,  2,  7,  5,  3,  7,  7,  7,  8,  2,  9,  6,  5,  2,  1,\n        2,  0,  6,  1,  5,  2,  7, 11,  7,  5, 11,  9,  8,  4,  3,  9,  2,\n        9,  2,  9,  9,  7,  7,  4,  9,  9,  2,  6,  4, 11,  2,  7,  1, 11,\n        9,  2,  9,  5,  6,  2,  6, 11,  9,  1,  1,  2,  2,  8,  3,  9,  6,\n        9, 11,  0,  2,  2, 10,  4,  5,  6,  2,  0, 11,  7, 11,  7,  4,  9,\n        4,  9,  4,  8,  7,  2, 11, 11, 11, 11, 10,  2,  4,  7,  7,  0,  7,\n        9,  9,  5,  9,  2,  9,  9,  2,  9,  5, 11, 11, 11,  6,  3, 11,  9,\n        2,  7,  0,  1,  1,  7,  2,  6, 11,  4,  5,  6,  4,  2,  7,  9,  4,\n        9,  9,  6, 11, 11,  9, 11,  6, 11, 11,  0, 11, 11, 11,  6,  7,  9,\n        9,  6,  6, 11,  5,  7, 11, 11, 11, 11, 11, 11, 11, 11,  7, 11,  6,\n        5,  3,  3,  7,  5,  9,  3,  5,  9,  3,  4, 11,  2, 11, 11,  5, 11,\n       11,  2,  2,  7,  2,  6,  1,  9,  2,  7,  0,  9,  1,  5,  2,  2, 11,\n        9,  6,  9,  3,  2,  5,  2,  9,  5,  7,  3,  4,  9,  6,  4,  9,  5,\n        9,  9,  0,  1,  2, 10,  0,  9,  1,  2,  2,  7,  6,  1,  9,  0,  6,\n        9,  9,  6,  5,  7, 11,  9,  8,  9,  2,  7,  4,  9,  9,  9,  7,  4,\n        7, 10,  9,  2,  2,  3,  6, 11,  5,  1,  7,  8,  9,  7,  5,  0,  5,\n        8,  4,  2,  4,  5,  9, 11, 11,  9,  1,  4,  6,  9,  2,  2, 11,  5,\n        9,  7,  1,  7,  2,  9,  3,  5,  6,  8,  5,  2, 11,  5,  2, 11, 11,\n        9,  9,  0,  5,  1,  4, 11, 11,  1,  9,  9,  5, 11, 11,  7,  5,  9,\n       11,  1, 11, 11, 11, 11, 11, 11, 10,  8, 11,  9,  5,  5, 11,  7,  9,\n        5,  6,  3,  2,  7,  6,  9,  9,  9,  3,  2,  6,  1, 11,  5,  5,  2,\n        2,  9,  1,  1,  1, 11,  7,  0,  9,  5, 11,  2,  6,  7, 11,  7,  5,\n       11, 11,  5,  0, 11, 11, 11, 11,  6, 11, 11, 11, 11,  1,  8, 11,  9,\n       11,  7,  6, 11, 11, 11, 11,  6,  9,  9,  8,  5,  2,  9,  5,  4,  3,\n        9,  8,  2, 11, 11, 11, 11, 11, 11, 11,  9, 11, 11, 11, 11, 11,  4,\n       11,  2,  2,  6,  9,  1,  6])"
     },
     "execution_count": 13,
     "metadata": {},
     "output_type": "execute_result"
    }
   ],
   "source": [
    "t = np.load('data/project_4_sector/sector.npy')[:,1]\n",
    "sector_list = ['Basic Materials', 'Communication Services', 'Consumer Cyclical',\n",
    "       'Consumer Defensive', 'Energy', 'Financial Services', 'Healthcare',\n",
    "       'Industrials', 'Real Estate', 'Technology', 'Utilities', 'None']\n",
    "sector_dict = {}\n",
    "\n",
    "cnt = 0\n",
    "for i in sector_list:\n",
    "    sector_dict[i] = cnt\n",
    "    cnt += 1\n",
    "\n",
    "sector_matrix = list()\n",
    "for i in range(len(t)):\n",
    "    sector_matrix.append(sector_dict[t[i]])\n",
    "\n",
    "np.array(sector_matrix)"
   ],
   "metadata": {
    "collapsed": false,
    "pycharm": {
     "name": "#%%\n"
    }
   }
  },
  {
   "cell_type": "code",
   "execution_count": 14,
   "outputs": [
    {
     "data": {
      "text/plain": "'Healthcare'"
     },
     "execution_count": 14,
     "metadata": {},
     "output_type": "execute_result"
    }
   ],
   "source": [
    "t[0]"
   ],
   "metadata": {
    "collapsed": false,
    "pycharm": {
     "name": "#%%\n"
    }
   }
  },
  {
   "cell_type": "code",
   "execution_count": 15,
   "metadata": {},
   "outputs": [
    {
     "data": {
      "text/plain": "Sector([], 0)"
     },
     "execution_count": 15,
     "metadata": {},
     "output_type": "execute_result"
    }
   ],
   "source": [
    "sector = Sector()\n",
    "sector"
   ]
  },
  {
   "cell_type": "code",
   "execution_count": 16,
   "metadata": {},
   "outputs": [
    {
     "data": {
      "text/plain": "500"
     },
     "execution_count": 16,
     "metadata": {},
     "output_type": "execute_result"
    }
   ],
   "source": [
    "len(sector.data)"
   ]
  },
  {
   "cell_type": "code",
   "execution_count": 17,
   "metadata": {},
   "outputs": [
    {
     "data": {
      "text/plain": "array([ 6,  0,  7,  9,  6,  2,  6,  9, 11,  9,  7,  9, 10,  5,  9, 11,  5,\n        7,  0,  6,  5,  5,  9,  1,  9,  6,  8,  2,  9,  6,  4,  0,  9,  5,\n        9,  2, 11,  9,  9,  2,  1,  9,  5,  6,  2,  2,  5,  6,  2,  2,  6,\n        7,  8,  0,  1,  3,  6,  1,  9,  9, 11,  2,  5,  2,  6,  6,  5,  5,\n       11, 11,  6,  2,  7,  5,  3,  7,  7,  7,  8,  2,  9,  6,  5,  2,  1,\n        2,  0,  6,  1,  5,  2,  7, 11,  7,  5, 11,  9,  8,  4,  3,  9,  2,\n        9,  2,  9,  9,  7,  7,  4,  9,  9,  2,  6,  4, 11,  2,  7,  1, 11,\n        9,  2,  9,  5,  6,  2,  6, 11,  9,  1,  1,  2,  2,  8,  3,  9,  6,\n        9, 11,  0,  2,  2, 10,  4,  5,  6,  2,  0, 11,  7, 11,  7,  4,  9,\n        4,  9,  4,  8,  7,  2, 11, 11, 11, 11, 10,  2,  4,  7,  7,  0,  7,\n        9,  9,  5,  9,  2,  9,  9,  2,  9,  5, 11, 11, 11,  6,  3, 11,  9,\n        2,  7,  0,  1,  1,  7,  2,  6, 11,  4,  5,  6,  4,  2,  7,  9,  4,\n        9,  9,  6, 11, 11,  9, 11,  6, 11, 11,  0, 11, 11, 11,  6,  7,  9,\n        9,  6,  6, 11,  5,  7, 11, 11, 11, 11, 11, 11, 11, 11,  7, 11,  6,\n        5,  3,  3,  7,  5,  9,  3,  5,  9,  3,  4, 11,  2, 11, 11,  5, 11,\n       11,  2,  2,  7,  2,  6,  1,  9,  2,  7,  0,  9,  1,  5,  2,  2, 11,\n        9,  6,  9,  3,  2,  5,  2,  9,  5,  7,  3,  4,  9,  6,  4,  9,  5,\n        9,  9,  0,  1,  2, 10,  0,  9,  1,  2,  2,  7,  6,  1,  9,  0,  6,\n        9,  9,  6,  5,  7, 11,  9,  8,  9,  2,  7,  4,  9,  9,  9,  7,  4,\n        7, 10,  9,  2,  2,  3,  6, 11,  5,  1,  7,  8,  9,  7,  5,  0,  5,\n        8,  4,  2,  4,  5,  9, 11, 11,  9,  1,  4,  6,  9,  2,  2, 11,  5,\n        9,  7,  1,  7,  2,  9,  3,  5,  6,  8,  5,  2, 11,  5,  2, 11, 11,\n        9,  9,  0,  5,  1,  4, 11, 11,  1,  9,  9,  5, 11, 11,  7,  5,  9,\n       11,  1, 11, 11, 11, 11, 11, 11, 10,  8, 11,  9,  5,  5, 11,  7,  9,\n        5,  6,  3,  2,  7,  6,  9,  9,  9,  3,  2,  6,  1, 11,  5,  5,  2,\n        2,  9,  1,  1,  1, 11,  7,  0,  9,  5, 11,  2,  6,  7, 11,  7,  5,\n       11, 11,  5,  0, 11, 11, 11, 11,  6, 11, 11, 11, 11,  1,  8, 11,  9,\n       11,  7,  6, 11, 11, 11, 11,  6,  9,  9,  8,  5,  2,  9,  5,  4,  3,\n        9,  8,  2, 11, 11, 11, 11, 11, 11, 11,  9, 11, 11, 11, 11, 11,  4,\n       11,  2,  2,  6,  9,  1,  6])"
     },
     "execution_count": 17,
     "metadata": {},
     "output_type": "execute_result"
    }
   ],
   "source": [
    "sector.data"
   ]
  },
  {
   "cell_type": "markdown",
   "metadata": {},
   "source": [
    "## Create an alpha factor based on momentum\n",
    "\n",
    "We want to calculate the one-year return.  \n",
    "In other words, get the close price of today, minus the close price of 252 trading days ago, and divide by that price from 252 days ago.\n",
    "\n",
    "$1YearReturn_t = \\frac{price_{t} - price_{t-252}}{price_{t-252}}$"
   ]
  },
  {
   "cell_type": "code",
   "execution_count": 18,
   "metadata": {},
   "outputs": [],
   "source": [
    "from zipline.pipeline.factors import Returns"
   ]
  },
  {
   "cell_type": "markdown",
   "metadata": {},
   "source": [
    "## We'll use 2 years of data to calculate the factor"
   ]
  },
  {
   "cell_type": "markdown",
   "metadata": {},
   "source": [
    "**Note:** Going back 2 years falls on a day when the market is closed. Pipeline package doesn't handle start or end dates that don't fall on days when the market is open. To fix this, we went back 2 extra days to fall on the next day when the market is open."
   ]
  },
  {
   "cell_type": "code",
   "execution_count": 19,
   "metadata": {},
   "outputs": [
    {
     "data": {
      "text/plain": "Timestamp('2020-02-06 00:00:00+0000', tz='UTC')"
     },
     "execution_count": 19,
     "metadata": {},
     "output_type": "execute_result"
    }
   ],
   "source": [
    "factor_start_date = universe_end_date - pd.DateOffset(years=2, days=2)\n",
    "factor_start_date"
   ]
  },
  {
   "cell_type": "code",
   "execution_count": 20,
   "metadata": {},
   "outputs": [],
   "source": [
    "## 1 year returns can be the basis for an alpha factor\n",
    "p1 = Pipeline(screen=universe)\n",
    "rets1 = Returns(window_length=252, mask=universe)\n",
    "p1.add(rets1,\"1YearReturns\")\n",
    "df1 = engine.run_pipeline(p1, factor_start_date, universe_end_date)"
   ]
  },
  {
   "cell_type": "code",
   "execution_count": 21,
   "metadata": {},
   "outputs": [],
   "source": [
    "#graphviz lets us visualize the pipeline\n",
    "import graphviz"
   ]
  },
  {
   "cell_type": "code",
   "execution_count": 22,
   "metadata": {},
   "outputs": [
    {
     "data": {
      "text/plain": "<IPython.core.display.Image object>",
      "image/png": "[encoded data removed]"
     },
     "execution_count": 22,
     "metadata": {},
     "output_type": "execute_result"
    }
   ],
   "source": [
    "p1.show_graph(format='png')"
   ]
  },
  {
   "cell_type": "markdown",
   "metadata": {},
   "source": [
    "## View the data of the factor"
   ]
  },
  {
   "cell_type": "code",
   "execution_count": 23,
   "metadata": {},
   "outputs": [
    {
     "data": {
      "text/plain": "                                             1YearReturns\n2020-02-06 00:00:00+00:00 Equity(0 [A])          0.122599\n                          Equity(9 [AAL])       -0.197773\n                          Equity(14 [AAP])      -0.127152\n                          Equity(15 [AAPL])      0.872611\n                          Equity(23 [ABBV])      0.175895",
      "text/html": "<div>\n<style scoped>\n    .dataframe tbody tr th:only-of-type {\n        vertical-align: middle;\n    }\n\n    .dataframe tbody tr th {\n        vertical-align: top;\n    }\n\n    .dataframe thead th {\n        text-align: right;\n    }\n</style>\n<table border=\"1\" class=\"dataframe\">\n  <thead>\n    <tr style=\"text-align: right;\">\n      <th></th>\n      <th></th>\n      <th>1YearReturns</th>\n    </tr>\n  </thead>\n  <tbody>\n    <tr>\n      <th rowspan=\"5\" valign=\"top\">2020-02-06 00:00:00+00:00</th>\n      <th>Equity(0 [A])</th>\n      <td>0.122599</td>\n    </tr>\n    <tr>\n      <th>Equity(9 [AAL])</th>\n      <td>-0.197773</td>\n    </tr>\n    <tr>\n      <th>Equity(14 [AAP])</th>\n      <td>-0.127152</td>\n    </tr>\n    <tr>\n      <th>Equity(15 [AAPL])</th>\n      <td>0.872611</td>\n    </tr>\n    <tr>\n      <th>Equity(23 [ABBV])</th>\n      <td>0.175895</td>\n    </tr>\n  </tbody>\n</table>\n</div>"
     },
     "execution_count": 23,
     "metadata": {},
     "output_type": "execute_result"
    }
   ],
   "source": [
    "df1.head()"
   ]
  },
  {
   "cell_type": "markdown",
   "metadata": {},
   "source": [
    "## Explore the demean function\n",
    "\n",
    "The Returns class inherits from zipline.pipeline.factors.factor.  \n",
    "[The documentation for demean is located here](https://www.zipline.io/appendix.html#zipline.pipeline.factors.Factor.demean), and is also pasted below:\n",
    "\n",
    "```\n",
    "demean(mask=sentinel('NotSpecified'), groupby=sentinel('NotSpecified'))[source]\n",
    "Construct a Factor that computes self and subtracts the mean from row of the result.\n",
    "\n",
    "If mask is supplied, ignore values where mask returns False when computing row means, and output NaN anywhere the mask is False.\n",
    "\n",
    "If groupby is supplied, compute by partitioning each row based on the values produced by groupby, de-meaning the partitioned arrays, and stitching the sub-results back together.\n",
    "\n",
    "Parameters:\t\n",
    "mask (zipline.pipeline.Filter, optional) – A Filter defining values to ignore when computing means.\n",
    "groupby (zipline.pipeline.Classifier, optional) – A classifier defining partitions over which to compute means.\n",
    "```"
   ]
  },
  {
   "cell_type": "markdown",
   "metadata": {},
   "source": [
    "## Quiz 2\n",
    "\n",
    "By looking at the documentation, and then the source code for `demean`, what are two parameters for this function?  Which one or ones would you call if you wanted to demean by sector and wish to demean for all values in the chosen universe?\n",
    "\n",
    "[The source code](https://www.zipline.io/_modules/zipline/pipeline/factors/factor.html#Factor.demean) has useful comments to help you answer this question."
   ]
  },
  {
   "cell_type": "markdown",
   "metadata": {},
   "source": [
    "## Answer 2 here"
   ]
  },
  {
   "cell_type": "markdown",
   "metadata": {},
   "source": [
    "## Quiz 3\n",
    "Turn 1 year returns into an alpha factor\n",
    "\n",
    "We can do some processing to convert our signal (1 year return) into an alpha factor. One step is to demean by sector.\n",
    "\n",
    "* demean\n",
    "For each stock, we want to take the average return of stocks that are in the same sector, and then remove this from the return of each individual stock."
   ]
  },
  {
   "cell_type": "markdown",
   "metadata": {},
   "source": [
    "## Answer 3"
   ]
  },
  {
   "cell_type": "code",
   "execution_count": 24,
   "metadata": {},
   "outputs": [],
   "source": [
    "#TODO\n",
    "# create a pipeline called p2\n",
    "\n",
    "# create a factor of one year returns, deman by sector\n",
    "\n",
    "# add the factor to the p2 pipeline\n"
   ]
  },
  {
   "cell_type": "markdown",
   "metadata": {},
   "source": [
    "## visualize the second pipeline"
   ]
  },
  {
   "cell_type": "code",
   "execution_count": 25,
   "metadata": {},
   "outputs": [
    {
     "ename": "NameError",
     "evalue": "name 'p2' is not defined",
     "output_type": "error",
     "traceback": [
      "\u001B[1;31m---------------------------------------------------------------------------\u001B[0m",
      "\u001B[1;31mNameError\u001B[0m                                 Traceback (most recent call last)",
      "\u001B[1;32m<ipython-input-25-8a7f51e6aab5>\u001B[0m in \u001B[0;36m<module>\u001B[1;34m()\u001B[0m\n\u001B[1;32m----> 1\u001B[1;33m \u001B[0mp2\u001B[0m\u001B[1;33m.\u001B[0m\u001B[0mshow_graph\u001B[0m\u001B[1;33m(\u001B[0m\u001B[0mformat\u001B[0m\u001B[1;33m=\u001B[0m\u001B[1;34m'png'\u001B[0m\u001B[1;33m)\u001B[0m\u001B[1;33m\u001B[0m\u001B[1;33m\u001B[0m\u001B[0m\n\u001B[0m",
      "\u001B[1;31mNameError\u001B[0m: name 'p2' is not defined"
     ]
    }
   ],
   "source": [
    "p2.show_graph(format='png')"
   ]
  },
  {
   "cell_type": "markdown",
   "metadata": {},
   "source": [
    "## Quiz 4\n",
    "How does this pipeline compare with the first pipeline that we created earlier?"
   ]
  },
  {
   "cell_type": "markdown",
   "metadata": {},
   "source": [
    "## Answer 4 here\n"
   ]
  },
  {
   "cell_type": "markdown",
   "metadata": {},
   "source": [
    "## run pipeline and view the factor data"
   ]
  },
  {
   "cell_type": "code",
   "execution_count": null,
   "metadata": {},
   "outputs": [],
   "source": [
    "df2 = engine.run_pipeline(p2, factor_start_date, universe_end_date)"
   ]
  },
  {
   "cell_type": "code",
   "execution_count": null,
   "metadata": {},
   "outputs": [],
   "source": [
    "df2.head()"
   ]
  },
  {
   "cell_type": "markdown",
   "metadata": {},
   "source": [
    "## Solution\n",
    "[Solution notebook](solution.ipynb)"
   ]
  }
 ],
 "metadata": {
  "kernelspec": {
   "display_name": "Python 3",
   "language": "python",
   "name": "python3"
  },
  "language_info": {
   "codemirror_mode": {
    "name": "ipython",
    "version": 3
   },
   "file_extension": ".py",
   "mimetype": "text/x-python",
   "name": "python",
   "nbconvert_exporter": "python",
   "pygments_lexer": "ipython3",
   "version": "3.6.13"
  }
 },
 "nbformat": 4,
 "nbformat_minor": 2
}