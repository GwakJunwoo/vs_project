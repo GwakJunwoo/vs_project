{
 "cells": [
  {
   "cell_type": "markdown",
   "metadata": {
    "collapsed": true,
    "pycharm": {
     "name": "#%% md\n"
    }
   },
   "source": [
    "### Sorting Algorithm"
   ]
  },
  {
   "cell_type": "code",
   "execution_count": null,
   "outputs": [],
   "source": [
    "# merge sort: counting inversions\n",
    "\n",
    "def merge_two_sorted_halves(arr, start_one, end_one, start_two, end_two):\n",
    "    count = 0\n",
    "    left_index = start_one\n",
    "    right_index = start_two\n",
    "\n",
    "    output_length = (end_two - start_two + 1) + (end_one - start_one + 1)\n",
    "    output_list = [0 for _ in range(output_length)]\n",
    "    index = 0\n",
    "\n",
    "    while index < output_length:\n",
    "        if arr[left_index] <= arr[right_index]:\n",
    "            output_list[index] = arr[left_index]\n",
    "            left_index += 1\n",
    "        else:\n",
    "            count += (end_one - left_index + 1) # 뛰어 넘어야 하는 개수\n",
    "            output_list[index] = arr[right_index]\n",
    "            right_index += 1\n",
    "\n",
    "        index += 1\n",
    "\n",
    "        if left_index > end_one:\n",
    "            for i in range(right_index, end_two + 1):\n",
    "                output_list[index] = arr[i]\n",
    "                index += 1\n",
    "            break\n",
    "\n",
    "        elif right_index > end_two:\n",
    "            for i in range(left_index, end_one + 1):\n",
    "                output_list[index] = arr[i]\n",
    "                index += 1\n",
    "            break\n",
    "\n",
    "        index = start_one\n",
    "        for i in range(output_length):\n",
    "            arr[index] = output_list[i]\n",
    "            index += 1\n",
    "\n",
    "    return count\n",
    "\n",
    "def inversion_count_func(arr, start_index, end_index):\n",
    "    if start_index >= end_index:\n",
    "        return 0\n",
    "\n",
    "    mid_index = start_index + (end_index - start_index) // 2\n",
    "\n",
    "    left_answer = inversion_count_func(arr, start_index, mid_index)\n",
    "    right_answer = inversion_count_func(arr, mid_index + 1, end_index)\n",
    "\n",
    "    output = left_answer + right_answer\n",
    "\n",
    "    output += merge_two_sorted_halves(arr, start_index, mid_index, mid_index + 1, end_index)\n",
    "    return output\n",
    "\n",
    "def count_inversion(arr):\n",
    "    start_index = 0\n",
    "    end_index = len(arr) - 1\n",
    "    output = inversion_count_func(arr, start_index, end_index)\n",
    "    return output"
   ],
   "metadata": {
    "collapsed": false,
    "pycharm": {
     "name": "#%%\n"
    }
   }
  },
  {
   "cell_type": "code",
   "execution_count": null,
   "outputs": [],
   "source": [
    "# Quick sort\n",
    "\n",
    "def sort_a_little_bit(items, begin_index, end_index):\n",
    "    left_index = begin_index\n",
    "    pivot_index = end_index\n",
    "    pivot_value = items[pivot_index]\n",
    "\n",
    "    while pivot_index != left_index:\n",
    "        item = items[left_index]\n",
    "        if item <= pivot_value:\n",
    "            left_index += 1\n",
    "            continue\n",
    "\n",
    "        items[left_index] = items[pivot_index - 1]\n",
    "        items[pivot_index - 1] = pivot_value\n",
    "        items[pivot_index] = item\n",
    "        pivot_index -= 1\n",
    "\n",
    "    return pivot_index\n",
    "\n",
    "def sort_all(items, begin_index, end_index):\n",
    "    if end_index <= begin_index:\n",
    "        return\n",
    "\n",
    "    pivot_index = sort_a_little_bit(items, begin_index, end_index)\n",
    "    sort_all(items, begin_index, pivot_index - 1)\n",
    "    sort_all(items, pivot_index + 1, end_index)\n",
    "\n",
    "def quicksort(items):\n",
    "    sort_all(items, 0, len(items) - 1)"
   ],
   "metadata": {
    "collapsed": false,
    "pycharm": {
     "name": "#%%\n"
    }
   }
  },
  {
   "cell_type": "code",
   "execution_count": null,
   "outputs": [],
   "source": [
    "# heap sort\n",
    "\n",
    "def heapify(arr, n, i):\n",
    "\n",
    "    largest_index = i\n",
    "    left_node = 2 * i + 1\n",
    "    right_node = 2 * i + 2\n",
    "\n",
    "    if left_node < n and arr[i] < arr[left_node]:\n",
    "        largest_index = left_node\n",
    "\n",
    "    if right_node < n and arr[largest_index] < arr[right_node]:\n",
    "        largest_index = right_node\n",
    "\n",
    "    if largest_index != i:\n",
    "        arr[i], arr[largest_index] = arr[largest_index], arr[i]\n",
    "\n",
    "        heapify(arr, n, largest_index)\n",
    "\n",
    "def heapsort(arr):\n",
    "\n",
    "    n = len(arr)\n",
    "\n",
    "    # Build a maxheap.\n",
    "    for i in range(n, -1, -1):\n",
    "        heapify(arr, n, i)\n",
    "\n",
    "    # One by one extract elements\n",
    "    for i in range(n-1, 0, -1):\n",
    "        arr[i], arr[0] = arr[0], arr[i] # swap\n",
    "        heapify(arr, i, 0)"
   ],
   "metadata": {
    "collapsed": false,
    "pycharm": {
     "name": "#%%\n"
    }
   }
  }
 ],
 "metadata": {
  "kernelspec": {
   "display_name": "Python 3",
   "language": "python",
   "name": "python3"
  },
  "language_info": {
   "codemirror_mode": {
    "name": "ipython",
    "version": 2
   },
   "file_extension": ".py",
   "mimetype": "text/x-python",
   "name": "python",
   "nbconvert_exporter": "python",
   "pygments_lexer": "ipython2",
   "version": "2.7.6"
  }
 },
 "nbformat": 4,
 "nbformat_minor": 0
}