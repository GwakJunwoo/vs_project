{
 "cells": [
  {
   "cell_type": "markdown",
   "metadata": {},
   "source": [
    "# 아직도 주식만 사? : 최악의 상황에서 내 잔고를 지켜주는 강건한 포트폴리오 최적화 알고리즘\n",
    "## 파생상품을 포함한 강건한 포트폴리오 최적화 알고리즘"
   ]
  },
  {
   "cell_type": "markdown",
   "metadata": {},
   "source": []
  },
  {
   "cell_type": "markdown",
   "metadata": {},
   "source": []
  },
  {
   "cell_type": "markdown",
   "metadata": {},
   "source": [
    "## 배경, 이론적 기반, 원리에 대한 설명"
   ]
  },
  {
   "cell_type": "markdown",
   "metadata": {},
   "source": []
  },
  {
   "cell_type": "markdown",
   "metadata": {},
   "source": [
    "### 배경"
   ]
  },
  {
   "cell_type": "markdown",
   "metadata": {},
   "source": [
    "불확실한 시장 상황의 변동에 대응하기 위해 자산을 배분하여 포트폴리오를 구축하는 것은 이제 개인투자자들도 흔히 알고 있는 개념으로 자리잡았다.\n",
    "\n",
    "그 중 가장 유명한 방법은 노벨상 수상자 Harry Markowitz의 효율적 투자선을 이용한 방법론이다. 포트폴리오의 기대 수익을 극대화함과 동시에, 수익률의 분산으로 측정되는 위험(Risk)을 최소화하는 것이 골자다.\n",
    "\n",
    "그러나 해당 모델의 입력값(Input value)으로 사용되는 자산 수익률의 평균 및 공분산은 Noise가 있는 데이터에서 추정되기에, 정확하지 않다는 한계를 지닌다. 이러한 한계로 실무에서 이론을 그대로 사용하기는 어렵다.\n",
    "\n",
    "이러한 오류를 완화하기 위하여 Bayesian estimation(Black and Litterman)을 이용하는 등의 접근이 시도된 바 있고, 2000년대 중반부터는 강건한 최적화(Robust Optimization)에 관련된 연구가 활발히 진행되었다."
   ]
  },
  {
   "cell_type": "markdown",
   "metadata": {},
   "source": []
  },
  {
   "cell_type": "markdown",
   "metadata": {},
   "source": [
    "### Robust Optimization"
   ]
  },
  {
   "cell_type": "markdown",
   "metadata": {},
   "source": [
    "기존의 최적화 방법론과 달리, 강건한 최적화 문제가 가지는 특징 다음과 같다.\n",
    "\n",
    "- 비확률적(Non-stochastic)\n",
    "- 불확실성 집합(Uncertainty set)의 존재\n",
    "- 최악의 결과(매개변수)를 예상할 경우, 불확실성 집합 내에서 최고의 선택을 찾음\n",
    "\n",
    "그러나 이 또한 Markowitz의 모델과 비슷한 한계를 지닌다.\n",
    "\n",
    "따라서 Portfolio의 보험적인 역할을 하는 European Option을 사용하여 불확실성 집합에 의해 포착되지 않는 최악의 사건에 대비하는 방법론을 채택했다. "
   ]
  },
  {
   "cell_type": "markdown",
   "metadata": {},
   "source": []
  },
  {
   "cell_type": "markdown",
   "metadata": {},
   "source": [
    "### 파생상품(옵션)을 포함하여 손실을 최소화하는 강건한 최적화 포트폴리오"
   ]
  },
  {
   "cell_type": "markdown",
   "metadata": {},
   "source": [
    "쉽게 말하자면, 개별주식으로 이루어져 있는 포트폴리오에 개별주식 옵션을 포함하여 최악의 상황에서도 포트폴리오의 수익률을 방어하는 자산배분 알고리즘을 구현하고자 한다.\n",
    "\n",
    "특히 전문투자자가 아닌, 일반투자자 또한 포트폴리오를 구축할 수 있도록 하는 다음의 장점을 가진다.\n",
    "\n",
    "- 주식을 공매도 하지 않아도 됨\n",
    "- 옵션 매도 포지션을 구축하지 않아도 됨(오로지 옵션 매수 포지션만 구축)\n",
    "- 옵션에의 접근성이 떨어진다면, ELW로 대체 가능"
   ]
  },
  {
   "cell_type": "markdown",
   "metadata": {},
   "source": []
  },
  {
   "cell_type": "markdown",
   "metadata": {},
   "source": [
    "#### Parameters 설명"
   ]
  },
  {
   "cell_type": "markdown",
   "metadata": {},
   "source": [
    "* $t = 0$: 현재시간\n",
    "* $t = T$: 투자 만기\n",
    "* $w_i ∈ \\mathbb{R}$: i 자산의 비중을 표현하는 벡터\n",
    "* $r$: 수익률 벡터\n",
    "* $\\mu = \\mathbb{E}[r]$: 평균 수익률 벡터\n",
    "* $\\epsilon = r - \\mathbb{E}[r]$: 잔차 수익률 벡터\n",
    "\n",
    "$$r = \\mu + \\epsilon$$"
   ]
  },
  {
   "cell_type": "markdown",
   "metadata": {},
   "source": []
  },
  {
   "cell_type": "markdown",
   "metadata": {},
   "source": [
    "* $Cov[r] = \\mathbb{E}[\\epsilon\\epsilon^t] = \\Sigma ∈ \\mathbb{R^{n * n}}$: 수익률의 공분산 행렬\n",
    "* $r_p$: 포트폴리오의 수익률\n",
    "\n",
    "$$r_p = w^Tr = w^T\\mu + w^T\\epsilon$$"
   ]
  },
  {
   "cell_type": "markdown",
   "metadata": {},
   "source": [
    "#### Markowitz의 최적화 방법론 도출\n",
    "* $\\lambda$: 투자자의 위험 회피도(Risk-aversion)\n",
    "$$max_{w ∈ \\mathbb{R^n}} \\{w^T\\mu-\\lambda w^T\\Sigma w | w^T1 = 1, l \\leq w \\leq u \\}$$"
   ]
  },
  {
   "cell_type": "markdown",
   "metadata": {},
   "source": []
  },
  {
   "cell_type": "markdown",
   "metadata": {},
   "source": [
    "### (2) Uncertainty Set를 어떻게 정의할 것인가\n",
    "\n",
    "Uncertainty Set $\\theta$은 간단하게는 input parameters $\\mu, \\Sigma$ 가 존재하는 범위를 정의하는 집합으로, 앞서 언급한 Markowitz 모델과 Equivalent mean-standard deviation 모델 둘 다 해당 인풋 변수들의 값에 영향을 많이 받는다는 점을 보완하기 위한 방안이다.\n"
   ]
  },
  {
   "cell_type": "markdown",
   "metadata": {},
   "source": [
    "- 수익률 $r$ 이 발생 가능할 것으로 예상하는 수익률 범위를 $\\Theta_{r}$을 통해 정의하며 이는 다음과 같이 수식화 된다.\n",
    "\n",
    "$$\n",
    "\\Theta_{\\boldsymbol{r}}=\\left\\{\\boldsymbol{r}:(\\boldsymbol{r}-\\boldsymbol{\\mu})^{T} \\boldsymbol{\\Sigma}^{-1}(\\boldsymbol{r}-\\boldsymbol{\\mu}) \\leq \\delta^{2}\\right\\}\n",
    "$$\n",
    "\n",
    "- 투자자의 위험회피도 $\\delta$는 다음과 같이 정의된다.\n",
    "\n",
    "$$\n",
    "\\delta=\\sqrt{\\frac{p}{1-p}} \\text { for } p \\in[0,1) \\quad \\text { and } \\quad \\delta=+\\infty \\text { for } p=1\n",
    "$$\n",
    "\n",
    "즉, 투자자로부터 위험회피도를 0과 1사이의 값으로 전달받음으로써 알고리즘은 $\\delta$의 크기 만큼 수익률의 변동이 발생할 것으로 가정한다."
   ]
  },
  {
   "cell_type": "markdown",
   "metadata": {
    "pycharm": {
     "name": "#%% md\n"
    }
   },
   "source": [
    "\n",
    "Uncertainty Set을 앞선 최적화 방법론 식에 적용하면 다음과 같이 표현된다.\n",
    "\n",
    "$$\n",
    "\\max _{\\boldsymbol{w}, \\boldsymbol{s}}\\left\\{\\min _{\\boldsymbol{\\mu} \\in \\Theta_{\\boldsymbol{\\mu}}} \\boldsymbol{\\mu}^{T}(\\boldsymbol{w}-\\boldsymbol{s})-\\delta \\max _{\\boldsymbol{\\Sigma} \\in \\Theta_{\\boldsymbol{\\Sigma}}}\\left\\|\\boldsymbol{\\Sigma}^{1 / 2}(\\boldsymbol{w}-\\boldsymbol{s})\\right\\|_{2} \\mid \\boldsymbol{w}^{T} \\mathbf{1}=1, \\boldsymbol{s} \\geq \\mathbf{0}, \\boldsymbol{l} \\leq \\boldsymbol{w} \\leq \\boldsymbol{u}\\right\\}\n",
    "$$"
   ]
  },
  {
   "cell_type": "markdown",
   "metadata": {},
   "source": [
    "이때, 모델이 지나치게 보수적인 투자안 만을 출력하는 것을 방지하기 위해 $r$이 양수범위에 속하는 것으로 제한한다. 이 점을 uncertainty set $\\Theta^{+}_{r}$ 정의에 반영하면 다음과 같다.\n",
    "\n",
    "$$\n",
    "\\max _{\\boldsymbol{w}, \\boldsymbol{s} \\in \\mathbb{R}^{n}}\\left\\{\\boldsymbol{\\mu}^{T}(\\boldsymbol{w}-\\boldsymbol{s})-\\delta\\left\\|\\boldsymbol{\\Sigma}^{1 / 2}(\\boldsymbol{w}-\\boldsymbol{s})\\right\\|_{2} \\mid \\boldsymbol{w}^{T} \\mathbf{1}=1, \\boldsymbol{s} \\geq \\mathbf{0}, \\boldsymbol{l} \\leq \\boldsymbol{w} \\leq \\boldsymbol{u}\\right\\}\n",
    "$$"
   ]
  },
  {
   "cell_type": "markdown",
   "metadata": {},
   "source": []
  },
  {
   "cell_type": "markdown",
   "metadata": {},
   "source": [
    "## 0. Modules Import"
   ]
  },
  {
   "cell_type": "code",
   "execution_count": 1,
   "metadata": {
    "pycharm": {
     "name": "#%%\n"
    }
   },
   "outputs": [],
   "source": [
    "#필요한 패키지 호출\n",
    "from pykrx import stock\n",
    "import FinanceDataReader as fdr\n",
    "import matplotlib.pyplot as plt\n",
    "import pandas as pd\n",
    "import numpy as np\n",
    "import cvxpy as cvx\n",
    "import progressbar\n",
    "import warnings"
   ]
  },
  {
   "cell_type": "markdown",
   "metadata": {},
   "source": [
    "## 1. Portfolio, Stock, Derivative 객체 생성"
   ]
  },
  {
   "cell_type": "markdown",
   "metadata": {},
   "source": [
    "### 1-1. Stock\n",
    "\n",
    "Stock class는 Ticker를 전달 받아 daily price, daily return을 저장하는 객체이다. 이때 reference_date와 reference_price는 포트폴리오를 구성하는 시점에서의 날짜 정보와 자산가격을 저장한다. 이는 파생상품 객체로 전달되어 연산에 이용된다.\n",
    "\n",
    "다음은 Stock class의 특징이다.\n",
    "* 이번에는 이용의 편의를 위하여 pykrx package를 사용하였다. 이후 사용자의 기호에따라 다양하게 변경이 가능하다.\n",
    "* 포트폴리오에 편입할 모든 주식 종목은 같은 길이의 시계열을 담고 있어야하기에 start_date와 reference_date를 일치시켜주어야 한다.\n",
    "* 지정된 시계열을 통해 covariance matrix가 계산되기 때문에 시계열 길이를 수정하는 방법으로 투자자는 본인의 투자 Term을 조정할 수 있다."
   ]
  },
  {
   "cell_type": "code",
   "execution_count": 2,
   "metadata": {},
   "outputs": [],
   "source": [
    "class Stock:\n",
    "    def __init__(self, tickers, start_date='2020-01-04', reference_date='2022-01-04'):\n",
    "        self.buffer = dict()\n",
    "        self.register_buffer('type', 'stock')\n",
    "        daily_price = fdr.DataReader(tickers, start=start_date, end=reference_date)\n",
    "\n",
    "        daily_return = self.returns(df=daily_price)\n",
    "        reference_date = reference_date\n",
    "        reference_price = daily_price.iloc[-1]['Close']\n",
    "\n",
    "        self.register_buffer('ticker', tickers)\n",
    "        self.register_buffer('name', tickers)\n",
    "        self.register_buffer('daily_return', daily_return)\n",
    "        self.register_buffer('reference_date', reference_date)\n",
    "        self.register_buffer('reference_price', reference_price)\n",
    "\n",
    "    def register_buffer(self, name: str, buffer):\n",
    "        self.buffer[name] = buffer\n",
    "\n",
    "    @staticmethod\n",
    "    def returns(df: pd.DataFrame):\n",
    "        return np.array(df['Close'].pct_change()[1:])\n",
    "\n",
    "    def view_parameters(self):\n",
    "        for key, value in self.buffer.items():\n",
    "            print('{}: {}'.format(key, value))"
   ]
  },
  {
   "cell_type": "markdown",
   "metadata": {},
   "source": [
    "### 1-2. Derivative\n",
    "\n",
    "Derivative class는 European Option을 생성하는 객체이다. 이때 전달받는 인자로 Stock 객체의 base_stock과 콜/풋을 구분하는 category, 옵션의 이름, 행사가격, 프리미엄을 가진다.\n",
    "\n",
    "다음은 Derivative class의 특징이다.\n",
    "* 옵션의 경우 지수 옵션을 제외하고 국내 시장에서 유동성이 적은 실정이다. 따라서 투자자는 본인의 선택에 따라 ELW 상품으로 이를 대신할 수 있다. 이번 예시에서 KRX 예선데이터의 ELW 데이터를 활용하였다.\n",
    "* 옵션의 수익률을 연산하기 전에 옵션 수익률은 기초자산 수익률의 함수임을 이해해야한다.\n",
    "$$\n",
    "V_{\\text {put }}\\left(S_{T}\\right)=\\max \\left\\{0, K-S_{T}\\right\\} \\quad \\text { and } \\quad V_{\\text {call }}\\left(S_{T}\\right)=\\max \\left\\{0, S_{T}-K\\right\\}\n",
    "$$\n"
   ]
  },
  {
   "cell_type": "markdown",
   "metadata": {
    "pycharm": {
     "name": "#%% md\n"
    }
   },
   "source": [
    "이때, 콜 옵션을 기초자산 수익률의 함수로 표현하면 다음과 같다.\n",
    "$$\n",
    "f_{j}(\\tilde{\\boldsymbol{r}})=\\frac{1}{C_{j}} \\max \\left\\{0, S_{0}^{i} \\tilde{r}_{i}-K_{j}\\right\\}\n",
    "=\\max \\left\\{0, a_{j}+b_{j} \\tilde{r}_{i}\\right\\}, \\text { with } a_{j}=-\\frac{K_{j}}{C_{j}}<0 \\text { and } b_{j}=\\frac{S_{0}^{i}}{C_{j}}>0\n",
    "$$\n",
    "\n",
    "풋 옵션도 동일한 방식으로 기초자산 수익률에 대한 함수로 규정하고\n",
    "$$\n",
    "\\tilde{\\boldsymbol{r}}^{d}=f(\\overline{\\boldsymbol{r}})=\\max \\{\\mathbf{0}, \\boldsymbol{a}+\\mathbf{B} \\tilde{\\boldsymbol{r}}\\}\n",
    "$$\n",
    "다음의 수식에서 도출된 $a$ 와 $B$를 Portfolio 객체에 전달하는 것을 해당 class의 목표로 한다."
   ]
  },
  {
   "cell_type": "code",
   "execution_count": 3,
   "metadata": {},
   "outputs": [],
   "source": [
    "class Derivative:\n",
    "    def __init__(self, base_stock, category, name, strike_price, premium):\n",
    "        self.buffer = dict()\n",
    "        self.register_buffer('type', 'derivative')\n",
    "        self.register_buffer('base_ticker', base_stock.buffer['ticker'])\n",
    "        self.register_buffer('base_stock', stock.get_market_ticker_name(base_stock.buffer['ticker']))\n",
    "        self.register_buffer('category', category)\n",
    "        self.register_buffer('name', name)\n",
    "        self.register_buffer('S0', base_stock.buffer['reference_price'])\n",
    "        self.register_buffer('K', strike_price)\n",
    "        self.register_buffer('cost', premium)\n",
    "\n",
    "        self.returns()\n",
    "\n",
    "    def returns(self):\n",
    "        if self.buffer['category'] == '콜' or 'call':\n",
    "            self.buffer['a'] = -(self.buffer['K'] / self.buffer['cost'])\n",
    "            self.buffer['B'] = (self.buffer['S0'] / self.buffer['cost'])\n",
    "        elif self.buffer['category'] == '풋' or 'put':\n",
    "            self.buffer['a'] = (self.buffer['K'] / self.buffer['cost'])\n",
    "            self.buffer['B'] = -(self.buffer['S0'] / self.buffer['cost'])\n",
    "        else:\n",
    "            raise Exception('Type error!')\n",
    "\n",
    "    def register_buffer(self, name: str, buffer):\n",
    "        self.buffer[name] = buffer\n",
    "\n",
    "    def view_parameters(self):\n",
    "        for key, value in self.buffer.items():\n",
    "            print('{}: {}'.format(key, value))"
   ]
  },
  {
   "cell_type": "markdown",
   "metadata": {
    "pycharm": {
     "name": "#%% md\n"
    }
   },
   "source": [
    "### 1-3. Portfolio\n",
    "Portfolio class는 위에서 정의한 Stock, Derivative class들을 add하여 포트폴리오 풀을 형성하고 최적화 알고리즘을 통해 강건한 포트폴리오 자산배분을 제시한다.\n",
    "\n",
    "위에서 소개한 최적화 식에서 옵션을 포함한 최적화 모형으로 다시 정리한다면 다음의 수식으로 정리된다.\n",
    "$$\n",
    "\\boldsymbol{\\mu}^{T}\\left(\\boldsymbol{w}+\\mathbf{B}^{T} \\boldsymbol{y}-\\boldsymbol{s}\\right)-\\delta\\left\\|\\boldsymbol{\\Sigma}^{1 / 2}\\left(\\boldsymbol{w}+\\mathbf{B}^{T} \\boldsymbol{y}-\\boldsymbol{s}\\right)\\right\\|_{2}+\\boldsymbol{a}^{T} \\boldsymbol{y}\n",
    "$$\n",
    "\n",
    "\n",
    "모든 증권(개별주식, 옵션) 비중의 합이 1이 되게 함으로써 레버리지를 제한하였다. 투자자는 개인의 의사에 따라 제한을 완화하는 식의 변형이 가능하다.\n",
    "\n",
    "다음은 Portfolio class의 함수에 대한 간략한 설명이다.\n",
    "- add : 주식, 파생상품 추가\n",
    "- fit : 최적 포트폴리오 도출\n",
    "- set_risk_aversion : 위험회피성향 설정\n",
    "- view_parameter : 매개변수 출력"
   ]
  },
  {
   "cell_type": "code",
   "execution_count": 4,
   "metadata": {
    "pycharm": {
     "name": "#%%\n"
    }
   },
   "outputs": [],
   "source": [
    "class Portfolio:\n",
    "    def __init__(self, risk_aversion, securities_storage=False):\n",
    "        \"\"\"\n",
    "        n: The number of stock\n",
    "        m: The number of derivatives\n",
    "        L: length of time-series\n",
    "        buffer: a dictionary that stores all the data needed for the operation\n",
    "        \"\"\"\n",
    "\n",
    "        self.buffer = dict()\n",
    "        # stock daily price dataframe (n x 1)\n",
    "        self.reference_price = np.array([])\n",
    "        # stock daily return matrix (n x L-1)\n",
    "        self.stock_return = np.array([])\n",
    "        # stock daily return covariance matrix (n x n)\n",
    "        self.sigma = np.array([])\n",
    "        # stock return mean matrix (n x 1)\n",
    "        self.mu = np.array([])\n",
    "        # stock optimal weights matrix (n x 1)\n",
    "        self.weight_stock = np.array([])\n",
    "        # derivative optimal weights matrix (m x 1)\n",
    "        self.weight_derivative = np.array([])\n",
    "        # derivative, base_stock mapping & parameter matrix\n",
    "        self.B = np.array([])\n",
    "        # derivative return function parameter matrix\n",
    "        self.a = np.array([])\n",
    "        # variable matrix for optimization (m x 1)\n",
    "        self.y = np.array([])\n",
    "        # variable matrix for optimization (n x 1)\n",
    "        self.s = np.array([])\n",
    "        # risk-aversion 0<=p<=1\n",
    "        self.p = risk_aversion\n",
    "        # adjusted risk aversion\n",
    "        self.xi = np.sqrt(self.p / (1 - self.p))\n",
    "\n",
    "        self.ticker_list = list()\n",
    "        self.derivative_list = list()\n",
    "        self.n = 0\n",
    "        self.m = 0\n",
    "\n",
    "        if securities_storage:\n",
    "            self.stock_storage = list()\n",
    "            self.derivative_storage = list()\n",
    "\n",
    "\n",
    "    def add(self, security, print_inserting_info=False):\n",
    "        try:\n",
    "            if security.buffer['type'] == 'stock':\n",
    "                if self.reference_price.size != 0 and self.stock_return.size != 0:\n",
    "                    self.reference_price = np.vstack((self.reference_price, security.buffer['reference_price']))\n",
    "                    self.stock_return = np.vstack((self.stock_return, security.buffer['daily_return']))\n",
    "                else:\n",
    "                    self.reference_price = np.append(self.reference_price, security.buffer['reference_price'])\n",
    "                    self.stock_return = np.append(self.stock_return, security.buffer['daily_return'])\n",
    "                self.ticker_list.append(security.buffer['ticker'])\n",
    "\n",
    "                try:\n",
    "                    if self.B.size != 0:\n",
    "                        self.B = np.hstack((self.B, np.zeros((len(self.derivative_list), 1))))\n",
    "                    else:\n",
    "                        self.B = np.zeros((self.m, self.n))\n",
    "                except Exception as e:\n",
    "                    print(e)\n",
    "\n",
    "                self.n += 1\n",
    "                self.stock_storage.append(security)\n",
    "\n",
    "            elif security.buffer['type'] == 'derivative':\n",
    "                self.m += 1\n",
    "                self.derivative_list.append(security.buffer['name'])\n",
    "                if self.a.size != 0 and self.B.size != 0:\n",
    "                    self.a = np.vstack((self.a, security.buffer['a']))\n",
    "                    self.B = np.vstack((self.B, np.zeros((1, len(self.ticker_list)))))\n",
    "                else:\n",
    "                    self.a = np.append(self.a, security.buffer['a'])\n",
    "                    self.B = np.zeros((self.m, self.n))\n",
    "\n",
    "                tmp = self.ticker_list.index(security.buffer['base_ticker'])\n",
    "                row = self.B.shape[0] - 1\n",
    "                self.B[row, tmp] = security.buffer['B']\n",
    "\n",
    "                self.derivative_storage.append(security)\n",
    "            if print_inserting_info:\n",
    "                print(\"{} {} is successfully inserted\".format(security.buffer['type'], security.buffer['name']))\n",
    "        except Exception as e:\n",
    "            print(e)\n",
    "\n",
    "    def fit(self, detail=False):\n",
    "        self.buffer['stock_price'] = self.reference_price\n",
    "        self.buffer['stock_return'] = self.stock_return\n",
    "        self.mu = np.mean(self.buffer['stock_return'], axis=1).T\n",
    "        self.sigma = np.cov(self.buffer['stock_return'])\n",
    "        self.buffer['mu'] = self.mu\n",
    "        self.buffer['sigma'] = self.sigma\n",
    "        self.buffer['B'] = self.B\n",
    "        self.buffer['a'] = self.a\n",
    "        self.buffer['xi'] = self.xi\n",
    "\n",
    "        n = self.buffer['mu'].shape[0]\n",
    "        m = self.buffer['B'].shape[0]\n",
    "\n",
    "        w = cvx.Variable((n, 1))\n",
    "        wd = cvx.Variable((m, 1))\n",
    "        y = cvx.Variable((m, 1))\n",
    "        s = cvx.Variable((n, 1))\n",
    "\n",
    "        w_one = np.ones((n, 1))\n",
    "        wd_one = np.ones((m, 1))\n",
    "\n",
    "        st1 = self.buffer['mu'].T @ (w + self.buffer['B'].T @ y - s)\n",
    "        st2 = self.buffer['xi'] * cvx.norm2(np.sqrt(self.buffer['sigma']) @ (w + self.buffer['B'].T @ y - s))\n",
    "        st3 = self.buffer['a'].T @ y\n",
    "\n",
    "        try:\n",
    "            obj = cvx.Maximize(st1 - st2 + st3)\n",
    "            constraints = [y <= wd, -y <= 0, -s <= 0, w_one.T @ w + wd_one.T @ wd == 1, -w <= 0]\n",
    "            prob = cvx.Problem(obj, constraints)\n",
    "            result = prob.solve(solver='SCS')\n",
    "\n",
    "        except Exception as e:\n",
    "            print(e)\n",
    "            result = None\n",
    "\n",
    "        self.weight_stock = w.value\n",
    "        self.weight_derivative = wd.value\n",
    "        self.y = y.value\n",
    "        self.s = s.value\n",
    "\n",
    "        if detail:\n",
    "            print(\"stock allocation: \\n{} \\nderivatives allocation:\\n{}\".format(self.weight_stock, self.weight_derivative))\n",
    "\n",
    "        return result\n",
    "\n",
    "    def set_risk_aversion(self, risk_aversion):\n",
    "        self.p = risk_aversion\n",
    "        self.xi = np.sqrt(self.p / (1 - self.p))\n",
    "        self.buffer['xi'] = self.xi\n",
    "\n",
    "    def view_parameters(self):\n",
    "        for key, value in self.buffer.items():\n",
    "            try:\n",
    "                print('{}: {}'.format(key, value.shape))\n",
    "\n",
    "            except Exception as e:\n",
    "                print('{}: {}'.format(key, value))"
   ]
  },
  {
   "cell_type": "markdown",
   "metadata": {},
   "source": [
    "## 2. 데이터 가져오기"
   ]
  },
  {
   "cell_type": "code",
   "execution_count": 5,
   "metadata": {
    "pycharm": {
     "name": "#%%\n"
    }
   },
   "outputs": [],
   "source": [
    "# 필요 데이터 로딩\n",
    "elw = pd.read_csv('[ELW]일별 매매정보(주문번호-1301-18)_202201.csv', encoding='cp949')\n",
    "elw = elw.append(pd.read_csv('[ELW]일별 매매정보(주문번호-1301-18)_202202.csv', encoding='cp949'))\n",
    "elw = elw.append(pd.read_csv('[ELW]일별 매매정보(주문번호-1301-18)_202203.csv', encoding='cp949'))\n",
    "\n",
    "# 임의의 Ticker 집합\n",
    "ticker_list1 = ['005930', '003490', '066570']\n",
    "ticker_list2 = ['005930', '003490', '066570', '000660', '005380', '017670', '051910', '001040']"
   ]
  },
  {
   "cell_type": "code",
   "execution_count": 6,
   "metadata": {
    "pycharm": {
     "name": "#%%\n"
    }
   },
   "outputs": [
    {
     "name": "stdout",
     "output_type": "stream",
     "text": [
      "삼성전자 대한항공 LG전자 "
     ]
    }
   ],
   "source": [
    "# elw 필요 데이터 추출\n",
    "elw = elw[['거래일자', '종목명', '종가', '행사가격', '콜/풋', '기초자산명']]\n",
    "\n",
    "# 예시 사용 기업 출력\n",
    "for i in ticker_list1:\n",
    "    print(stock.get_market_ticker_name(i), end=' ')"
   ]
  },
  {
   "cell_type": "code",
   "execution_count": 7,
   "metadata": {
    "pycharm": {
     "name": "#%%\n"
    }
   },
   "outputs": [
    {
     "name": "stdout",
     "output_type": "stream",
     "text": [
      "stock 005930 is successfully inserted\n",
      "derivative 신한G141삼성전자콜 is successfully inserted\n",
      "derivative 신한G142삼성전자콜 is successfully inserted\n",
      "derivative 신한G197삼성전자콜 is successfully inserted\n",
      "derivative 신한G143삼성전자콜 is successfully inserted\n",
      "derivative 신한G199삼성전자콜 is successfully inserted\n",
      "derivative 신한G084삼성전자풋 is successfully inserted\n",
      "derivative 신한G144삼성전자풋 is successfully inserted\n",
      "derivative 신한G145삼성전자풋 is successfully inserted\n",
      "derivative 신한G200삼성전자풋 is successfully inserted\n",
      "derivative 신한G146삼성전자풋 is successfully inserted\n",
      "derivative 신한G202삼성전자풋 is successfully inserted\n",
      "derivative 신한G203삼성전자풋 is successfully inserted\n",
      "derivative 신한G205삼성전자풋 is successfully inserted\n",
      "derivative 미래GK69삼성전자콜 is successfully inserted\n",
      "derivative 미래GN14삼성전자콜 is successfully inserted\n",
      "derivative 미래GQ46삼성전자콜 is successfully inserted\n",
      "derivative 미래GK70삼성전자콜 is successfully inserted\n",
      "derivative 미래GN15삼성전자콜 is successfully inserted\n",
      "derivative 미래GQ47삼성전자콜 is successfully inserted\n",
      "derivative 미래G574삼성전자콜 is successfully inserted\n",
      "derivative 미래GG39삼성전자콜 is successfully inserted\n",
      "derivative 미래GK71삼성전자콜 is successfully inserted\n",
      "derivative 미래GN16삼성전자콜 is successfully inserted\n",
      "derivative 미래GQ48삼성전자콜 is successfully inserted\n",
      "derivative 미래GK72삼성전자콜 is successfully inserted\n",
      "derivative 미래GN17삼성전자콜 is successfully inserted\n",
      "derivative 미래GA97삼성전자콜 is successfully inserted\n",
      "derivative 미래GG41삼성전자콜 is successfully inserted\n",
      "derivative 미래GK73삼성전자콜 is successfully inserted\n",
      "derivative 미래GN18삼성전자콜 is successfully inserted\n",
      "derivative 미래GQ50삼성전자콜 is successfully inserted\n",
      "derivative 미래GG42삼성전자콜 is successfully inserted\n",
      "derivative 미래GK74삼성전자콜 is successfully inserted\n",
      "derivative 미래GN19삼성전자콜 is successfully inserted\n",
      "derivative 미래GA99삼성전자콜 is successfully inserted\n",
      "derivative 미래GK75삼성전자콜 is successfully inserted\n",
      "derivative 미래GN20삼성전자콜 is successfully inserted\n",
      "derivative 미래GN21삼성전자콜 is successfully inserted\n",
      "derivative 미래GB01삼성전자콜 is successfully inserted\n",
      "derivative 미래GG45삼성전자콜 is successfully inserted\n",
      "derivative 미래GN22삼성전자콜 is successfully inserted\n",
      "derivative 미래G809삼성전자콜 is successfully inserted\n",
      "derivative 미래GB02삼성전자콜 is successfully inserted\n",
      "derivative 미래GG46삼성전자콜 is successfully inserted\n",
      "derivative 미래GN23삼성전자콜 is successfully inserted\n",
      "derivative 미래G810삼성전자콜 is successfully inserted\n",
      "derivative 미래GB03삼성전자콜 is successfully inserted\n",
      "derivative 미래GN24삼성전자콜 is successfully inserted\n",
      "derivative 미래G811삼성전자콜 is successfully inserted\n",
      "derivative 미래GG48삼성전자콜 is successfully inserted\n",
      "derivative 미래GN25삼성전자콜 is successfully inserted\n",
      "derivative 미래GG49삼성전자콜 is successfully inserted\n",
      "derivative 미래GN26삼성전자콜 is successfully inserted\n",
      "derivative 미래GG50삼성전자콜 is successfully inserted\n",
      "derivative 미래G586삼성전자콜 is successfully inserted\n",
      "derivative 미래GG51삼성전자콜 is successfully inserted\n",
      "derivative 미래GD80삼성전자콜 is successfully inserted\n",
      "derivative 미래GK76삼성전자풋 is successfully inserted\n",
      "derivative 미래GQ54삼성전자풋 is successfully inserted\n",
      "derivative 미래GQ55삼성전자풋 is successfully inserted\n",
      "derivative 미래GQ56삼성전자풋 is successfully inserted\n",
      "derivative 미래GN27삼성전자풋 is successfully inserted\n",
      "derivative 미래GB07삼성전자풋 is successfully inserted\n",
      "derivative 미래GB08삼성전자풋 is successfully inserted\n",
      "derivative 미래GB09삼성전자풋 is successfully inserted\n",
      "derivative 미래GB10삼성전자풋 is successfully inserted\n",
      "derivative NHG856삼성전자콜 is successfully inserted\n",
      "derivative NHG857삼성전자콜 is successfully inserted\n",
      "derivative NHG858삼성전자콜 is successfully inserted\n",
      "derivative NHG859삼성전자콜 is successfully inserted\n",
      "derivative NHG860삼성전자콜 is successfully inserted\n",
      "derivative NHG759삼성전자콜 is successfully inserted\n",
      "derivative NHG861삼성전자콜 is successfully inserted\n",
      "derivative NHG760삼성전자콜 is successfully inserted\n",
      "derivative NHG761삼성전자콜 is successfully inserted\n",
      "derivative NHG845삼성전자풋 is successfully inserted\n",
      "derivative NHG846삼성전자풋 is successfully inserted\n",
      "derivative NHG862삼성전자풋 is successfully inserted\n",
      "derivative NHG863삼성전자풋 is successfully inserted\n",
      "derivative NHG848삼성전자풋 is successfully inserted\n",
      "derivative NHG864삼성전자풋 is successfully inserted\n",
      "derivative NHG865삼성전자풋 is successfully inserted\n",
      "derivative NHG866삼성전자풋 is successfully inserted\n",
      "derivative NHG867삼성전자풋 is successfully inserted\n",
      "derivative NHG766삼성전자풋 is successfully inserted\n",
      "derivative NHG767삼성전자풋 is successfully inserted\n",
      "derivative NHG768삼성전자풋 is successfully inserted\n",
      "derivative NHG769삼성전자풋 is successfully inserted\n",
      "derivative 한국GZ12삼성전자콜 is successfully inserted\n",
      "derivative 한국GZ13삼성전자콜 is successfully inserted\n",
      "derivative 한국GX80삼성전자콜 is successfully inserted\n",
      "derivative 한국GZ14삼성전자콜 is successfully inserted\n",
      "derivative 한국GX81삼성전자콜 is successfully inserted\n",
      "derivative 한국GZ15삼성전자콜 is successfully inserted\n",
      "derivative 한국GX82삼성전자콜 is successfully inserted\n",
      "derivative 한국GZ16삼성전자콜 is successfully inserted\n",
      "derivative 한국GX83삼성전자콜 is successfully inserted\n",
      "derivative 한국GZ17삼성전자콜 is successfully inserted\n",
      "derivative 한국GX84삼성전자콜 is successfully inserted\n",
      "derivative 한국GZ18삼성전자콜 is successfully inserted\n",
      "derivative 한국GX85삼성전자콜 is successfully inserted\n",
      "derivative 한국GZ19삼성전자콜 is successfully inserted\n",
      "derivative 한국GL84삼성전자콜 is successfully inserted\n",
      "derivative 한국GX86삼성전자콜 is successfully inserted\n",
      "derivative 한국GZ20삼성전자콜 is successfully inserted\n",
      "derivative 한국GL85삼성전자콜 is successfully inserted\n",
      "derivative 한국GZ21삼성전자콜 is successfully inserted\n",
      "derivative 한국GJ45삼성전자콜 is successfully inserted\n",
      "derivative 한국GL86삼성전자콜 is successfully inserted\n",
      "derivative 한국GZ22삼성전자콜 is successfully inserted\n",
      "derivative 한국GJ46삼성전자콜 is successfully inserted\n",
      "derivative 한국GL87삼성전자콜 is successfully inserted\n",
      "derivative 한국GJ47삼성전자콜 is successfully inserted\n",
      "derivative 한국GL88삼성전자콜 is successfully inserted\n",
      "derivative 한국GJ48삼성전자콜 is successfully inserted\n",
      "derivative 한국GQ42삼성전자콜 is successfully inserted\n",
      "derivative 한국GQ43삼성전자콜 is successfully inserted\n",
      "derivative 한국GQ46삼성전자콜 is successfully inserted\n",
      "derivative 한국GT10삼성전자콜 is successfully inserted\n",
      "derivative 한국GABR삼성전자콜 is successfully inserted\n",
      "derivative 한국GT12삼성전자콜 is successfully inserted\n",
      "derivative 한국GABS삼성전자콜 is successfully inserted\n",
      "derivative 한국GT13삼성전자콜 is successfully inserted\n",
      "derivative 한국GABT삼성전자콜 is successfully inserted\n",
      "derivative 한국GF77삼성전자콜 is successfully inserted\n",
      "derivative 한국GT14삼성전자콜 is successfully inserted\n",
      "derivative 한국GABV삼성전자콜 is successfully inserted\n",
      "derivative 한국GT15삼성전자콜 is successfully inserted\n",
      "derivative 한국GT16삼성전자콜 is successfully inserted\n",
      "derivative 한국GT17삼성전자콜 is successfully inserted\n",
      "derivative 한국GZ65삼성전자풋 is successfully inserted\n",
      "derivative 한국GZ66삼성전자풋 is successfully inserted\n",
      "derivative 한국GY45삼성전자풋 is successfully inserted\n",
      "derivative 한국GAHM삼성전자풋 is successfully inserted\n",
      "derivative 한국GV46삼성전자풋 is successfully inserted\n",
      "derivative 한국GAHN삼성전자풋 is successfully inserted\n",
      "derivative 한국GAHP삼성전자풋 is successfully inserted\n",
      "derivative 한국GAHQ삼성전자풋 is successfully inserted\n",
      "derivative 한국GAHR삼성전자풋 is successfully inserted\n",
      "derivative 한국GS02삼성전자풋 is successfully inserted\n",
      "derivative KBGH41삼성전자콜 is successfully inserted\n",
      "derivative KBGH43삼성전자콜 is successfully inserted\n",
      "derivative KBGH44삼성전자콜 is successfully inserted\n",
      "derivative KBGT85삼성전자콜 is successfully inserted\n",
      "derivative KBGT86삼성전자콜 is successfully inserted\n",
      "derivative KBGT87삼성전자콜 is successfully inserted\n",
      "derivative KBGT88삼성전자콜 is successfully inserted\n",
      "derivative KBGR81삼성전자콜 is successfully inserted\n",
      "derivative KBGR82삼성전자콜 is successfully inserted\n",
      "derivative KBGR83삼성전자콜 is successfully inserted\n",
      "derivative KBGJ24삼성전자콜 is successfully inserted\n",
      "derivative KBGJ25삼성전자콜 is successfully inserted\n",
      "derivative KBGV50삼성전자콜 is successfully inserted\n",
      "derivative KBGJ26삼성전자콜 is successfully inserted\n",
      "derivative KBGF97삼성전자콜 is successfully inserted\n",
      "derivative KBGS38삼성전자콜 is successfully inserted\n",
      "derivative KBGF98삼성전자콜 is successfully inserted\n",
      "derivative KBGS39삼성전자콜 is successfully inserted\n",
      "derivative KBGF99삼성전자콜 is successfully inserted\n",
      "derivative KBGD15삼성전자콜 is successfully inserted\n",
      "derivative KBGS68삼성전자콜 is successfully inserted\n",
      "derivative KBGG28삼성전자콜 is successfully inserted\n",
      "derivative KBGS69삼성전자콜 is successfully inserted\n",
      "derivative KBGG29삼성전자콜 is successfully inserted\n",
      "derivative KBGV85삼성전자콜 is successfully inserted\n",
      "derivative KBGV86삼성전자콜 is successfully inserted\n",
      "derivative KBGD26삼성전자콜 is successfully inserted\n",
      "derivative KBGD31삼성전자콜 is successfully inserted\n",
      "derivative KBGJ70삼성전자콜 is successfully inserted\n",
      "derivative KBGJ71삼성전자콜 is successfully inserted\n",
      "derivative KBGG46삼성전자콜 is successfully inserted\n",
      "derivative KBGS87삼성전자콜 is successfully inserted\n",
      "derivative KBGG47삼성전자콜 is successfully inserted\n",
      "derivative KBGS88삼성전자콜 is successfully inserted\n",
      "derivative KBGG48삼성전자콜 is successfully inserted\n",
      "derivative KBGS89삼성전자콜 is successfully inserted\n",
      "derivative KBGG50삼성전자콜 is successfully inserted\n",
      "derivative KBGW10삼성전자콜 is successfully inserted\n",
      "derivative KBGB16삼성전자콜 is successfully inserted\n",
      "derivative KBGS98삼성전자콜 is successfully inserted\n",
      "derivative KBGS99삼성전자콜 is successfully inserted\n",
      "derivative KBGB18삼성전자콜 is successfully inserted\n",
      "derivative KBGG59삼성전자콜 is successfully inserted\n",
      "derivative KBGG60삼성전자콜 is successfully inserted\n",
      "derivative KBGG61삼성전자콜 is successfully inserted\n",
      "derivative KBGJ94삼성전자콜 is successfully inserted\n",
      "derivative KBGT04삼성전자콜 is successfully inserted\n",
      "derivative KBGT05삼성전자콜 is successfully inserted\n",
      "derivative KBGW25삼성전자콜 is successfully inserted\n",
      "derivative KBG638삼성전자콜 is successfully inserted\n",
      "derivative KBG639삼성전자콜 is successfully inserted\n",
      "derivative KBG640삼성전자콜 is successfully inserted\n",
      "derivative KBGK04삼성전자콜 is successfully inserted\n",
      "derivative KBGW29삼성전자콜 is successfully inserted\n",
      "derivative KBGK05삼성전자콜 is successfully inserted\n",
      "derivative KBGW32삼성전자콜 is successfully inserted\n",
      "derivative KBGN93삼성전자콜 is successfully inserted\n",
      "derivative KBGN94삼성전자콜 is successfully inserted\n",
      "derivative KBGN95삼성전자콜 is successfully inserted\n",
      "derivative KBGN96삼성전자콜 is successfully inserted\n",
      "derivative KBGN97삼성전자콜 is successfully inserted\n",
      "derivative KBGN98삼성전자콜 is successfully inserted\n",
      "derivative KBGN99삼성전자콜 is successfully inserted\n",
      "derivative KBGP00삼성전자콜 is successfully inserted\n",
      "derivative KBGQ07삼성전자콜 is successfully inserted\n",
      "derivative KBGQ08삼성전자콜 is successfully inserted\n",
      "derivative KBGQ28삼성전자콜 is successfully inserted\n",
      "derivative KBGQ29삼성전자콜 is successfully inserted\n",
      "derivative KBGQ30삼성전자콜 is successfully inserted\n",
      "derivative KBGQ37삼성전자콜 is successfully inserted\n",
      "derivative KBGQ38삼성전자콜 is successfully inserted\n",
      "derivative KBGQ39삼성전자콜 is successfully inserted\n",
      "derivative KBGH45삼성전자풋 is successfully inserted\n",
      "derivative KBGT91삼성전자풋 is successfully inserted\n",
      "derivative KBGR84삼성전자풋 is successfully inserted\n",
      "derivative KBGJ27삼성전자풋 is successfully inserted\n",
      "derivative KBGG00삼성전자풋 is successfully inserted\n",
      "derivative KBGS70삼성전자풋 is successfully inserted\n",
      "derivative KBGV88삼성전자풋 is successfully inserted\n",
      "derivative KBGJ72삼성전자풋 is successfully inserted\n",
      "derivative KBGG49삼성전자풋 is successfully inserted\n",
      "derivative KBGB19삼성전자풋 is successfully inserted\n",
      "derivative KBGW16삼성전자풋 is successfully inserted\n",
      "derivative KBGW26삼성전자풋 is successfully inserted\n",
      "derivative KBGW33삼성전자풋 is successfully inserted\n",
      "derivative KBGP01삼성전자풋 is successfully inserted\n",
      "derivative KBGP02삼성전자풋 is successfully inserted\n",
      "derivative KBGP71삼성전자풋 is successfully inserted\n",
      "derivative KBGQ09삼성전자풋 is successfully inserted\n",
      "derivative KBGQ31삼성전자풋 is successfully inserted\n",
      "stock 003490 is successfully inserted\n",
      "stock 066570 is successfully inserted\n",
      "derivative 미래GL19엘지전자콜 is successfully inserted\n",
      "derivative 미래GL20엘지전자콜 is successfully inserted\n",
      "derivative 미래GN65엘지전자콜 is successfully inserted\n",
      "derivative 미래GL21엘지전자콜 is successfully inserted\n",
      "derivative 미래GN66엘지전자콜 is successfully inserted\n",
      "derivative 미래GL22엘지전자콜 is successfully inserted\n",
      "derivative 미래GN67엘지전자콜 is successfully inserted\n",
      "derivative 미래GL23엘지전자콜 is successfully inserted\n",
      "derivative 미래GN68엘지전자콜 is successfully inserted\n",
      "derivative 미래GN69엘지전자콜 is successfully inserted\n",
      "derivative 미래GN70엘지전자콜 is successfully inserted\n",
      "derivative 미래GE16엘지전자콜 is successfully inserted\n",
      "derivative 미래GE19엘지전자콜 is successfully inserted\n",
      "derivative 미래GR12엘지전자콜 is successfully inserted\n",
      "derivative 미래GR14엘지전자콜 is successfully inserted\n",
      "derivative 미래GR18엘지전자콜 is successfully inserted\n",
      "derivative 미래GR19엘지전자콜 is successfully inserted\n",
      "derivative 미래GH16엘지전자콜 is successfully inserted\n",
      "derivative 미래GH19엘지전자콜 is successfully inserted\n",
      "derivative 미래GH21엘지전자콜 is successfully inserted\n",
      "derivative 미래GH23엘지전자콜 is successfully inserted\n",
      "derivative 미래GH24엘지전자콜 is successfully inserted\n",
      "derivative 미래GH25엘지전자콜 is successfully inserted\n",
      "derivative 한국GZ49엘지전자콜 is successfully inserted\n",
      "derivative 한국GZ50엘지전자콜 is successfully inserted\n",
      "derivative 한국GZ51엘지전자콜 is successfully inserted\n",
      "derivative 한국GY27엘지전자콜 is successfully inserted\n",
      "derivative 한국GY28엘지전자콜 is successfully inserted\n",
      "derivative 한국GY29엘지전자콜 is successfully inserted\n",
      "derivative 한국GY30엘지전자콜 is successfully inserted\n",
      "derivative 한국GT94엘지전자콜 is successfully inserted\n",
      "derivative 한국GT95엘지전자콜 is successfully inserted\n",
      "derivative 한국GT96엘지전자콜 is successfully inserted\n",
      "derivative 한국GAFK엘지전자콜 is successfully inserted\n",
      "derivative 한국GAFL엘지전자콜 is successfully inserted\n",
      "derivative 한국GT99엘지전자콜 is successfully inserted\n",
      "derivative 한국GAFM엘지전자콜 is successfully inserted\n",
      "derivative 한국GR47엘지전자콜 is successfully inserted\n",
      "derivative 한국GR49엘지전자콜 is successfully inserted\n",
      "derivative 한국GAJT엘지전자풋 is successfully inserted\n",
      "derivative 한국GAJV엘지전자풋 is successfully inserted\n",
      "derivative KBGD89엘지전자콜 is successfully inserted\n",
      "derivative KBGR37엘지전자콜 is successfully inserted\n",
      "derivative KBGH28엘지전자콜 is successfully inserted\n",
      "derivative KBGH29엘지전자콜 is successfully inserted\n",
      "derivative KBGF72엘지전자콜 is successfully inserted\n",
      "derivative KBGS23엘지전자콜 is successfully inserted\n",
      "derivative KBGJ14엘지전자콜 is successfully inserted\n",
      "derivative KBGJ15엘지전자콜 is successfully inserted\n",
      "derivative KBGS55엘지전자콜 is successfully inserted\n",
      "derivative KBGJ64엘지전자콜 is successfully inserted\n",
      "derivative KBGG37엘지전자콜 is successfully inserted\n",
      "derivative KBGS80엘지전자콜 is successfully inserted\n",
      "derivative KBGN55엘지전자콜 is successfully inserted\n",
      "derivative KBGT51엘지전자풋 is successfully inserted\n",
      "derivative KBGR38엘지전자풋 is successfully inserted\n",
      "derivative KBGN56엘지전자풋 is successfully inserted\n"
     ]
    }
   ],
   "source": [
    "# 포트폴리오 객체 생성과 사용자 위험 회피도 인자 전달\n",
    "port = Portfolio(risk_aversion=0.1, securities_storage=True)\n",
    "\n",
    "# 포트폴리오 구성 자산 입력\n",
    "for i in range(len(ticker_list1)):\n",
    "    tmp = Stock(ticker_list1[i])\n",
    "    port.add(tmp, print_inserting_info=True)\n",
    "    stock_name = stock.get_market_ticker_name(ticker_list1[i])\n",
    "    df = elw[(elw['기초자산명']==stock_name)&(elw['거래일자']==20220104)&(elw['종가']!=0)]\n",
    "\n",
    "    for j in range(len(df.index)):\n",
    "        tmp_d = Derivative(tmp, df['콜/풋'].iloc[j], df['종목명'].iloc[j], df['행사가격'].iloc[j], df['종가'].iloc[j])\n",
    "        port.add(tmp_d, print_inserting_info=True)"
   ]
  },
  {
   "cell_type": "markdown",
   "metadata": {},
   "source": [
    "## 3. 포트폴리오 최적화"
   ]
  },
  {
   "cell_type": "markdown",
   "metadata": {
    "pycharm": {
     "name": "#%% md\n"
    }
   },
   "source": [
    "다음의 예시는 3개의 주식 종목을 포트폴리오에 편입하고 이를 기초자산으로 하는 거래 가능한 모든 옵션을 편입하였다.\n",
    "투자자는 자신이 고려하고 있는 옵션 종목 몇가지 만을 전달하여 포트폴리오를 설계할 수 있을 것이다.\n",
    "\n",
    "이번 예시의 경우, 다양한 행사가격과 프리미엄을 가진 이백 여개의 옵션을 포함하고 있기 때문에 매우 복잡한 PnL 구조를 형성하였다. 또한 옵션(ELW)가 없는 대한항공이 포함됨에도 계산상의 오류가 없는 모습을 확인하였다.\n",
    "\n",
    "사용자는 개인의 판단에 따라 다양한 최적화 알고리즘을 사용할 수 있다. 이번의 예시에서는 SCS Solver을 사용하였다."
   ]
  },
  {
   "cell_type": "code",
   "execution_count": 8,
   "metadata": {
    "pycharm": {
     "name": "#%%\n"
    }
   },
   "outputs": [
    {
     "name": "stdout",
     "output_type": "stream",
     "text": [
      "stock ratio: 0.8412408279518598\n",
      "derivative ratio: 0.1587591720481092\n"
     ]
    }
   ],
   "source": [
    "port.fit()\n",
    "\n",
    "print('stock ratio: {}'.format(np.sum(port.weight_stock)))\n",
    "print('derivative ratio: {}'.format(np.sum(port.weight_derivative)))"
   ]
  },
  {
   "cell_type": "code",
   "execution_count": 9,
   "metadata": {
    "pycharm": {
     "name": "#%%\n"
    }
   },
   "outputs": [
    {
     "data": {
      "text/html": [
       "<div>\n",
       "<style scoped>\n",
       "    .dataframe tbody tr th:only-of-type {\n",
       "        vertical-align: middle;\n",
       "    }\n",
       "\n",
       "    .dataframe tbody tr th {\n",
       "        vertical-align: top;\n",
       "    }\n",
       "\n",
       "    .dataframe thead th {\n",
       "        text-align: right;\n",
       "    }\n",
       "</style>\n",
       "<table border=\"1\" class=\"dataframe\">\n",
       "  <thead>\n",
       "    <tr style=\"text-align: right;\">\n",
       "      <th></th>\n",
       "      <th>Optimal_stock_allocation</th>\n",
       "    </tr>\n",
       "  </thead>\n",
       "  <tbody>\n",
       "    <tr>\n",
       "      <th>삼성전자</th>\n",
       "      <td>0.422680</td>\n",
       "    </tr>\n",
       "    <tr>\n",
       "      <th>대한항공</th>\n",
       "      <td>0.258924</td>\n",
       "    </tr>\n",
       "    <tr>\n",
       "      <th>LG전자</th>\n",
       "      <td>0.159637</td>\n",
       "    </tr>\n",
       "  </tbody>\n",
       "</table>\n",
       "</div>"
      ],
      "text/plain": [
       "      Optimal_stock_allocation\n",
       "삼성전자                  0.422680\n",
       "대한항공                  0.258924\n",
       "LG전자                  0.159637"
      ]
     },
     "execution_count": 9,
     "metadata": {},
     "output_type": "execute_result"
    }
   ],
   "source": [
    "index = [stock.get_market_ticker_name(i) for i in ticker_list1]\n",
    "pd.DataFrame({'Optimal_stock_allocation': np.concatenate(port.weight_stock)}, index=index)"
   ]
  },
  {
   "cell_type": "code",
   "execution_count": 10,
   "metadata": {
    "pycharm": {
     "name": "#%%\n"
    }
   },
   "outputs": [
    {
     "data": {
      "text/html": [
       "<div>\n",
       "<style scoped>\n",
       "    .dataframe tbody tr th:only-of-type {\n",
       "        vertical-align: middle;\n",
       "    }\n",
       "\n",
       "    .dataframe tbody tr th {\n",
       "        vertical-align: top;\n",
       "    }\n",
       "\n",
       "    .dataframe thead th {\n",
       "        text-align: right;\n",
       "    }\n",
       "</style>\n",
       "<table border=\"1\" class=\"dataframe\">\n",
       "  <thead>\n",
       "    <tr style=\"text-align: right;\">\n",
       "      <th></th>\n",
       "      <th>Optimal_ELW_allocation</th>\n",
       "    </tr>\n",
       "  </thead>\n",
       "  <tbody>\n",
       "    <tr>\n",
       "      <th>신한G141삼성전자콜</th>\n",
       "      <td>0.000555</td>\n",
       "    </tr>\n",
       "    <tr>\n",
       "      <th>신한G142삼성전자콜</th>\n",
       "      <td>0.000554</td>\n",
       "    </tr>\n",
       "    <tr>\n",
       "      <th>신한G197삼성전자콜</th>\n",
       "      <td>0.000553</td>\n",
       "    </tr>\n",
       "    <tr>\n",
       "      <th>신한G143삼성전자콜</th>\n",
       "      <td>0.000556</td>\n",
       "    </tr>\n",
       "    <tr>\n",
       "      <th>신한G199삼성전자콜</th>\n",
       "      <td>0.000554</td>\n",
       "    </tr>\n",
       "  </tbody>\n",
       "</table>\n",
       "</div>"
      ],
      "text/plain": [
       "             Optimal_ELW_allocation\n",
       "신한G141삼성전자콜                0.000555\n",
       "신한G142삼성전자콜                0.000554\n",
       "신한G197삼성전자콜                0.000553\n",
       "신한G143삼성전자콜                0.000556\n",
       "신한G199삼성전자콜                0.000554"
      ]
     },
     "execution_count": 10,
     "metadata": {},
     "output_type": "execute_result"
    }
   ],
   "source": [
    "pd.DataFrame({'Optimal_ELW_allocation': np.concatenate(port.weight_derivative[:5])}, index=port.derivative_list[:5])"
   ]
  },
  {
   "cell_type": "markdown",
   "metadata": {},
   "source": [
    "## 4. 최적 포트폴리오 시각화\n",
    "\n",
    "이번에는 동일한 포트폴리오에서 위험회피도를 다양하게 설정하여 기초자산, 콜옵션, 풋옵션의 비중을 스스로 조정하는 모습을 확인해보자."
   ]
  },
  {
   "cell_type": "code",
   "execution_count": 11,
   "metadata": {
    "pycharm": {
     "name": "#%%\n"
    }
   },
   "outputs": [
    {
     "name": "stderr",
     "output_type": "stream",
     "text": [
      "100% |########################################################################|\r\n"
     ]
    }
   ],
   "source": [
    "warnings.filterwarnings(action='ignore')\n",
    "stock_ratio = list()\n",
    "call_ratio = list()\n",
    "put_ratio = list()\n",
    "\n",
    "bar = progressbar.ProgressBar()\n",
    "p = np.round([i/10 for i in np.arange(0,10,0.5)],2)\n",
    "\n",
    "for i in bar(range(len(p))):\n",
    "    call = 0\n",
    "    put = 0\n",
    "    port.set_risk_aversion(p[i])\n",
    "    port.fit()\n",
    "    stock_ratio.append(np.sum(port.weight_stock))\n",
    "\n",
    "    for j in range(len(port.derivative_storage)):\n",
    "        category = port.derivative_storage[j].buffer['category']\n",
    "        if category == '콜':\n",
    "            call += port.weight_derivative[j]\n",
    "        else:\n",
    "            put += port.weight_derivative[j]\n",
    "    call_ratio.append(call)\n",
    "    put_ratio.append(put)\n",
    "\n",
    "call_ratio = np.concatenate(call_ratio)\n",
    "put_ratio = np.concatenate(put_ratio)"
   ]
  },
  {
   "cell_type": "code",
   "execution_count": 12,
   "metadata": {
    "pycharm": {
     "name": "#%%\n"
    }
   },
   "outputs": [
    {
     "data": {
      "text/plain": [
       "<matplotlib.axes._subplots.AxesSubplot at 0x1d89eaabc08>"
      ]
     },
     "execution_count": 12,
     "metadata": {},
     "output_type": "execute_result"
    },
    {
     "name": "stderr",
     "output_type": "stream",
     "text": [
      "findfont: Font family ['NanumGothic'] not found. Falling back to DejaVu Sans.\n"
     ]
    },
    {
     "data": {
      "image/png": "[encoded data removed]",
      "text/plain": [
       "<Figure size 432x288 with 1 Axes>"
      ]
     },
     "metadata": {
      "needs_background": "light"
     },
     "output_type": "display_data"
    }
   ],
   "source": [
    "%matplotlib inline\n",
    "warnings.filterwarnings(action='ignore')\n",
    "plt.rc('font', family='NanumGothic')\n",
    "\n",
    "aa = pd.DataFrame({\n",
    "    'stock': stock_ratio,\n",
    "    'call': call_ratio,\n",
    "    'put': put_ratio}, index=[p/100 for p in range(0,100,5)])\n",
    "aa = aa.round(5)\n",
    "aa.plot.area()"
   ]
  },
  {
   "cell_type": "markdown",
   "metadata": {
    "pycharm": {
     "name": "#%% md\n"
    }
   },
   "source": []
  },
  {
   "cell_type": "markdown",
   "metadata": {
    "pycharm": {
     "name": "#%% md\n"
    }
   },
   "source": [
    "## 참고. 해당 최적화 알고리즘은 옵션 투자를 강제하지 않는다.\n",
    "\n",
    "임의의 주식 종목을 여러개 포함한 경우의 최적 포트폴리오 살펴보자.\n",
    "다음의 경우는 worst-case의 수익률을 최대하는 solution으로 기초자산으로만 이루어진 포트폴리오를 제시한다.\n",
    "이는 기초자산간의 공분산 행렬의 영향으로 볼 수 있다."
   ]
  },
  {
   "cell_type": "code",
   "execution_count": 13,
   "metadata": {
    "pycharm": {
     "name": "#%%\n"
    }
   },
   "outputs": [],
   "source": [
    "# 포트폴리오 객체 생성과 사용자 위험 회피도 인자 전달\n",
    "port = Portfolio(risk_aversion=0.1, securities_storage=True)\n",
    "\n",
    "# 포트폴리오 구성 자산 입력\n",
    "for i in range(len(ticker_list2)):\n",
    "    tmp = Stock(ticker_list2[i])\n",
    "    port.add(tmp)\n",
    "    stock_name = stock.get_market_ticker_name(ticker_list2[i])\n",
    "    df = elw[(elw['기초자산명']==stock_name)&(elw['거래일자']==20220104)&(elw['종가']!=0)]\n",
    "\n",
    "    for j in range(len(df.index)):\n",
    "        tmp_d = Derivative(tmp, df['콜/풋'].iloc[j], df['종목명'].iloc[j], df['행사가격'].iloc[j], df['종가'].iloc[j])\n",
    "        port.add(tmp_d)"
   ]
  },
  {
   "cell_type": "code",
   "execution_count": 14,
   "metadata": {
    "pycharm": {
     "name": "#%%\n"
    }
   },
   "outputs": [
    {
     "name": "stdout",
     "output_type": "stream",
     "text": [
      "stock ratio: 1.0\n",
      "derivative ratio: -0.0\n"
     ]
    }
   ],
   "source": [
    "port.fit()\n",
    "print('stock ratio: {}'.format(np.round(np.sum(port.weight_stock)),4))\n",
    "print('derivative ratio: {}'.format(np.round(np.sum(port.weight_derivative)),4))"
   ]
  },
  {
   "cell_type": "code",
   "execution_count": 15,
   "metadata": {
    "pycharm": {
     "name": "#%%\n"
    }
   },
   "outputs": [
    {
     "data": {
      "text/html": [
       "<div>\n",
       "<style scoped>\n",
       "    .dataframe tbody tr th:only-of-type {\n",
       "        vertical-align: middle;\n",
       "    }\n",
       "\n",
       "    .dataframe tbody tr th {\n",
       "        vertical-align: top;\n",
       "    }\n",
       "\n",
       "    .dataframe thead th {\n",
       "        text-align: right;\n",
       "    }\n",
       "</style>\n",
       "<table border=\"1\" class=\"dataframe\">\n",
       "  <thead>\n",
       "    <tr style=\"text-align: right;\">\n",
       "      <th></th>\n",
       "      <th>Optimal_stock_allocation</th>\n",
       "    </tr>\n",
       "  </thead>\n",
       "  <tbody>\n",
       "    <tr>\n",
       "      <th>삼성전자</th>\n",
       "      <td>0.0000</td>\n",
       "    </tr>\n",
       "    <tr>\n",
       "      <th>대한항공</th>\n",
       "      <td>0.4654</td>\n",
       "    </tr>\n",
       "    <tr>\n",
       "      <th>LG전자</th>\n",
       "      <td>0.1561</td>\n",
       "    </tr>\n",
       "    <tr>\n",
       "      <th>SK하이닉스</th>\n",
       "      <td>0.0000</td>\n",
       "    </tr>\n",
       "    <tr>\n",
       "      <th>현대차</th>\n",
       "      <td>0.0993</td>\n",
       "    </tr>\n",
       "    <tr>\n",
       "      <th>SK텔레콤</th>\n",
       "      <td>0.0000</td>\n",
       "    </tr>\n",
       "    <tr>\n",
       "      <th>LG화학</th>\n",
       "      <td>0.2792</td>\n",
       "    </tr>\n",
       "    <tr>\n",
       "      <th>CJ</th>\n",
       "      <td>-0.0000</td>\n",
       "    </tr>\n",
       "  </tbody>\n",
       "</table>\n",
       "</div>"
      ],
      "text/plain": [
       "        Optimal_stock_allocation\n",
       "삼성전자                      0.0000\n",
       "대한항공                      0.4654\n",
       "LG전자                      0.1561\n",
       "SK하이닉스                    0.0000\n",
       "현대차                       0.0993\n",
       "SK텔레콤                     0.0000\n",
       "LG화학                      0.2792\n",
       "CJ                       -0.0000"
      ]
     },
     "execution_count": 15,
     "metadata": {},
     "output_type": "execute_result"
    }
   ],
   "source": [
    "index = [stock.get_market_ticker_name(i) for i in ticker_list2]\n",
    "pd.DataFrame({'Optimal_stock_allocation': np.round(np.concatenate(port.weight_stock),4)}, index=index)"
   ]
  },
  {
   "cell_type": "code",
   "execution_count": 15,
   "metadata": {
    "pycharm": {
     "name": "#%%\n"
    }
   },
   "outputs": [],
   "source": []
  }
 ],
 "metadata": {
  "kernelspec": {
   "display_name": "Python 3",
   "language": "python",
   "name": "python3"
  },
  "language_info": {
   "codemirror_mode": {
    "name": "ipython",
    "version": 3
   },
   "file_extension": ".py",
   "mimetype": "text/x-python",
   "name": "python",
   "nbconvert_exporter": "python",
   "pygments_lexer": "ipython3",
   "version": "3.7.11"
  }
 },
 "nbformat": 4,
 "nbformat_minor": 1
}
