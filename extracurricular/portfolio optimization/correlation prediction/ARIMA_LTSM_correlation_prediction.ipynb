{
 "cells": [
  {
   "cell_type": "code",
   "execution_count": 20,
   "metadata": {},
   "outputs": [],
   "source": [
    "import numpy as np\n",
    "import matplotlib.pyplot as plt\n",
    "import pandas as pd\n",
    "import math\n",
    "import os\n",
    "import random\n",
    "import scipy.stats as stats\n",
    "import pylab as pl\n",
    "import pmdarima\n",
    "from pmdarima.arima import auto_arima, ARIMA\n",
    "from statsmodels.graphics.tsaplots import plot_acf, plot_pacf\n",
    "import warnings\n",
    "from tqdm import tqdm\n",
    "\"\"\"from keras.models import Sequential, load_model\n",
    "from keras.layers import Dense, LSTM, Activation\n",
    "from keras import backend as K\n",
    "from keras.utils.generic_utils import get_custom_objects\n",
    "from keras.callbacks import ModelCheckpoint\n",
    "from keras.regularizers import l1_l2\"\"\"\n",
    "warnings.simplefilter(\"ignore\")"
   ]
  },
  {
   "cell_type": "markdown",
   "metadata": {},
   "source": [
    "### Load Data set"
   ]
  },
  {
   "cell_type": "code",
   "execution_count": 21,
   "metadata": {},
   "outputs": [],
   "source": [
    "from turtle import back\n",
    "\n",
    "\n",
    "data = pd.read_excel('Updated_Data_0530.xlsx')\n",
    "pd.to_datetime(data['Date'], format='%Y-%m-%d')\n",
    "data = data.set_index(pd.DatetimeIndex(data['Date']))\n",
    "data = data[['선진국', '신흥국', '에너지외', '금', '달러', '대체', '안전채권','하이일드']]\n",
    "data.columns = [\"Advanced countries\", \" Emerging countries\", \"Non-Energy\", \"Gold\", \"Dollar\", \"Alternate\", \"Safety Bond\", \"Hyield\"]\n",
    "\n",
    "data = data.pct_change()[1:]\n",
    "\n",
    "df = data[:2580]\n",
    "backtest_df = data[2580:]\n",
    "\n",
    "df.head()\n",
    "\n",
    "# Store as .csv\n",
    "df.to_csv('price_df.csv')\n",
    "backtest_df.to_csv('backtest_df.csv')"
   ]
  },
  {
   "cell_type": "markdown",
   "metadata": {},
   "source": [
    "### Create Portfolio"
   ]
  },
  {
   "cell_type": "code",
   "execution_count": 22,
   "metadata": {},
   "outputs": [
    {
     "name": "stdout",
     "output_type": "stream",
     "text": [
      "['Advanced countries', ' Emerging countries', 'Non-Energy', 'Gold', 'Dollar', 'Alternate', 'Safety Bond', 'Hyield']\n"
     ]
    }
   ],
   "source": [
    "df = pd.read_csv('price_df.csv')\n",
    "portfolio = list(df.columns.values[1:])\n",
    "print(portfolio)"
   ]
  },
  {
   "cell_type": "markdown",
   "metadata": {},
   "source": [
    "### Prepare the Data"
   ]
  },
  {
   "cell_type": "code",
   "execution_count": 23,
   "metadata": {},
   "outputs": [],
   "source": [
    "def rolling_corr(df, item1, item2):\n",
    "    df_pair = pd.concat([df[item1], df[item2]], axis=1)\n",
    "    df_pair.columns = [item1, item2]\n",
    "    df_corr = df_pair[item1].rolling(window=100).corr(df_pair[item2])\n",
    "    return df_corr"
   ]
  },
  {
   "cell_type": "code",
   "execution_count": 24,
   "metadata": {},
   "outputs": [
    {
     "name": "stdout",
     "output_type": "stream",
     "text": [
      "100 items preprocessed\n",
      "200 items preprocessed\n",
      "300 items preprocessed\n",
      "400 items preprocessed\n",
      "500 items preprocessed\n",
      "600 items preprocessed\n",
      "700 items preprocessed\n",
      "800 items preprocessed\n",
      "900 items preprocessed\n",
      "1000 items preprocessed\n",
      "1100 items preprocessed\n",
      "1200 items preprocessed\n",
      "1300 items preprocessed\n",
      "1400 items preprocessed\n",
      "1500 items preprocessed\n",
      "1600 items preprocessed\n",
      "1700 items preprocessed\n",
      "1800 items preprocessed\n",
      "1900 items preprocessed\n",
      "2000 items preprocessed\n",
      "2100 items preprocessed\n",
      "2200 items preprocessed\n",
      "2300 items preprocessed\n",
      "2400 items preprocessed\n",
      "2500 items preprocessed\n",
      "2600 items preprocessed\n",
      "2700 items preprocessed\n",
      "2800 items preprocessed\n"
     ]
    }
   ],
   "source": [
    "index_list = []\n",
    "for _ in range(100):\n",
    "    indices = []\n",
    "    for k in range(_, 2420, 100):\n",
    "        indices.append(k)\n",
    "    index_list.append(indices)\n",
    "\n",
    "data_matrix = []\n",
    "count = 0\n",
    "for i in range(8):\n",
    "    for j in range(7-i):\n",
    "        a = portfolio[i]\n",
    "        b = portfolio[7-j]\n",
    "        file_name = a + '_' + b\n",
    "\n",
    "        corr_series = rolling_corr(df, a, b)[99:]\n",
    "        corr_series.index = [i for i in range(len(corr_series))]\n",
    "        for _ in range(100):\n",
    "            corr_strided = list(corr_series[index_list[_]][:24]).copy()\n",
    "            data_matrix.append(corr_strided)\n",
    "            count+=1\n",
    "            if count % 100 == 0 :\n",
    "                print(str(count)+' items preprocessed')\n",
    "                \n",
    "data_matrix = np.transpose(data_matrix)\n",
    "data_dictionary = {}\n",
    "for i in range(len(data_matrix)):\n",
    "    data_dictionary[str(i)] = data_matrix[i]\n",
    "data_df = pd.DataFrame(data_dictionary)\n",
    "\n",
    "data_df.to_csv('dataset.csv')\n"
   ]
  },
  {
   "cell_type": "markdown",
   "metadata": {},
   "source": [
    "### ARIMA_MODELING"
   ]
  },
  {
   "cell_type": "code",
   "execution_count": 25,
   "metadata": {},
   "outputs": [
    {
     "name": "stdout",
     "output_type": "stream",
     "text": [
      "(24, 2800)\n"
     ]
    }
   ],
   "source": [
    "df = pd.read_csv('dataset.csv')\n",
    "df = df.loc[:, df.columns.str.contains('^Unnamed')]\n",
    "\n",
    "num_list = []\n",
    "for i in range(24):\n",
    "    num_list.append(str(i))\n",
    "data_df = data_df[num_list].copy()\n",
    "data_df = np.transpose(data_df)\n",
    "print(data_df.shape)"
   ]
  },
  {
   "cell_type": "code",
   "execution_count": 26,
   "metadata": {},
   "outputs": [],
   "source": [
    "indices = [20*k for k in range(140)]\n",
    "data_df = pd.DataFrame(data_df[indices])\n",
    "\n",
    "train = []\n",
    "dev = []\n",
    "test1 = []\n",
    "test2 = []\n",
    "\n",
    "for i in range(data_df.shape[1]):\n",
    "    tmp = data_df[20*i].copy()\n",
    "    train.append(tmp[:21])\n",
    "    dev.append(tmp[1:22])\n",
    "    test1.append(tmp[2:23])\n",
    "    test2.append(tmp[3:24])\n",
    "    \n",
    "train = pd.DataFrame(train)\n",
    "dev = pd.DataFrame(dev)\n",
    "test1 = pd.DataFrame(test1)\n",
    "test2 = pd.DataFrame(test2)\n",
    "\n",
    "train.to_csv('train_test_set/train.csv')\n",
    "dev.to_csv('train_test_set/dev.csv')\n",
    "test1.to_csv('train_test_set/test1.csv')\n",
    "test2.to_csv('train_test_set/test2.csv')"
   ]
  },
  {
   "cell_type": "code",
   "execution_count": 27,
   "metadata": {},
   "outputs": [
    {
     "name": "stdout",
     "output_type": "stream",
     "text": [
      "11\n"
     ]
    },
    {
     "data": {
      "image/png": "[encoded data removed]",
      "text/plain": [
       "<Figure size 432x288 with 1 Axes>"
      ]
     },
     "metadata": {
      "needs_background": "light"
     },
     "output_type": "display_data"
    },
    {
     "data": {
      "image/png": "[encoded data removed]",
      "text/plain": [
       "<Figure size 432x288 with 1 Axes>"
      ]
     },
     "metadata": {
      "needs_background": "light"
     },
     "output_type": "display_data"
    },
    {
     "data": {
      "image/png": "[encoded data removed]",
      "text/plain": [
       "<Figure size 432x288 with 1 Axes>"
      ]
     },
     "metadata": {
      "needs_background": "light"
     },
     "output_type": "display_data"
    },
    {
     "name": "stdout",
     "output_type": "stream",
     "text": [
      "----------------------------------------------------\n"
     ]
    }
   ],
   "source": [
    "train = pd.read_csv('train_test_set/train.csv')\n",
    "train = np.transpose(train.loc[:, ~train.columns.str.contains('^Unnamed')])\n",
    "for _ in range(1):\n",
    "    randint = random.randrange(0,140,1)\n",
    "    print(randint)\n",
    "    train[randint].plot()\n",
    "    plt.show()\n",
    "    plt.close()\n",
    "    plot_acf(train[randint].diff()[1:])\n",
    "    plt.show()\n",
    "    plt.close()\n",
    "    plot_pacf(train[randint].diff()[1:], lags=2)\n",
    "    plt.show()\n",
    "    plt.close()\n",
    "    print('----------------------------------------------------')"
   ]
  },
  {
   "cell_type": "code",
   "execution_count": 28,
   "metadata": {},
   "outputs": [],
   "source": [
    "train = pd.read_csv('train_test_set/train.csv')\n",
    "dev = pd.read_csv('train_test_set/dev.csv')\n",
    "test1 = pd.read_csv('train_test_set/test1.csv')\n",
    "test2 = pd.read_csv('train_test_set/test2.csv')\n",
    "\n",
    "train = np.transpose(train.loc[:,~train.columns.str.contains('^Unnamed')])\n",
    "dev = np.transpose(dev.loc[:,~dev.columns.str.contains('^Unnamed')])\n",
    "test1 = np.transpose(test1.loc[:,~test1.columns.str.contains('^Unnamed')])\n",
    "test2 = np.transpose(test2.loc[:,~test2.columns.str.contains('^Unnamed')])\n",
    "\n",
    "datasets = [train, dev, test1, test2]"
   ]
  },
  {
   "cell_type": "code",
   "execution_count": 29,
   "metadata": {},
   "outputs": [
    {
     "name": "stderr",
     "output_type": "stream",
     "text": [
      "100%|██████████| 140/140 [00:50<00:00,  2.77it/s]\n"
     ]
    }
   ],
   "source": [
    "model_110 = ARIMA(order=(1,1,0), suppress_warnings=True)\n",
    "model_011 = ARIMA(order=(0,1,1), suppress_warnings=True)\n",
    "model_111 = ARIMA(order=(1,1,1), suppress_warnings=True)\n",
    "model_211 = ARIMA(order=(2,1,1), suppress_warnings=True)\n",
    "model_210 = ARIMA(order=(2,1,0), suppress_warnings=True)\n",
    "\n",
    "train_X = []; train_Y = []\n",
    "dev_X = []; dev_Y = []\n",
    "test1_X = []; test1_Y = []\n",
    "test2_X = []; test2_Y = []\n",
    "\n",
    "flag = 0\n",
    "\n",
    "for i in tqdm(range(140)):\n",
    "    tmp = []\n",
    "    c=0\n",
    "    for s in datasets :\n",
    "        c+=1\n",
    "        try:\n",
    "            model1 = model_110.fit(s[i])\n",
    "            model = model1\n",
    "            \n",
    "            try:\n",
    "                model2 = model_011.fit(s[i])\n",
    "                \n",
    "                if model.aic() <= model2.aic() :\n",
    "                    pass\n",
    "                else :\n",
    "                    model = model2\n",
    "                    \n",
    "                try :\n",
    "                    model3 = model_111.fit(s[i])\n",
    "                    if model.aic() <= model3.aic() :\n",
    "                        pass\n",
    "                    else :\n",
    "                        model = model3\n",
    "                except :\n",
    "                    try:\n",
    "                        model4 = model_211.fit(s[i])\n",
    "                        \n",
    "                        if model.aic() <= model4.aic() :\n",
    "                            pass\n",
    "                        else:\n",
    "                            model = model4\n",
    "                    except:\n",
    "                        try:\n",
    "                            model5 = model_210.fit(s[i])\n",
    "                            \n",
    "                            if model.aic() <= model5.aic():\n",
    "                                pass\n",
    "                            else :\n",
    "                                model = model5\n",
    "                        except :\n",
    "                            pass\n",
    "                    \n",
    "            except:\n",
    "                try:\n",
    "                    model3 = model_111.fit(s[i])\n",
    "\n",
    "                    if model.aic() <= model3.aic() :\n",
    "                        pass\n",
    "                    else :\n",
    "                        model = model3\n",
    "                except :\n",
    "                    try:\n",
    "                        model4 = model_211.fit(s[i])\n",
    "                        \n",
    "                        if model.aic() <= model4.aic() :\n",
    "                            pass\n",
    "                        else:\n",
    "                            model = model4\n",
    "                    except:\n",
    "                        try:\n",
    "                            model5 = model_210.fit(s[i])\n",
    "                            \n",
    "                            if model.aic() <= model5.aic():\n",
    "                                pass\n",
    "                            else :\n",
    "                                model = model5\n",
    "                        except :\n",
    "                            pass\n",
    "                \n",
    "        except:\n",
    "            try:\n",
    "                model2 = model_011.fit(s[i])\n",
    "                model = model2\n",
    "            \n",
    "                try :\n",
    "                    model3 = model_111.fit(s[i])\n",
    "                    \n",
    "                    if model.aic() <= model3.aic():\n",
    "                        pass\n",
    "                    else:\n",
    "                        model = model3\n",
    "                except :\n",
    "                    try:\n",
    "                        model4 = model_211.fit(s[i])\n",
    "                        \n",
    "                        if model.aic() <= model4.aic() :\n",
    "                            pass\n",
    "                        else:\n",
    "                            model = model4\n",
    "                    except:\n",
    "                        try:\n",
    "                            model5 = model_210.fit(s[i])\n",
    "                            \n",
    "                            if model.aic() <= model5.aic():\n",
    "                                pass\n",
    "                            else :\n",
    "                                model = model5\n",
    "                        except :\n",
    "                            pass\n",
    "            \n",
    "            except :\n",
    "                try:\n",
    "                    model3 = model_111.fit(s[i])\n",
    "                    model = model3\n",
    "                except :\n",
    "                    try:\n",
    "                        model4 = model_211.fit(s[i])\n",
    "                        \n",
    "                        if model.aic() <= model4.aic() :\n",
    "                            pass\n",
    "                        else:\n",
    "                            model = model4\n",
    "                    except:\n",
    "                        try:\n",
    "                            model5 = model_210.fit(s[i])\n",
    "                            \n",
    "                            if model.aic() <= model5.aic():\n",
    "                                pass\n",
    "                            else :\n",
    "                                model = model5\n",
    "                        except :\n",
    "                            flag = 1\n",
    "                            print(str(c) + \" FATAL ERROR\")\n",
    "                            break\n",
    "        \n",
    "        predictions = list(model.predict_in_sample())\n",
    "        #pad the first time step of predictions with the average of the prediction values\n",
    "        #so as to match the length of the s[i] data\n",
    "        \n",
    "        residual = pd.Series(np.array(s[i]) - np.array(predictions))\n",
    "        tmp.append(np.array(residual))\n",
    "        \n",
    "                    \n",
    "    if flag == 1:\n",
    "        break\n",
    "    train_X.append(tmp[0][:20])\n",
    "    train_Y.append(tmp[0][20])\n",
    "    dev_X.append(tmp[1][:20])\n",
    "    dev_Y.append(tmp[1][20])\n",
    "    test1_X.append(tmp[2][:20])\n",
    "    test1_Y.append(tmp[2][20])\n",
    "    test2_X.append(tmp[3][:20])\n",
    "    test2_Y.append(tmp[3][20])"
   ]
  },
  {
   "cell_type": "code",
   "execution_count": 30,
   "metadata": {},
   "outputs": [],
   "source": [
    "pd.DataFrame(train_X).to_csv('after_arima/train_X.csv')\n",
    "pd.DataFrame(dev_X).to_csv('after_arima/dev_X.csv')\n",
    "pd.DataFrame(test1_X).to_csv('after_arima/test1_X.csv')\n",
    "pd.DataFrame(test2_X).to_csv('after_arima/test2_X.csv')\n",
    "pd.DataFrame(train_Y).to_csv('after_arima/train_Y.csv')\n",
    "pd.DataFrame(dev_Y).to_csv('after_arima/dev_Y.csv')\n",
    "pd.DataFrame(test1_Y).to_csv('after_arima/test1_Y.csv')\n",
    "pd.DataFrame(test2_Y).to_csv('after_arima/test2_Y.csv')"
   ]
  },
  {
   "cell_type": "code",
   "execution_count": 31,
   "metadata": {},
   "outputs": [
    {
     "data": {
      "image/png": "[encoded data removed]",
      "text/plain": [
       "<Figure size 432x288 with 1 Axes>"
      ]
     },
     "metadata": {
      "needs_background": "light"
     },
     "output_type": "display_data"
    },
    {
     "name": "stdout",
     "output_type": "stream",
     "text": [
      "0.0 % of the data is out of bound [-2,2]\n",
      "0.0 % of the data is out of bound [-1,1]\n"
     ]
    }
   ],
   "source": [
    "train = pd.read_csv('after_arima/train_X.csv')\n",
    "train = np.transpose(train.loc[:,~train.columns.str.contains('^Unnamed')])\n",
    "train_melt = sorted(np.array(train.melt()['value']))\n",
    "fit = stats.norm.pdf(train_melt, np.mean(train_melt), np.std(train_melt))\n",
    "pl.hist(train_melt, color='grey', bins=[-3,-2,-1,0,1,2,3,4], density=True)\n",
    "pl.plot(train_melt,fit,color='blue')\n",
    "pl.title('residual value distribution')\n",
    "pl.xlabel('residual')\n",
    "pl.show()\n",
    "pl.close()\n",
    "\n",
    "X = [x for x in train_melt if x>2]\n",
    "Y = [y for y in train_melt if y<-2]\n",
    "out_of_bound = X + Y\n",
    "print(str(len(out_of_bound)/11175) +' % of the data is out of bound [-2,2]')\n",
    "\n",
    "X = [x for x in train_melt if x>1]\n",
    "Y = [y for y in train_melt if y<-1]\n",
    "out_of_bound = X + Y\n",
    "print(str(len(out_of_bound)/11175) +' % of the data is out of bound [-1,1]')"
   ]
  },
  {
   "cell_type": "markdown",
   "metadata": {},
   "source": [
    "### MISCELLANEOUS"
   ]
  },
  {
   "cell_type": "code",
   "execution_count": 32,
   "metadata": {},
   "outputs": [
    {
     "data": {
      "text/html": [
       "<div>\n",
       "<style scoped>\n",
       "    .dataframe tbody tr th:only-of-type {\n",
       "        vertical-align: middle;\n",
       "    }\n",
       "\n",
       "    .dataframe tbody tr th {\n",
       "        vertical-align: top;\n",
       "    }\n",
       "\n",
       "    .dataframe thead th {\n",
       "        text-align: right;\n",
       "    }\n",
       "</style>\n",
       "<table border=\"1\" class=\"dataframe\">\n",
       "  <thead>\n",
       "    <tr style=\"text-align: right;\">\n",
       "      <th></th>\n",
       "      <th>0</th>\n",
       "      <th>1</th>\n",
       "      <th>2</th>\n",
       "      <th>3</th>\n",
       "      <th>4</th>\n",
       "      <th>5</th>\n",
       "      <th>6</th>\n",
       "      <th>7</th>\n",
       "      <th>8</th>\n",
       "      <th>9</th>\n",
       "      <th>...</th>\n",
       "      <th>130</th>\n",
       "      <th>131</th>\n",
       "      <th>132</th>\n",
       "      <th>133</th>\n",
       "      <th>134</th>\n",
       "      <th>135</th>\n",
       "      <th>136</th>\n",
       "      <th>137</th>\n",
       "      <th>138</th>\n",
       "      <th>139</th>\n",
       "    </tr>\n",
       "  </thead>\n",
       "  <tbody>\n",
       "    <tr>\n",
       "      <th>count</th>\n",
       "      <td>20.000000</td>\n",
       "      <td>20.000000</td>\n",
       "      <td>20.000000</td>\n",
       "      <td>20.000000</td>\n",
       "      <td>20.000000</td>\n",
       "      <td>20.000000</td>\n",
       "      <td>20.000000</td>\n",
       "      <td>20.000000</td>\n",
       "      <td>20.000000</td>\n",
       "      <td>20.000000</td>\n",
       "      <td>...</td>\n",
       "      <td>20.000000</td>\n",
       "      <td>20.000000</td>\n",
       "      <td>20.000000</td>\n",
       "      <td>20.000000</td>\n",
       "      <td>20.000000</td>\n",
       "      <td>20.000000</td>\n",
       "      <td>20.000000</td>\n",
       "      <td>20.000000</td>\n",
       "      <td>20.000000</td>\n",
       "      <td>20.000000</td>\n",
       "    </tr>\n",
       "    <tr>\n",
       "      <th>mean</th>\n",
       "      <td>0.029125</td>\n",
       "      <td>0.020261</td>\n",
       "      <td>0.023727</td>\n",
       "      <td>0.021942</td>\n",
       "      <td>0.031492</td>\n",
       "      <td>0.010821</td>\n",
       "      <td>0.003712</td>\n",
       "      <td>0.006359</td>\n",
       "      <td>0.015314</td>\n",
       "      <td>0.018651</td>\n",
       "      <td>...</td>\n",
       "      <td>-0.033299</td>\n",
       "      <td>-0.040430</td>\n",
       "      <td>-0.035709</td>\n",
       "      <td>-0.036541</td>\n",
       "      <td>-0.025569</td>\n",
       "      <td>0.001220</td>\n",
       "      <td>0.010215</td>\n",
       "      <td>0.006356</td>\n",
       "      <td>0.009682</td>\n",
       "      <td>0.012224</td>\n",
       "    </tr>\n",
       "    <tr>\n",
       "      <th>std</th>\n",
       "      <td>0.186801</td>\n",
       "      <td>0.233768</td>\n",
       "      <td>0.236081</td>\n",
       "      <td>0.247794</td>\n",
       "      <td>0.215610</td>\n",
       "      <td>0.218560</td>\n",
       "      <td>0.226609</td>\n",
       "      <td>0.227446</td>\n",
       "      <td>0.240183</td>\n",
       "      <td>0.235035</td>\n",
       "      <td>...</td>\n",
       "      <td>0.156889</td>\n",
       "      <td>0.211704</td>\n",
       "      <td>0.230185</td>\n",
       "      <td>0.218869</td>\n",
       "      <td>0.181179</td>\n",
       "      <td>0.197557</td>\n",
       "      <td>0.214446</td>\n",
       "      <td>0.193127</td>\n",
       "      <td>0.187677</td>\n",
       "      <td>0.177733</td>\n",
       "    </tr>\n",
       "    <tr>\n",
       "      <th>min</th>\n",
       "      <td>-0.282661</td>\n",
       "      <td>-0.435023</td>\n",
       "      <td>-0.369347</td>\n",
       "      <td>-0.312491</td>\n",
       "      <td>-0.295062</td>\n",
       "      <td>-0.345433</td>\n",
       "      <td>-0.361007</td>\n",
       "      <td>-0.315779</td>\n",
       "      <td>-0.362692</td>\n",
       "      <td>-0.459840</td>\n",
       "      <td>...</td>\n",
       "      <td>-0.439898</td>\n",
       "      <td>-0.595747</td>\n",
       "      <td>-0.579355</td>\n",
       "      <td>-0.495471</td>\n",
       "      <td>-0.498692</td>\n",
       "      <td>-0.354719</td>\n",
       "      <td>-0.304824</td>\n",
       "      <td>-0.282684</td>\n",
       "      <td>-0.284382</td>\n",
       "      <td>-0.319892</td>\n",
       "    </tr>\n",
       "    <tr>\n",
       "      <th>25%</th>\n",
       "      <td>-0.095949</td>\n",
       "      <td>-0.157359</td>\n",
       "      <td>-0.134466</td>\n",
       "      <td>-0.177713</td>\n",
       "      <td>-0.128308</td>\n",
       "      <td>-0.168474</td>\n",
       "      <td>-0.169771</td>\n",
       "      <td>-0.175768</td>\n",
       "      <td>-0.155045</td>\n",
       "      <td>-0.162246</td>\n",
       "      <td>...</td>\n",
       "      <td>-0.105764</td>\n",
       "      <td>-0.180410</td>\n",
       "      <td>-0.132071</td>\n",
       "      <td>-0.163208</td>\n",
       "      <td>-0.110024</td>\n",
       "      <td>-0.110440</td>\n",
       "      <td>-0.143514</td>\n",
       "      <td>-0.113935</td>\n",
       "      <td>-0.109631</td>\n",
       "      <td>-0.074708</td>\n",
       "    </tr>\n",
       "    <tr>\n",
       "      <th>50%</th>\n",
       "      <td>0.037710</td>\n",
       "      <td>0.023433</td>\n",
       "      <td>-0.026899</td>\n",
       "      <td>-0.015898</td>\n",
       "      <td>0.033868</td>\n",
       "      <td>0.024162</td>\n",
       "      <td>-0.044317</td>\n",
       "      <td>-0.011837</td>\n",
       "      <td>0.013867</td>\n",
       "      <td>0.014202</td>\n",
       "      <td>...</td>\n",
       "      <td>-0.043028</td>\n",
       "      <td>-0.048821</td>\n",
       "      <td>-0.039983</td>\n",
       "      <td>-0.049656</td>\n",
       "      <td>-0.051741</td>\n",
       "      <td>-0.020663</td>\n",
       "      <td>0.023759</td>\n",
       "      <td>0.012531</td>\n",
       "      <td>0.049992</td>\n",
       "      <td>0.043549</td>\n",
       "    </tr>\n",
       "    <tr>\n",
       "      <th>75%</th>\n",
       "      <td>0.157565</td>\n",
       "      <td>0.184567</td>\n",
       "      <td>0.212928</td>\n",
       "      <td>0.207324</td>\n",
       "      <td>0.155523</td>\n",
       "      <td>0.150045</td>\n",
       "      <td>0.120955</td>\n",
       "      <td>0.109225</td>\n",
       "      <td>0.129987</td>\n",
       "      <td>0.216623</td>\n",
       "      <td>...</td>\n",
       "      <td>0.048300</td>\n",
       "      <td>0.097652</td>\n",
       "      <td>0.080456</td>\n",
       "      <td>0.075289</td>\n",
       "      <td>0.105782</td>\n",
       "      <td>0.114819</td>\n",
       "      <td>0.153199</td>\n",
       "      <td>0.076012</td>\n",
       "      <td>0.110707</td>\n",
       "      <td>0.105708</td>\n",
       "    </tr>\n",
       "    <tr>\n",
       "      <th>max</th>\n",
       "      <td>0.398493</td>\n",
       "      <td>0.417840</td>\n",
       "      <td>0.437230</td>\n",
       "      <td>0.574387</td>\n",
       "      <td>0.611194</td>\n",
       "      <td>0.528029</td>\n",
       "      <td>0.491382</td>\n",
       "      <td>0.513282</td>\n",
       "      <td>0.534310</td>\n",
       "      <td>0.441445</td>\n",
       "      <td>...</td>\n",
       "      <td>0.347956</td>\n",
       "      <td>0.385859</td>\n",
       "      <td>0.497065</td>\n",
       "      <td>0.508000</td>\n",
       "      <td>0.261960</td>\n",
       "      <td>0.325453</td>\n",
       "      <td>0.372769</td>\n",
       "      <td>0.369054</td>\n",
       "      <td>0.327928</td>\n",
       "      <td>0.344337</td>\n",
       "    </tr>\n",
       "  </tbody>\n",
       "</table>\n",
       "<p>8 rows × 140 columns</p>\n",
       "</div>"
      ],
      "text/plain": [
       "             0          1          2          3          4          5    \\\n",
       "count  20.000000  20.000000  20.000000  20.000000  20.000000  20.000000   \n",
       "mean    0.029125   0.020261   0.023727   0.021942   0.031492   0.010821   \n",
       "std     0.186801   0.233768   0.236081   0.247794   0.215610   0.218560   \n",
       "min    -0.282661  -0.435023  -0.369347  -0.312491  -0.295062  -0.345433   \n",
       "25%    -0.095949  -0.157359  -0.134466  -0.177713  -0.128308  -0.168474   \n",
       "50%     0.037710   0.023433  -0.026899  -0.015898   0.033868   0.024162   \n",
       "75%     0.157565   0.184567   0.212928   0.207324   0.155523   0.150045   \n",
       "max     0.398493   0.417840   0.437230   0.574387   0.611194   0.528029   \n",
       "\n",
       "             6          7          8          9    ...        130        131  \\\n",
       "count  20.000000  20.000000  20.000000  20.000000  ...  20.000000  20.000000   \n",
       "mean    0.003712   0.006359   0.015314   0.018651  ...  -0.033299  -0.040430   \n",
       "std     0.226609   0.227446   0.240183   0.235035  ...   0.156889   0.211704   \n",
       "min    -0.361007  -0.315779  -0.362692  -0.459840  ...  -0.439898  -0.595747   \n",
       "25%    -0.169771  -0.175768  -0.155045  -0.162246  ...  -0.105764  -0.180410   \n",
       "50%    -0.044317  -0.011837   0.013867   0.014202  ...  -0.043028  -0.048821   \n",
       "75%     0.120955   0.109225   0.129987   0.216623  ...   0.048300   0.097652   \n",
       "max     0.491382   0.513282   0.534310   0.441445  ...   0.347956   0.385859   \n",
       "\n",
       "             132        133        134        135        136        137  \\\n",
       "count  20.000000  20.000000  20.000000  20.000000  20.000000  20.000000   \n",
       "mean   -0.035709  -0.036541  -0.025569   0.001220   0.010215   0.006356   \n",
       "std     0.230185   0.218869   0.181179   0.197557   0.214446   0.193127   \n",
       "min    -0.579355  -0.495471  -0.498692  -0.354719  -0.304824  -0.282684   \n",
       "25%    -0.132071  -0.163208  -0.110024  -0.110440  -0.143514  -0.113935   \n",
       "50%    -0.039983  -0.049656  -0.051741  -0.020663   0.023759   0.012531   \n",
       "75%     0.080456   0.075289   0.105782   0.114819   0.153199   0.076012   \n",
       "max     0.497065   0.508000   0.261960   0.325453   0.372769   0.369054   \n",
       "\n",
       "             138        139  \n",
       "count  20.000000  20.000000  \n",
       "mean    0.009682   0.012224  \n",
       "std     0.187677   0.177733  \n",
       "min    -0.284382  -0.319892  \n",
       "25%    -0.109631  -0.074708  \n",
       "50%     0.049992   0.043549  \n",
       "75%     0.110707   0.105708  \n",
       "max     0.327928   0.344337  \n",
       "\n",
       "[8 rows x 140 columns]"
      ]
     },
     "execution_count": 32,
     "metadata": {},
     "output_type": "execute_result"
    }
   ],
   "source": [
    "stat = pd.DataFrame()\n",
    "for i in range(140):\n",
    "    df = train[i].describe()\n",
    "    stat[i] = df\n",
    "\n",
    "stat"
   ]
  },
  {
   "cell_type": "code",
   "execution_count": 33,
   "metadata": {},
   "outputs": [],
   "source": [
    "mean = sorted(np.array(stat.iloc[1,:].copy()))\n",
    "stdev = sorted(np.array(stat.iloc[2,:].copy()))\n",
    "fit1 = stats.norm.pdf(mean, np.mean(mean), np.std(mean))\n",
    "fit2 = stats.norm.pdf(stdev, np.mean(stdev), np.std(stdev))"
   ]
  },
  {
   "cell_type": "code",
   "execution_count": 34,
   "metadata": {},
   "outputs": [
    {
     "data": {
      "image/png": "[encoded data removed]",
      "text/plain": [
       "<Figure size 432x288 with 1 Axes>"
      ]
     },
     "metadata": {
      "needs_background": "light"
     },
     "output_type": "display_data"
    },
    {
     "data": {
      "image/png": "[encoded data removed]",
      "text/plain": [
       "<Figure size 432x288 with 1 Axes>"
      ]
     },
     "metadata": {
      "needs_background": "light"
     },
     "output_type": "display_data"
    }
   ],
   "source": [
    "pl.plot(mean,fit1,color='blue')\n",
    "pl.hist(mean,density=True,color='grey')\n",
    "pl.title('time series mean histogram')\n",
    "pl.xlabel('mean')\n",
    "pl.show()\n",
    "pl.close()\n",
    "pl.plot(stdev,fit2,color='blue')\n",
    "pl.hist(stdev,density=True,color='grey')\n",
    "pl.title('time series standard deviation histogram')\n",
    "pl.xlabel('standard deviation')\n",
    "pl.show()\n",
    "pl.close()"
   ]
  },
  {
   "cell_type": "code",
   "execution_count": null,
   "metadata": {},
   "outputs": [],
   "source": []
  }
 ],
 "metadata": {
  "kernelspec": {
   "display_name": "Python 3.7.11 ('project')",
   "language": "python",
   "name": "python3"
  },
  "language_info": {
   "codemirror_mode": {
    "name": "ipython",
    "version": 3
   },
   "file_extension": ".py",
   "mimetype": "text/x-python",
   "name": "python",
   "nbconvert_exporter": "python",
   "pygments_lexer": "ipython3",
   "version": "3.7.11"
  },
  "orig_nbformat": 4,
  "vscode": {
   "interpreter": {
    "hash": "18a46b09d8b5007ad203393c38eafdf4de27c3b599b3a12b5895b76fe193b14c"
   }
  }
 },
 "nbformat": 4,
 "nbformat_minor": 2
}
